{
 "cells": [
  {
   "cell_type": "code",
   "execution_count": 30,
   "id": "af79be8d",
   "metadata": {},
   "outputs": [],
   "source": [
    "# 실습 패키지\n",
    "from sklearn.datasets import load_boston\n",
    "\n",
    "# 기계학습 모델 구축 및 평가 패키지\n",
    "\n",
    "import scipy as sp\n",
    "import scipy.stats as stats\n",
    "\n",
    "import statsmodels.api as sm\n",
    "from statsmodels.formula.api import ols\n",
    "\n",
    "from sklearn.model_selection import train_test_split\n",
    "from sklearn.metrics import mean_squared_error, r2_score, mean_absolute_error\n",
    "\n",
    "# 데이터 시각화 패키지\n",
    "\n",
    "import seaborn as sns\n",
    "import matplotlib.pyplot as plt\n",
    "import matplotlib.font_manager as fm\n",
    "\n",
    "# 한글 폰트 설정\n",
    "\n",
    "plt.rc('font',family = 'Malgun Gothic')"
   ]
  },
  {
   "cell_type": "code",
   "execution_count": 31,
   "id": "954c855c",
   "metadata": {},
   "outputs": [],
   "source": [
    "import numpy as np\n",
    "import pandas as pd\n",
    "import matplotlib.pyplot as plt\n",
    "import seaborn as sns\n",
    "\n",
    "import warnings\n",
    "warnings.filterwarnings(action=\"ignore\")\n",
    "\n",
    "import matplotlib.font_manager as fm\n",
    "font_name = fm.FontProperties(fname=\"C:/Windows/Fonts/malgun.ttf\").get_name()\n",
    "plt.rc(\"font\", family=font_name)\n",
    "\n",
    "import matplotlib as mpl\n",
    "mpl.rcParams[\"axes.unicode_minus\"] = False\n",
    "\n",
    "import tensorflow as tf\n",
    "\n",
    "import warnings\n",
    "warnings.filterwarnings(action=\"ignore\")"
   ]
  },
  {
   "cell_type": "code",
   "execution_count": 32,
   "id": "69ca3211",
   "metadata": {},
   "outputs": [
    {
     "data": {
      "text/html": [
       "<div>\n",
       "<style scoped>\n",
       "    .dataframe tbody tr th:only-of-type {\n",
       "        vertical-align: middle;\n",
       "    }\n",
       "\n",
       "    .dataframe tbody tr th {\n",
       "        vertical-align: top;\n",
       "    }\n",
       "\n",
       "    .dataframe thead th {\n",
       "        text-align: right;\n",
       "    }\n",
       "</style>\n",
       "<table border=\"1\" class=\"dataframe\">\n",
       "  <thead>\n",
       "    <tr style=\"text-align: right;\">\n",
       "      <th></th>\n",
       "      <th>height</th>\n",
       "      <th>weight</th>\n",
       "    </tr>\n",
       "  </thead>\n",
       "  <tbody>\n",
       "    <tr>\n",
       "      <th>0</th>\n",
       "      <td>65.78</td>\n",
       "      <td>112.99</td>\n",
       "    </tr>\n",
       "    <tr>\n",
       "      <th>1</th>\n",
       "      <td>71.52</td>\n",
       "      <td>136.49</td>\n",
       "    </tr>\n",
       "    <tr>\n",
       "      <th>2</th>\n",
       "      <td>69.40</td>\n",
       "      <td>153.03</td>\n",
       "    </tr>\n",
       "    <tr>\n",
       "      <th>3</th>\n",
       "      <td>68.22</td>\n",
       "      <td>142.34</td>\n",
       "    </tr>\n",
       "    <tr>\n",
       "      <th>4</th>\n",
       "      <td>67.79</td>\n",
       "      <td>144.30</td>\n",
       "    </tr>\n",
       "    <tr>\n",
       "      <th>...</th>\n",
       "      <td>...</td>\n",
       "      <td>...</td>\n",
       "    </tr>\n",
       "    <tr>\n",
       "      <th>195</th>\n",
       "      <td>65.80</td>\n",
       "      <td>120.84</td>\n",
       "    </tr>\n",
       "    <tr>\n",
       "      <th>196</th>\n",
       "      <td>66.11</td>\n",
       "      <td>115.78</td>\n",
       "    </tr>\n",
       "    <tr>\n",
       "      <th>197</th>\n",
       "      <td>68.24</td>\n",
       "      <td>128.30</td>\n",
       "    </tr>\n",
       "    <tr>\n",
       "      <th>198</th>\n",
       "      <td>68.02</td>\n",
       "      <td>127.47</td>\n",
       "    </tr>\n",
       "    <tr>\n",
       "      <th>199</th>\n",
       "      <td>71.39</td>\n",
       "      <td>127.88</td>\n",
       "    </tr>\n",
       "  </tbody>\n",
       "</table>\n",
       "<p>200 rows × 2 columns</p>\n",
       "</div>"
      ],
      "text/plain": [
       "     height  weight\n",
       "0     65.78  112.99\n",
       "1     71.52  136.49\n",
       "2     69.40  153.03\n",
       "3     68.22  142.34\n",
       "4     67.79  144.30\n",
       "..      ...     ...\n",
       "195   65.80  120.84\n",
       "196   66.11  115.78\n",
       "197   68.24  128.30\n",
       "198   68.02  127.47\n",
       "199   71.39  127.88\n",
       "\n",
       "[200 rows x 2 columns]"
      ]
     },
     "execution_count": 32,
     "metadata": {},
     "output_type": "execute_result"
    }
   ],
   "source": [
    "df = pd.read_csv(\"../pythonwork/ai/data/data1/heights.csv\")\n",
    "df"
   ]
  },
  {
   "cell_type": "markdown",
   "id": "93441793",
   "metadata": {},
   "source": [
    "# 데이터 세트 나누기 X,y"
   ]
  },
  {
   "cell_type": "code",
   "execution_count": 33,
   "id": "072f861c",
   "metadata": {},
   "outputs": [],
   "source": [
    "X = pd.DataFrame(df, columns=['height'])\n",
    "y = pd.DataFrame(df, columns=['weight'])"
   ]
  },
  {
   "cell_type": "markdown",
   "id": "17f69ec1",
   "metadata": {},
   "source": [
    "# Train / test 나누기"
   ]
  },
  {
   "cell_type": "code",
   "execution_count": 34,
   "id": "5f85d5dd",
   "metadata": {},
   "outputs": [],
   "source": [
    "X_train,X_test,y_train,y_test = train_test_split(X,y,test_size=0.2, random_state=2022)"
   ]
  },
  {
   "cell_type": "markdown",
   "id": "dd91a8c5",
   "metadata": {},
   "source": [
    "#  선형회귀 모델 가정 확인하기"
   ]
  },
  {
   "cell_type": "code",
   "execution_count": 35,
   "id": "aee9950d",
   "metadata": {},
   "outputs": [],
   "source": [
    "X_train =sm.add_constant(X_train)\n",
    "\n",
    "model = sm.OLS(y_train,X_train, axis=1)\n",
    "\n",
    "model_trained =model.fit()"
   ]
  },
  {
   "cell_type": "markdown",
   "id": "708be29b",
   "metadata": {},
   "source": [
    "### 4.1 확률 오차의 정규성확인"
   ]
  },
  {
   "cell_type": "code",
   "execution_count": 36,
   "id": "bbc402bc",
   "metadata": {},
   "outputs": [
    {
     "data": {
      "image/png": "[encoded data removed]",
      "text/plain": [
       "<Figure size 864x864 with 1 Axes>"
      ]
     },
     "metadata": {
      "needs_background": "light"
     },
     "output_type": "display_data"
    }
   ],
   "source": [
    "model_residuals = model_trained.resid\n",
    "\n",
    "plt.rcParams['axes.unicode_minus'] =False # 음수 폰트 깨짐방지\n",
    "fig, ax = plt.subplots(1, 1)\n",
    "fig.set_figheight(12)\n",
    "fig.set_figwidth(12)\n",
    "\n",
    "sm.ProbPlot(model_residuals).qqplot(line=\"s\",color='#1f77b4',ax=ax)\n",
    "ax.title.set_text('QQ Plot')"
   ]
  },
  {
   "cell_type": "markdown",
   "id": "1c0bdee7",
   "metadata": {},
   "source": [
    "### 4.2 확률오차의 등분산성 확인"
   ]
  },
  {
   "cell_type": "code",
   "execution_count": 37,
   "id": "95f88bab",
   "metadata": {},
   "outputs": [
    {
     "data": {
      "text/plain": [
       "[Text(0.5, 0, 'Fitted values'), Text(0, 0.5, 'Residuals')]"
      ]
     },
     "execution_count": 37,
     "metadata": {},
     "output_type": "execute_result"
    },
    {
     "data": {
      "image/png": "[encoded data removed]",
      "text/plain": [
       "<Figure size 864x576 with 1 Axes>"
      ]
     },
     "metadata": {
      "needs_background": "light"
     },
     "output_type": "display_data"
    }
   ],
   "source": [
    "model_fitted_y = model_trained.fittedvalues\n",
    "\n",
    "fig, ax = plt.subplots(1, 1)\n",
    "fig.set_figheight(8)\n",
    "fig.set_figwidth(12)\n",
    "\n",
    "\n",
    "sns.residplot(model_fitted_y,y_train, data=X_train, lowess=True, scatter_kws={'alpha':0.5},\n",
    "             line_kws={'color':'red'},ax=ax)\n",
    "\n",
    "ax.title.set_text(\"Residuals vs Fitted\")\n",
    "ax.set(xlabel='Fitted values', ylabel='Residuals')"
   ]
  },
  {
   "cell_type": "markdown",
   "id": "a076baa7",
   "metadata": {},
   "source": [
    "### 4.3 통계적으로 해석하기 \n",
    "\n",
    "+ R-squared (결정계수,coefficient of determination): 모형의 성능\n",
    "+ coef(회귀계수): X가 한단위 증가할때 Y의 변화량\n",
    "+ P >[t] (p-values): 0.05(유의수준) 이하 일때 변수가 유의미"
   ]
  },
  {
   "cell_type": "code",
   "execution_count": 38,
   "id": "057d16b5",
   "metadata": {},
   "outputs": [
    {
     "name": "stdout",
     "output_type": "stream",
     "text": [
      "                            OLS Regression Results                            \n",
      "==============================================================================\n",
      "Dep. Variable:                 weight   R-squared:                       0.358\n",
      "Model:                            OLS   Adj. R-squared:                  0.354\n",
      "Method:                 Least Squares   F-statistic:                     88.28\n",
      "Date:                Sun, 13 Feb 2022   Prob (F-statistic):           6.17e-17\n",
      "Time:                        21:17:15   Log-Likelihood:                -582.06\n",
      "No. Observations:                 160   AIC:                             1168.\n",
      "Df Residuals:                     158   BIC:                             1174.\n",
      "Df Model:                           1                                         \n",
      "Covariance Type:            nonrobust                                         \n",
      "==============================================================================\n",
      "                 coef    std err          t      P>|t|      [0.025      0.975]\n",
      "------------------------------------------------------------------------------\n",
      "const       -107.9970     25.118     -4.300      0.000    -157.606     -58.388\n",
      "height         3.4689      0.369      9.396      0.000       2.740       4.198\n",
      "==============================================================================\n",
      "Omnibus:                        0.027   Durbin-Watson:                   1.738\n",
      "Prob(Omnibus):                  0.986   Jarque-Bera (JB):                0.009\n",
      "Skew:                           0.003   Prob(JB):                        0.996\n",
      "Kurtosis:                       2.964   Cond. No.                     2.34e+03\n",
      "==============================================================================\n",
      "\n",
      "Notes:\n",
      "[1] Standard Errors assume that the covariance matrix of the errors is correctly specified.\n",
      "[2] The condition number is large, 2.34e+03. This might indicate that there are\n",
      "strong multicollinearity or other numerical problems.\n"
     ]
    }
   ],
   "source": [
    "print(model_trained.summary())"
   ]
  },
  {
   "cell_type": "code",
   "execution_count": 39,
   "id": "0568d301",
   "metadata": {},
   "outputs": [
    {
     "name": "stdout",
     "output_type": "stream",
     "text": [
      "                            OLS Regression Results                            \n",
      "==============================================================================\n",
      "Dep. Variable:                 weight   R-squared:                       0.358\n",
      "Model:                            OLS   Adj. R-squared:                  0.354\n",
      "Method:                 Least Squares   F-statistic:                     88.28\n",
      "Date:                Sun, 13 Feb 2022   Prob (F-statistic):           6.17e-17\n",
      "Time:                        21:19:13   Log-Likelihood:                -582.06\n",
      "No. Observations:                 160   AIC:                             1168.\n",
      "Df Residuals:                     158   BIC:                             1174.\n",
      "Df Model:                           1                                         \n",
      "Covariance Type:            nonrobust                                         \n",
      "==============================================================================\n",
      "                 coef    std err          t      P>|t|      [0.025      0.975]\n",
      "------------------------------------------------------------------------------\n",
      "const       -107.9970     25.118     -4.300      0.000    -157.606     -58.388\n",
      "height         3.4689      0.369      9.396      0.000       2.740       4.198\n",
      "==============================================================================\n",
      "Omnibus:                        0.027   Durbin-Watson:                   1.738\n",
      "Prob(Omnibus):                  0.986   Jarque-Bera (JB):                0.009\n",
      "Skew:                           0.003   Prob(JB):                        0.996\n",
      "Kurtosis:                       2.964   Cond. No.                     2.34e+03\n",
      "==============================================================================\n",
      "\n",
      "Notes:\n",
      "[1] Standard Errors assume that the covariance matrix of the errors is correctly specified.\n",
      "[2] The condition number is large, 2.34e+03. This might indicate that there are\n",
      "strong multicollinearity or other numerical problems.\n"
     ]
    }
   ],
   "source": [
    "model = sm.OLS(y_train, X_train)\n",
    "\n",
    "model_trained = model.fit()\n",
    "\n",
    "print(model_trained.summary())"
   ]
  },
  {
   "cell_type": "markdown",
   "id": "401bc4b2",
   "metadata": {},
   "source": [
    "### 4.3 예측 : 미래의 반응변수 값 예측하기"
   ]
  },
  {
   "cell_type": "code",
   "execution_count": 55,
   "id": "c75c7dcc",
   "metadata": {},
   "outputs": [
    {
     "data": {
      "image/png": "[encoded data removed]",
      "text/plain": [
       "<Figure size 576x576 with 1 Axes>"
      ]
     },
     "metadata": {
      "needs_background": "light"
     },
     "output_type": "display_data"
    }
   ],
   "source": [
    "y_train_pred = model_trained.fittedvalues\n",
    "\n",
    "plt.figure(figsize=(8,8))\n",
    "plt.title('실제 값vs 모델 출력 값')\n",
    "plt.scatter(y_train,y_train_pred)\n",
    "plt.plot([],[], ls=\"--\",c='red')\n",
    "plt.xlabel('실제 값',size=16)\n",
    "plt.ylabel('모델 출력 값',size=16)\n",
    "plt.xlim()\n",
    "plt.ylim()\n",
    "plt.show()"
   ]
  },
  {
   "cell_type": "code",
   "execution_count": 41,
   "id": "cec19757",
   "metadata": {},
   "outputs": [],
   "source": [
    "X_test = sm.add_constant(X_test)"
   ]
  },
  {
   "cell_type": "code",
   "execution_count": 43,
   "id": "0a127f60",
   "metadata": {},
   "outputs": [
    {
     "data": {
      "text/plain": [
       "58     122.196386\n",
       "22     112.206076\n",
       "184    121.745434\n",
       "131    139.089721\n",
       "98     123.618617\n",
       "dtype: float64"
      ]
     },
     "execution_count": 43,
     "metadata": {},
     "output_type": "execute_result"
    }
   ],
   "source": [
    "y_test_pred = model_trained.predict(X_test)\n",
    "\n",
    "y_test_pred.head(5)"
   ]
  },
  {
   "cell_type": "markdown",
   "id": "8a836800",
   "metadata": {},
   "source": [
    "### 4.3.1 Mean Squared Error (평균 제곱 오차)"
   ]
  },
  {
   "cell_type": "code",
   "execution_count": 50,
   "id": "9f620cfc",
   "metadata": {},
   "outputs": [
    {
     "name": "stdout",
     "output_type": "stream",
     "text": [
      "153.86965606916937\n"
     ]
    }
   ],
   "source": [
    "print(mean_squared_error(y_test, y_test_pred))"
   ]
  },
  {
   "cell_type": "markdown",
   "id": "b6373c2f",
   "metadata": {},
   "source": [
    "### 4.3.2 Root Mean Squared Error (제곱급 평균 제곱 오차)"
   ]
  },
  {
   "cell_type": "code",
   "execution_count": 51,
   "id": "93cb9d6c",
   "metadata": {},
   "outputs": [
    {
     "name": "stdout",
     "output_type": "stream",
     "text": [
      "12.404420827639207\n"
     ]
    }
   ],
   "source": [
    "print(np.sqrt(mean_squared_error(y_test, y_test_pred)))"
   ]
  },
  {
   "cell_type": "markdown",
   "id": "6b8a6b9c",
   "metadata": {},
   "source": [
    "### 4.3.3 Mean Absolute Error (평균 절대 오차)"
   ]
  },
  {
   "cell_type": "code",
   "execution_count": 46,
   "id": "015f68d6",
   "metadata": {},
   "outputs": [
    {
     "name": "stdout",
     "output_type": "stream",
     "text": [
      "10.026921476863796\n"
     ]
    }
   ],
   "source": [
    "print(mean_absolute_error(y_test, y_test_pred))"
   ]
  },
  {
   "cell_type": "markdown",
   "id": "50f83d84",
   "metadata": {},
   "source": [
    "### 4.3.4 Mean Absolute Percentage Error (평균 절대 백분율 오차)"
   ]
  },
  {
   "cell_type": "code",
   "execution_count": 52,
   "id": "d695437c",
   "metadata": {},
   "outputs": [
    {
     "name": "stdout",
     "output_type": "stream",
     "text": [
      "9.911743385605616\n"
     ]
    }
   ],
   "source": [
    "def mean_absolute_percentage_error(y_true,y_pred):\n",
    "    y_true, y_pred = np.array(y_true), np.array(y_pred)\n",
    "    return np.mean(np.abs((y_true-y_pred)/y_true))*100\n",
    "\n",
    "print(mean_absolute_percentage_error(y_test,y_test_pred))"
   ]
  },
  {
   "cell_type": "markdown",
   "id": "1265ad1c",
   "metadata": {},
   "source": [
    "### 4.3.5 squared(결정계수)"
   ]
  },
  {
   "cell_type": "code",
   "execution_count": 53,
   "id": "53fe493f",
   "metadata": {},
   "outputs": [
    {
     "name": "stdout",
     "output_type": "stream",
     "text": [
      "0.12034832543864582\n"
     ]
    }
   ],
   "source": [
    "print(r2_score(y_test,y_test_pred))\n",
    "\n",
    "# 0.4이상이면 적합함.\n",
    "\n",
    "# 즉 적합하지않은 모델임."
   ]
  },
  {
   "cell_type": "code",
   "execution_count": null,
   "id": "fbe838b3",
   "metadata": {},
   "outputs": [],
   "source": []
  }
 ],
 "metadata": {
  "kernelspec": {
   "display_name": "Python 3",
   "language": "python",
   "name": "python3"
  },
  "language_info": {
   "codemirror_mode": {
    "name": "ipython",
    "version": 3
   },
   "file_extension": ".py",
   "mimetype": "text/x-python",
   "name": "python",
   "nbconvert_exporter": "python",
   "pygments_lexer": "ipython3",
   "version": "3.8.8"
  }
 },
 "nbformat": 4,
 "nbformat_minor": 5
}
