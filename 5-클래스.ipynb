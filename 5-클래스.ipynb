{
 "cells": [
  {
   "cell_type": "markdown",
   "id": "84548993",
   "metadata": {},
   "source": [
    "## 1. 특징\n",
    "\n",
    "+ 묶음 (코드 블럭) 즉, 지금까지 묶었던걸 더 크게 묶는다.\n",
    "    - 변수(멤버 변수,속성,필드) ,함수(멤버 함수, 메서드)\n",
    "    - 여러 개의 함수를 묶어서 좀 더 큰 단위의 모듈로 관리\n",
    "    - \n",
    "\n",
    ": 콜론으로 코드를 묶어준다.\n",
    "\n",
    "+ 설계도(추상적)\n",
    "    - 인스턴스(instance), 객체(object)\n",
    "    \n",
    "+ 사용자 정의 자료형 8가지 (list dict tuple set)...\n",
    "\n",
    "+ 객체의 조건\n",
    "    - 상속성(Inheritance)\n",
    "    - 다형성(Polymorphism)\n",
    "    - 캡슐화(Encapsulation)"
   ]
  },
  {
   "cell_type": "markdown",
   "id": "e08dbbdd",
   "metadata": {},
   "source": [
    "\n",
    "## 2. 작성방법\n",
    "\n",
    "    class 이름 : \n",
    "        변수 :\n",
    "        함수 : \n",
    "        \n",
    "        \n",
    "        또는\n",
    "        \n",
    "        class 이름(...):\n",
    "            변수\n",
    "            함수 \n",
    "            \n",
    "            \n",
    "            클래스는 반드시 객체를 설계해야함."
   ]
  },
  {
   "cell_type": "code",
   "execution_count": 3,
   "id": "b5140f8f",
   "metadata": {},
   "outputs": [
    {
     "name": "stdout",
     "output_type": "stream",
     "text": [
      "10\n",
      "Test 클래스\n",
      "<class 'int'>\n"
     ]
    }
   ],
   "source": [
    "##### 인스턴스(객체)의 생성방법\n",
    "\n",
    "class Test:\n",
    "    a= 10\n",
    "    \n",
    "    def show(self):\n",
    "        return (\"Test 클래스\")\n",
    "        \n",
    "###################################################\n",
    "\n",
    "#print(Test().a)\n",
    "#print(Test().show())\n",
    "\n",
    "ob = Test()\n",
    "print(ob.a)\n",
    "print(ob.show())\n",
    "\n",
    "a= 10\n",
    "print(type(a))"
   ]
  },
  {
   "cell_type": "code",
   "execution_count": 173,
   "id": "baee54cc",
   "metadata": {},
   "outputs": [
    {
     "name": "stdout",
     "output_type": "stream",
     "text": [
      "국적: 한국\n",
      "이름: 김정호\n",
      "나이: 28\n",
      "신장: 173\n",
      "취미: ['독서', '여행']\n",
      "\n",
      "-----------절취선------------\n",
      "국적: 안산\n",
      "이름: 권유정\n",
      "나이: 21\n",
      "신장: 155\n",
      "취미: ['독서', '여행']\n",
      "\n",
      "-----------절취선------------\n",
      "국적: 유정이집\n",
      "이름: 나비\n",
      "나이: 6\n",
      "신장: 70\n",
      "취미: ['밥먹기', '잠자기']\n",
      "\n",
      "-----------절취선------------\n"
     ]
    }
   ],
   "source": [
    "##### 사용자 정의 자료형\n",
    "# 국적, 이름, 나이,신장, 취미\n",
    "\n",
    "class Person : \n",
    "    nation = \"한국\"\n",
    "    name = str()\n",
    "    age = int()\n",
    "    height = float()\n",
    "    hobbies = []\n",
    "    \n",
    "    def show(self):\n",
    "        print(\"국적:\",self.nation)\n",
    "        print(\"이름:\",self.name)\n",
    "        print(\"나이:\",self.age)\n",
    "        print(\"신장:\",self.height)\n",
    "        print(\"취미:\",self.hobbies)\n",
    "        print(\"\\n-----------절취선------------\")\n",
    "        \n",
    "#######################################################\n",
    "\n",
    "p1 = Person() #1000번지\n",
    "p2 = Person() #2000번지\n",
    "p3 = Person() #3000번지\n",
    "\n",
    "\n",
    "p1.name =\"김정호\" # .이있으면 객체를 보여주는것이다.\n",
    "p1.age = 28\n",
    "p1.height = 173\n",
    "p1.hobbies = [\"독서\",\"여행\"]\n",
    "\n",
    "p2.nation = \"안산\"\n",
    "p2.name =\"권유정\" # .이있으면 객체를 보여주는것이다.\n",
    "p2.age = 21\n",
    "p2.height = 155\n",
    "p2.hobbies = [\"독서\",\"여행\"]\n",
    "\n",
    "p3.nation = \"유정이집\"\n",
    "p3.name =\"나비\" # .이있으면 객체를 보여주는것이다.\n",
    "p3.age = 6\n",
    "p3.height = 70\n",
    "p3.hobbies = [\"밥먹기\",\"잠자기\"]\n",
    "\n",
    "데이터 = [p1,p2,p3]\n",
    "\n",
    "for i in range(len(데이터)):\n",
    "    데이터[i].show()"
   ]
  },
  {
   "cell_type": "markdown",
   "id": "450e4400",
   "metadata": {},
   "source": [
    "\n",
    "### . (1) 작성방법\n",
    "\n",
    "+ 현재 사용중인 객체의 주소를 저장하고 있는 참조 변수\n",
    "+ read only\n"
   ]
  },
  {
   "cell_type": "code",
   "execution_count": 46,
   "id": "2094b191",
   "metadata": {},
   "outputs": [],
   "source": [
    "class Test:\n",
    "    a = int()\n",
    "    b = float()\n",
    "    c = str()\n",
    "    \n",
    "    def show(self):\n",
    "        print(self.a, self.b, self.c)\n",
    "        print(\"현재 주소:\" , id(self))\n",
    "        \n",
    "    def setValue(self, a, b, c): \n",
    "        self.a = a\n",
    "        self.b = b\n",
    "        self.c = c\n",
    "        \n",
    "          #검증 또는 방어코드"
   ]
  },
  {
   "cell_type": "code",
   "execution_count": 49,
   "id": "b5f57a73",
   "metadata": {},
   "outputs": [
    {
     "name": "stdout",
     "output_type": "stream",
     "text": [
      "10 3.14 홍길동\n",
      "현재 주소: 2258033542720\n",
      "------------------------\n",
      "100 4.5 임꺽정\n",
      "현재 주소: 2258033542576\n",
      "------------------------\n",
      "173 13.5 김정호\n",
      "현재 주소: 2258033541760\n"
     ]
    }
   ],
   "source": [
    "t1 = Test()\n",
    "t2 = Test()\n",
    "t3 = Test()\n",
    "\n",
    "\n",
    "t1.a =10\n",
    "t1.b = 3.14\n",
    "t1.c = \"홍길동\"\n",
    "\n",
    "t1.show()\n",
    "\n",
    "print(\"------------------------\")\n",
    "\n",
    "t2.a = 100\n",
    "t2.b = 4.5\n",
    "t2.c = \"임꺽정\"\n",
    "\n",
    "t2.show()\n",
    "\n",
    "print(\"------------------------\")\n",
    "\n",
    "t3.setValue(173, 13.5, \"김정호\")\n",
    "t3.show()"
   ]
  },
  {
   "cell_type": "markdown",
   "id": "52b8cfd5",
   "metadata": {},
   "source": [
    "\n",
    "### (2) 생성자와(Constructor)와 소멸자(Deconstrucor)\n",
    "\n",
    "\n",
    "+ 메서드\n",
    "+ 객체(인스턴스)를 생성하는 용도\n",
    "+ 생성자의 경우 객체를 처음 만들때 호출된다.(단 한번만 호출)\n",
    "\n"
   ]
  },
  {
   "cell_type": "code",
   "execution_count": 75,
   "id": "5325ab29",
   "metadata": {},
   "outputs": [],
   "source": [
    "class Test:\n",
    "    a = int()\n",
    "    b = str()\n",
    "    \n",
    " #   def __init__(self):\n",
    " #       print(\"생성자 호출됨\") #내부적으로 처리됨, 누가 이름을 불려줌\n",
    "  #      self.a = 5\n",
    "   #     self.b= \"무명씨\"\n",
    "        \n",
    "    def __init__(self,a=30,b=\"나비코코\"):\n",
    "        self.a = a\n",
    "        self.b = b\n",
    "        \n",
    "    def __del__(self):\n",
    "        print(\"소멸자 호출\")\n",
    "        \n",
    "    def setVal(self, a, b):\n",
    "        self.a = a\n",
    "        self.b = b\n",
    "        "
   ]
  },
  {
   "cell_type": "code",
   "execution_count": 76,
   "id": "027dfe14",
   "metadata": {
    "scrolled": true
   },
   "outputs": [
    {
     "name": "stdout",
     "output_type": "stream",
     "text": [
      "소멸자 호출\n",
      "10 김정호\n",
      "-----------------------------\n",
      "소멸자 호출\n",
      "20 권유정\n",
      "-----------------------------\n",
      "소멸자 호출\n",
      "30 나비코코\n",
      "-----------------------------\n",
      "소멸자 호출\n",
      "40 권유정\n"
     ]
    }
   ],
   "source": [
    "t1 = Test()\n",
    "t1.setVal(10,\"김정호\")\n",
    "print(t1.a,t1.b)\n",
    "\n",
    "print(\"-----------------------------\")\n",
    "\n",
    "\n",
    "t2 = Test()\n",
    "t2.setVal(20,\"권유정\")\n",
    "print(t2.a,t2.b)\n",
    "\n",
    "print(\"-----------------------------\")\n",
    "\n",
    "t3 = Test()\n",
    "print(t3.a,t3.b) # 기본값으로 호출됨. 디폴트\n",
    "\n",
    "print(\"-----------------------------\")\n",
    "\n",
    "t4 = Test(40,\"권유정\")\n",
    "print(t4.a,t4.b)"
   ]
  },
  {
   "cell_type": "code",
   "execution_count": 77,
   "id": "de8fcf3d",
   "metadata": {},
   "outputs": [
    {
     "name": "stdout",
     "output_type": "stream",
     "text": [
      "소멸자 호출\n"
     ]
    }
   ],
   "source": [
    "del t4"
   ]
  },
  {
   "cell_type": "markdown",
   "id": "9aa5d636",
   "metadata": {},
   "source": [
    "### (3) static\n",
    "\n",
    "+ 인스턴스와 구별\n",
    "+ 동일한 공간을 모든 객체들이 공동으로 사용\n",
    "+ 정적(클래스)변수, 정적(클래스)메서드"
   ]
  },
  {
   "cell_type": "code",
   "execution_count": 146,
   "id": "620b29db",
   "metadata": {},
   "outputs": [],
   "source": [
    "class Person : \n",
    "    nation = \"한국\"\n",
    "    name = str()\n",
    "    age = int()\n",
    "    height = float()\n",
    "    hobbies = []\n",
    "    company = str()\n",
    "    \n",
    "    def show(self):\n",
    "        print(\"국적:\",self.nation)\n",
    "        print(\"이름:\",self.name)  #인스턴스이다. 끝에 name같은거\n",
    "        print(\"나이:\",self.age)\n",
    "        print(\"신장:\",self.height)\n",
    "        print(\"취미:\",self.hobbies)\n",
    "        #print(self.company)\n",
    "        print(\"회사명:\", Person.company)\n",
    "        print(\"\\n-----------절취선------------\")\n",
    "        \n",
    "        #스테틱인지 인스턴스인지는 주소를봐야지 구분가능?..무슨말\n",
    "        \n",
    "    @staticmethod\n",
    "    def funcCompany():\n",
    "        Person.company = \"파이썬 주식회사\"\n",
    "        return \"회사명: \" + Person.company"
   ]
  },
  {
   "cell_type": "code",
   "execution_count": 147,
   "id": "6d996e41",
   "metadata": {},
   "outputs": [
    {
     "name": "stdout",
     "output_type": "stream",
     "text": [
      "한국\n"
     ]
    }
   ],
   "source": [
    "print(Person.nation)\n"
   ]
  },
  {
   "cell_type": "code",
   "execution_count": 148,
   "id": "1ab6eb42",
   "metadata": {},
   "outputs": [
    {
     "name": "stdout",
     "output_type": "stream",
     "text": [
      "한국 한국\n",
      "독일 프랑스\n",
      "한국\n"
     ]
    }
   ],
   "source": [
    "p1 = Person()\n",
    "p2 = Person()\n",
    "\n",
    "print(p1.nation,p2.nation)\n",
    "\n",
    "p1.nation = \"독일\"\n",
    "p2.nation = \"프랑스\"\n",
    "print(p1.nation,p2.nation)\n",
    "\n",
    "print(Person.nation)"
   ]
  },
  {
   "cell_type": "code",
   "execution_count": 149,
   "id": "fac8e213",
   "metadata": {},
   "outputs": [
    {
     "name": "stdout",
     "output_type": "stream",
     "text": [
      "파이썬 주식회사 파이썬 주식회사\n",
      "국적: 독일\n",
      "이름: \n",
      "나이: 0\n",
      "신장: 0.0\n",
      "취미: []\n",
      "회사명: 파이썬 주식회사\n",
      "\n",
      "-----------절취선------------\n"
     ]
    }
   ],
   "source": [
    "Person.company = \"파이썬 주식회사\"\n",
    "\n",
    "print(p1.company, p2.company)\n",
    "p1.show()"
   ]
  },
  {
   "cell_type": "code",
   "execution_count": 150,
   "id": "a342bbf3",
   "metadata": {},
   "outputs": [
    {
     "data": {
      "text/plain": [
       "'회사명: 파이썬 주식회사'"
      ]
     },
     "execution_count": 150,
     "metadata": {},
     "output_type": "execute_result"
    }
   ],
   "source": [
    "Person.funcCompany()"
   ]
  },
  {
   "cell_type": "code",
   "execution_count": 168,
   "id": "aa6fd350",
   "metadata": {},
   "outputs": [],
   "source": [
    "#### 객체의 수를 카운팅\n",
    "\n",
    "class Counter:\n",
    "    m_cnt = 0\n",
    "    \n",
    "    def __init__(self):\n",
    "        Counter.m_cnt += 1\n",
    "    @staticmethod\n",
    "    def printCount():\n",
    "        print(\"총 객체의 수: \", Counter.m_cnt)"
   ]
  },
  {
   "cell_type": "code",
   "execution_count": 169,
   "id": "9b45c88d",
   "metadata": {},
   "outputs": [
    {
     "name": "stdout",
     "output_type": "stream",
     "text": [
      "총 객체의 수:  3\n",
      "총 객체의 수:  3\n",
      "총 객체의 수:  3\n",
      "총 객체의 수:  3\n"
     ]
    }
   ],
   "source": [
    "a, b, c = Counter(), Counter(), Counter()\n",
    "a.printCount()\n",
    "b.printCount()\n",
    "c.printCount()\n",
    "\n",
    "Counter.printCount()"
   ]
  },
  {
   "cell_type": "markdown",
   "id": "54a2e96c",
   "metadata": {},
   "source": [
    "\"\"\"\n",
    "e1 = Employee(1111, \"홍길동\", 1000000, [\"여행\", \"낚시\", \"운동\"])\n",
    "e1.display()\n",
    "\n",
    "결과 :\n",
    "    사번 : 1111\n",
    "    이름 : 홍길동\n",
    "    급여 : 1000000\n",
    "    취미 : 여행, 낚시, 운동\n",
    "    \n",
    "e2 = Employee(1112, \"임꺽정\", 1200000, [\"자전거\", \"볼링\"])\n",
    "e3 = Employee(1113, \"신돌석\", 1400000, [\"독서\"])\n",
    "\n",
    "total = Employee.getCount()\n",
    "print(\"인원수 : \", total)\n",
    "\n",
    "# 데이터 수정\n",
    "e3.setSalary(2000000)\n",
    "e3.appendHobby(\"피아노\", \"드론\")\n",
    "e3.display()\n",
    "\n",
    "결과 :\n",
    "    사번 : 1113\n",
    "    이름 : 신돌석\n",
    "    급여 : 2000000\n",
    "    취미 : 독서, 피아노, 드론\n",
    "\"\"\"\n"
   ]
  },
  {
   "cell_type": "code",
   "execution_count": 189,
   "id": "0de02b8f",
   "metadata": {},
   "outputs": [
    {
     "name": "stdout",
     "output_type": "stream",
     "text": [
      "이름: 홍길동\n",
      "사번: 1111\n",
      "급여: 1000000\n",
      "취미: ['독서', '여행', '운동']\n",
      "\n",
      "-----------절취선------------\n",
      "이름: 임꺽정\n",
      "사번: 1112\n",
      "급여: 1200000\n",
      "취미: ['자전거', '볼링']\n",
      "\n",
      "-----------절취선------------\n",
      "이름: 신돌석\n",
      "사번: 1113\n",
      "급여: 2000000\n",
      "취미: ['독서', '피아노', '드론']\n",
      "\n",
      "-----------절취선------------\n"
     ]
    }
   ],
   "source": [
    "##### 사용자 정의 자료형\n",
    "# 국적, 이름, 나이,신장, 취미\n",
    "\n",
    "class Person : \n",
    "    이름 = str()\n",
    "    사번 = int()\n",
    "    급여 = float()\n",
    "    hobbies = []\n",
    "    \n",
    "    def show(self):\n",
    "        print(\"이름:\",self.이름)\n",
    "        print(\"사번:\",self.사번)\n",
    "        print(\"급여:\",self.급여)\n",
    "        print(\"취미:\",self.hobbies)\n",
    "        print(\"\\n-----------절취선------------\")\n",
    "        \n",
    "#######################################################\n",
    "\n",
    "e1 = Person() \n",
    "e2 = Person() \n",
    "e3 = Person() \n",
    "\n",
    "e1.이름 =\"홍길동\" \n",
    "e1.사번 = 1111\n",
    "e1.급여 = 1000000\n",
    "e1.hobbies = [\"독서\",\"여행\",\"운동\"]\n",
    "\n",
    "e2.이름 =\"임꺽정\" \n",
    "e2.사번 = 1112\n",
    "e2.급여 = 1200000\n",
    "e2.hobbies = [\"자전거\",\"볼링\"]\n",
    "\n",
    "e3.이름 =\"신돌석\" \n",
    "e3.사번 = 1113\n",
    "e3.급여 = 2000000\n",
    "e3.hobbies = [\"독서\",\"피아노\",\"드론\"]\n",
    "\n",
    "데이터 = [e1,e2,e3]\n",
    "\n",
    "\n",
    "\n",
    "for i in range(len(데이터)):\n",
    "    데이터[i].show()"
   ]
  },
  {
   "cell_type": "code",
   "execution_count": 222,
   "id": "6a838d1a",
   "metadata": {},
   "outputs": [
    {
     "name": "stdout",
     "output_type": "stream",
     "text": [
      "결과 : \n",
      "    사번 : 1111\n",
      "    이름 : 홍길동\n",
      "    급여 : 1000000\n",
      "    취미 : 여행 낚시 운동\n",
      "-----------------------\n",
      "\n",
      "인원수 :  3\n",
      "-----------------------\n",
      "\n",
      "결과 : \n",
      "    사번 : 1113\n",
      "    이름 : 신돌석\n",
      "    급여 : 2000000\n",
      "    취미 : 독서 피아노 드론\n"
     ]
    }
   ],
   "source": [
    "class Employee():\n",
    "    사번 = int()\n",
    "    이름 = str()\n",
    "    급여 = int()\n",
    "    취미 = list()\n",
    "    사원수 = 0\n",
    "    \n",
    "    def __init__(self, 사번, 이름, 급여, 취미):\n",
    "        self.사번 = 사번\n",
    "        self.이름 = 이름\n",
    "        self.급여 = 급여\n",
    "        self.취미 = 취미\n",
    "        Employee.사원수 += 1\n",
    "    \n",
    "    def display(self):\n",
    "        print(f\"\"\"결과 : \n",
    "    사번 : {self.사번}\n",
    "    이름 : {self.이름}\n",
    "    급여 : {self.급여}\n",
    "    취미 :\"\"\", *self.취미)\n",
    "    \n",
    "    @staticmethod   #클래스의 인스턴스 없이 호출이 가능하며, 인스턴스에서는 호출 할 수 없다. \n",
    "\n",
    "\n",
    "    def getCount():\n",
    "        return Employee.사원수\n",
    "    \n",
    "    def setSalary(self, 급여):\n",
    "        self.급여 = 급여\n",
    "    \n",
    "    def appendHobby(self, *취미):\n",
    "        self.취미.extend(취미)\n",
    "\n",
    "e1 = Employee(1111, \"홍길동\", 1000000, [\"여행\", \"낚시\", \"운동\"])\n",
    "e1.display()\n",
    "\n",
    "print(\"-----------------------\\n\")\n",
    "\n",
    "e2 = Employee(1112, \"임꺽정\", 1200000, [\"자전거\", \"볼링\"])\n",
    "e3 = Employee(1113, \"신돌석\", 1400000, [\"독서\"])\n",
    "\n",
    "total = Employee.getCount()\n",
    "print(\"인원수 : \", total)\n",
    "\n",
    "print(\"-----------------------\\n\")\n",
    "\n",
    "# 데이터 수정\n",
    "e3.setSalary(2000000)\n",
    "e3.appendHobby(\"피아노\", \"드론\")\n",
    "e3.display()"
   ]
  },
  {
   "cell_type": "markdown",
   "id": "39cf7071",
   "metadata": {},
   "source": [
    "----\n",
    "\n",
    " ### (4) 원래 설계된 멤버변수외에 객체별로 멤버변수를 추가할 수있다.\n",
    " \n",
    " ###### 클래스는 반드시 객체를 생성에서 사용해야한다.\n",
    " ###### 임시로 사용하는것."
   ]
  },
  {
   "cell_type": "code",
   "execution_count": 328,
   "id": "fa0ad5c1",
   "metadata": {},
   "outputs": [],
   "source": [
    "class Test:\n",
    "    a = 0\n",
    "    \n",
    "    def display(self):\n",
    "        print(self.a)"
   ]
  },
  {
   "cell_type": "code",
   "execution_count": 331,
   "id": "2de4b478",
   "metadata": {},
   "outputs": [
    {
     "name": "stdout",
     "output_type": "stream",
     "text": [
      "0\n",
      "0\n",
      "10 100\n"
     ]
    }
   ],
   "source": [
    "\n",
    "#객체 생성\n",
    "ob1 = Test() \n",
    "ob1.display()\n",
    "#객체 생성\n",
    "ob2 = Test()\n",
    "ob2.display()\n",
    "\n",
    "\n",
    "ob2.a = 10\n",
    "ob2.b = 100\n",
    "print(ob2.a,ob2.b)\n",
    "\n",
    "#ob1 에는 없다."
   ]
  },
  {
   "cell_type": "markdown",
   "id": "3dcc4d6d",
   "metadata": {},
   "source": [
    "### (5) _ 와  __ \n",
    "\n",
    "+ 기본 인터프리터에서 사용(마지막으로 실행된 값을 불러오기)\n",
    "+ 값을 무시\n",
    "+ 접근 권한"
   ]
  },
  {
   "cell_type": "code",
   "execution_count": 30,
   "id": "9c871f56",
   "metadata": {},
   "outputs": [
    {
     "name": "stdout",
     "output_type": "stream",
     "text": [
      "10 30\n"
     ]
    }
   ],
   "source": [
    "_,b,c = (10,20,30)\n",
    "a ,_, c= (10,20,30)\n",
    "\n",
    "\n",
    "print(a,c)\n",
    "\n"
   ]
  },
  {
   "cell_type": "code",
   "execution_count": 333,
   "id": "23a5976d",
   "metadata": {},
   "outputs": [
    {
     "name": "stdout",
     "output_type": "stream",
     "text": [
      "10 60\n"
     ]
    }
   ],
   "source": [
    "a, _,_,_,_, b = (10, 20, 30, 40, 50, 60)\n",
    "#a,*_, b = (10, 20, 30, 40, 50, 60)\n",
    "\n",
    "print(a,b)"
   ]
  },
  {
   "cell_type": "code",
   "execution_count": 341,
   "id": "6461a720",
   "metadata": {},
   "outputs": [],
   "source": [
    "\n",
    "        \n",
    "class Test:\n",
    "    str1 = \"안녕하세요!!\"\n",
    "    _str2 = \"홍길동입니다.\"\n",
    "    __str3 = \"이것은 건드리지 마세요\"\n",
    "    \n",
    "    def __funcTest(self):\n",
    "        print(\"funcTest 입니다.\", self.str1)\n",
    "        \n",
    "    def setStr3(self, a):\n",
    "        self.__str3 = a\n",
    "        \n",
    "    def getStr3(self):\n",
    "        return self.__str3"
   ]
  },
  {
   "cell_type": "code",
   "execution_count": 342,
   "id": "27728904",
   "metadata": {},
   "outputs": [
    {
     "name": "stdout",
     "output_type": "stream",
     "text": [
      "안녕하세요!!\n",
      "홍길동입니다.\n",
      "임꺽정입니다.\n",
      "['_Test__funcTest', '_Test__str3', '__class__', '__delattr__', '__dict__', '__dir__', '__doc__', '__eq__', '__format__', '__ge__', '__getattribute__', '__gt__', '__hash__', '__init__', '__init_subclass__', '__le__', '__lt__', '__module__', '__ne__', '__new__', '__reduce__', '__reduce_ex__', '__repr__', '__setattr__', '__sizeof__', '__str__', '__subclasshook__', '__weakref__', '_str2', 'getStr3', 'setStr3', 'str1']\n",
      "이것은 건드리지 마세요\n",
      "funcTest 입니다. 안녕하세요!!\n",
      "수정하였음...\n"
     ]
    }
   ],
   "source": [
    "ob1 = Test()\n",
    "print(ob1.str1)\n",
    "\n",
    "print(ob1._str2)\n",
    "ob1._str2 = \"임꺽정입니다.\"\n",
    "print(ob1._str2)\n",
    "\n",
    "# print(ob1.__str3)\n",
    "print(dir(ob1))\n",
    "print(ob1._Test__str3)\n",
    "\n",
    "ob1._Test__funcTest()\n",
    "\n",
    "ob1.setStr3(\"수정하였음...\")\n",
    "print(ob1.getStr3())\n"
   ]
  },
  {
   "cell_type": "markdown",
   "id": "8b20b946",
   "metadata": {},
   "source": [
    "## 3. 상속(Inheritance) \n",
    "## 자식 클래스를 쓰는게 나음.\n",
    "\n",
    "    - abc\n",
    "abc - ab\n",
    "    - ab\n",
    "    - ab\n",
    "    - abc\n",
    "    \n",
    "    최소한의 기능을 만들어야한다.\n",
    "    abc x\n",
    "    ab o\n",
    "    \n",
    "+ 상속 설계시 고려할 점\n",
    "    - 부모 클래스는 최소한의 코드로 작성(모든 자식들이 공통적으로 필요로 하는것들로 구성)\n",
    "    - 상속받는 자식 클래스는 반드시 기능을 추가 (확장) 시켜야한다.\n",
    "    \n",
    "    +Override(재정의), Overload(중복정의)\n",
    "    \n",
    "    둘다 다형성을 지닌다.\n",
    "    \n",
    "    재정의는 상속에서만 쓴다 중복정의는 상관없다.\n",
    "    \n",
    "    a\n",
    "    1.a\n",
    "    2.a\n",
    "    3.a \n",
    "    같은 이름으로 함수를 여러개 만든다 중복정의!"
   ]
  },
  {
   "cell_type": "code",
   "execution_count": 375,
   "id": "f0b4af90",
   "metadata": {},
   "outputs": [],
   "source": [
    "class Human:\n",
    "    def move(self):\n",
    "        print(\"섹스한다.\")\n",
    "               \n",
    "class yujeong(Human) :\n",
    "    def bark(self):\n",
    "        print(\"앙앙\")\n",
    "    \n",
    "class jeongho(Human):\n",
    "    def speed(self,s):\n",
    "        print(\"거칠게\",s)"
   ]
  },
  {
   "cell_type": "code",
   "execution_count": 376,
   "id": "fd22efe6",
   "metadata": {},
   "outputs": [
    {
     "name": "stdout",
     "output_type": "stream",
     "text": [
      "앙앙\n",
      "섹스한다.\n",
      "거칠게 3\n",
      "섹스한다.\n"
     ]
    }
   ],
   "source": [
    "d1 = yujeong()\n",
    "d1.bark()\n",
    "d1.move()\n",
    "\n",
    "d2 = jeongho()\n",
    "d2.speed(3)\n",
    "d2.move()\n"
   ]
  },
  {
   "cell_type": "code",
   "execution_count": 382,
   "id": "4086d647",
   "metadata": {},
   "outputs": [],
   "source": [
    "class Calculator:\n",
    "    first = 0\n",
    "    second = 0\n",
    "    \n",
    "    def __init__(self, first=None, second=None):\n",
    "        self.first = first\n",
    "        self.second = second\n",
    "        \n",
    "    def setData(self, first=None, second=None):\n",
    "        self.first = first\n",
    "        self.second = second\n",
    "        \n",
    "    def sum(self):\n",
    "        return self.first + self.second\n",
    "    def div(self):\n",
    "        return self.first / self.second\n",
    "    def mul(self):\n",
    "        return self.first * self.second\n",
    "    def sub(self):\n",
    "        return self.first - self.second\n",
    "    \n",
    "\n",
    "class Calculator2(Calculator):   #상속받은거\n",
    "    def pow(self):\n",
    "        return self.first ** self.second\n",
    "\n",
    "\n",
    "    \n",
    "    #init 은 초기설정 해주는것.\n",
    "    #setData 매개변수 "
   ]
  },
  {
   "cell_type": "code",
   "execution_count": 383,
   "id": "71821ad4",
   "metadata": {},
   "outputs": [
    {
     "name": "stdout",
     "output_type": "stream",
     "text": [
      "30\n",
      "600\n",
      "2500\n",
      "52\n",
      "100\n",
      "25.0\n",
      "48\n"
     ]
    }
   ],
   "source": [
    "cal1 = Calculator()\n",
    "cal1.setData(10,20)\n",
    "print(cal1.sum())\n",
    "\n",
    "cal2 = Calculator(20,30)\n",
    "print(cal2.mul())\n",
    "\n",
    "cal3 = Calculator2(50,2)\n",
    "print(cal3.pow())\n",
    "print(cal3.sum())\n",
    "print(cal3.mul())\n",
    "print(cal3.div())\n",
    "print(cal3.sub())"
   ]
  },
  {
   "cell_type": "code",
   "execution_count": null,
   "id": "f5897ca1",
   "metadata": {},
   "outputs": [],
   "source": [
    "\n"
   ]
  },
  {
   "cell_type": "code",
   "execution_count": 385,
   "id": "cb820ce4",
   "metadata": {},
   "outputs": [],
   "source": [
    "#### super()\n",
    "\n",
    "class Person:                           #부모\n",
    "    say = \"난 사람이다.\"\n",
    "    age = 20\n",
    "    \n",
    "    def info(self):\n",
    "        print(\"나이:{},하고 싶은말 :{}\".format(self.age,self.say))\n",
    "        \n",
    "    def __init__(self):\n",
    "        print(\"Person 클래스\")\n",
    "        \n",
    "        \n",
    "class Employee(Person):                #자식\n",
    "    def __init__(self):\n",
    "        print(\"Employee 클래스\")\n",
    "        \n",
    "        say= \"난 회사원이다\"\n",
    "        \n",
    "        def info(self):\n",
    "            print(self.say)\n",
    "            print(self.age)\n",
    "            print(super().say)\n",
    "            super().info()"
   ]
  },
  {
   "cell_type": "code",
   "execution_count": 386,
   "id": "5254764e",
   "metadata": {},
   "outputs": [
    {
     "name": "stdout",
     "output_type": "stream",
     "text": [
      "Employee 클래스\n",
      "나이:20,하고 싶은말 :난 사람이다.\n"
     ]
    }
   ],
   "source": [
    "e2 = Employee()\n",
    "e2.info()"
   ]
  },
  {
   "cell_type": "markdown",
   "id": "eea4dd6d",
   "metadata": {},
   "source": [
    "# 4.다중 상속\n",
    "            "
   ]
  },
  {
   "cell_type": "code",
   "execution_count": 390,
   "id": "00e2e8b1",
   "metadata": {},
   "outputs": [],
   "source": [
    "class Phone:\n",
    "    def call(self):\n",
    "        print(\"전화걸기\")\n",
    "        \n",
    "class Camera:\n",
    "    def picture(self):\n",
    "        print(\"사진 찍기\")\n",
    "        \n",
    "class Game:\n",
    "    def rendering(self):\n",
    "        print(\"화면 그리기\")\n",
    "        \n",
    "class reservation:\n",
    "    def 여기어때(self):\n",
    "        print(\"예약완료\")\n",
    "        \n",
    "\n",
    "        \n",
    "class SmartPhone(Phone,Camera,Game,reservation):\n",
    "    pass"
   ]
  },
  {
   "cell_type": "code",
   "execution_count": 392,
   "id": "00ec2992",
   "metadata": {},
   "outputs": [
    {
     "name": "stdout",
     "output_type": "stream",
     "text": [
      "전화걸기\n",
      "사진 찍기\n",
      "화면 그리기\n",
      "예약완료\n"
     ]
    }
   ],
   "source": [
    "sp = SmartPhone()\n",
    "sp.call()\n",
    "sp.picture()\n",
    "sp.rendering()\n",
    "sp.여기어때()"
   ]
  },
  {
   "cell_type": "markdown",
   "id": "c08ee5d4",
   "metadata": {},
   "source": [
    "# 5.object\n",
    " + 파이썬"
   ]
  },
  {
   "cell_type": "code",
   "execution_count": 216,
   "id": "a265f4ef",
   "metadata": {},
   "outputs": [
    {
     "name": "stdout",
     "output_type": "stream",
     "text": [
      "['__class__', '__delattr__', '__dir__', '__doc__', '__eq__', '__format__', '__ge__', '__getattribute__', '__gt__', '__hash__', '__init__', '__init_subclass__', '__le__', '__lt__', '__ne__', '__new__', '__reduce__', '__reduce_ex__', '__repr__', '__setattr__', '__sizeof__', '__str__', '__subclasshook__']\n"
     ]
    }
   ],
   "source": [
    "print(dir(object))"
   ]
  },
  {
   "cell_type": "code",
   "execution_count": 218,
   "id": "5ea28f02",
   "metadata": {},
   "outputs": [],
   "source": [
    "class Test:\n",
    "    a= 10"
   ]
  },
  {
   "cell_type": "code",
   "execution_count": 219,
   "id": "42d816b3",
   "metadata": {},
   "outputs": [
    {
     "name": "stdout",
     "output_type": "stream",
     "text": [
      "['__class__', '__delattr__', '__dict__', '__dir__', '__doc__', '__eq__', '__format__', '__ge__', '__getattribute__', '__gt__', '__hash__', '__init__', '__init_subclass__', '__le__', '__lt__', '__module__', '__ne__', '__new__', '__reduce__', '__reduce_ex__', '__repr__', '__setattr__', '__sizeof__', '__str__', '__subclasshook__', '__weakref__', 'a']\n"
     ]
    }
   ],
   "source": [
    "print(dir(Test))"
   ]
  },
  {
   "cell_type": "markdown",
   "id": "321df8a3",
   "metadata": {},
   "source": [
    "# 6.고급함수"
   ]
  },
  {
   "cell_type": "markdown",
   "id": "f45c8179",
   "metadata": {},
   "source": [
    "#### (1) 변수의 생존 범위 : global,nonlocal"
   ]
  },
  {
   "cell_type": "code",
   "execution_count": 228,
   "id": "535b9bf4",
   "metadata": {},
   "outputs": [
    {
     "name": "stdout",
     "output_type": "stream",
     "text": [
      "전국대표\n",
      "지역 대표\n"
     ]
    }
   ],
   "source": [
    "player = \"전국대표\" #(전역함수)\n",
    "\n",
    "def funcSoccer():#(지역변수)\n",
    "    global player # global 을 붙여주면 바뀜.\n",
    "    \n",
    "    name = \"홍길동\"\n",
    "    player = \"지역 대표\"\n",
    "    \n",
    "    \n",
    "###########################################\n",
    "\n",
    "print(player)\n",
    "funcSoccer()\n",
    "print(player)"
   ]
  },
  {
   "cell_type": "code",
   "execution_count": 395,
   "id": "429ec3b0",
   "metadata": {},
   "outputs": [
    {
     "name": "stdout",
     "output_type": "stream",
     "text": [
      "100\n",
      "kbs2 함수 내부: 2\n",
      "kbs1 함수 내부: 1\n",
      "2\n"
     ]
    }
   ],
   "source": [
    "a = 100\n",
    "\n",
    "def kbs1():\n",
    "    a=1\n",
    "    \n",
    "    def kbs2():\n",
    "        global a\n",
    "        #nonlocal a\n",
    "        a = 2\n",
    "        print(\"kbs2 함수 내부:\",a)  #kbs2 안에서만쓸수잇는변수 \n",
    "    kbs2()\n",
    "    print(\"kbs1 함수 내부:\",a)\n",
    "####################################\n",
    "\n",
    "print(a)\n",
    "kbs1()\n",
    "print(a)"
   ]
  },
  {
   "cell_type": "markdown",
   "id": "9c54df10",
   "metadata": {},
   "source": [
    "#### (2) 클로저(Closer)\n",
    "+ 함수 밖에서 임의의 함수 안에 선언된 지역변수를 계속 참조할 수 있게하는 방법"
   ]
  },
  {
   "cell_type": "code",
   "execution_count": 8,
   "id": "9f33565d",
   "metadata": {},
   "outputs": [
    {
     "name": "stdout",
     "output_type": "stream",
     "text": [
      "1\n",
      "2\n",
      "3\n"
     ]
    }
   ],
   "source": [
    "count = 0 \n",
    "\n",
    "\n",
    "def out():\n",
    "    count = 0\n",
    "    \n",
    "    \n",
    "    def inn():\n",
    "        global count\n",
    "        #nonlocal count\n",
    "        \n",
    "        \n",
    "        count += 1\n",
    "        print(count)\n",
    "        \n",
    "    inn()\n",
    "    \n",
    " ##########################\n",
    "\n",
    "out()\n",
    "out()\n",
    "out()"
   ]
  },
  {
   "cell_type": "code",
   "execution_count": 10,
   "id": "2dc4d929",
   "metadata": {},
   "outputs": [
    {
     "name": "stdout",
     "output_type": "stream",
     "text": [
      "1\n",
      "2\n",
      "3\n",
      "1\n",
      "2\n",
      "3\n"
     ]
    }
   ],
   "source": [
    "def out():\n",
    "    count = 0\n",
    "    \n",
    "    \n",
    "    def inn():\n",
    "        #global count\n",
    "        nonlocal count\n",
    "        \n",
    "        \n",
    "        count += 1\n",
    "        print(count)\n",
    "        \n",
    "    return inn\n",
    "    \n",
    " ##########################\n",
    "\n",
    "a = out()\n",
    "a()\n",
    "a()\n",
    "a()\n",
    "\n",
    "b= out()\n",
    "b()\n",
    "b()\n",
    "b()"
   ]
  },
  {
   "cell_type": "code",
   "execution_count": 7,
   "id": "574ac736",
   "metadata": {},
   "outputs": [
    {
     "name": "stdout",
     "output_type": "stream",
     "text": [
      "2500.0\n",
      "3600.0\n",
      "1250.0\n"
     ]
    }
   ],
   "source": [
    "def outer(tax):\n",
    "    def inner(su, dan):\n",
    "        amount = su * dan * tax\n",
    "        return amount\n",
    "    \n",
    "    return inner\n",
    "\n",
    "####################################\n",
    "\n",
    "\n",
    "tax_rate = outer(0.1)\n",
    "mouse = tax_rate(5, 5000)\n",
    "print(mouse)\n",
    "\n",
    "usb = tax_rate(3, 12000)\n",
    "print(usb)\n",
    "\n",
    "tax_rate2 = outer(0.05)\n",
    "mouse = tax_rate2(5, 5000)\n",
    "print(mouse)"
   ]
  },
  {
   "cell_type": "markdown",
   "id": "4c7a5a10",
   "metadata": {},
   "source": [
    "https://www.mysql.com/\n",
    "\n",
    "MySQL Community Server\n",
    "\n",
    "go to 다운로더 페이지\n",
    "\n",
    "450mb 짜리 다운받기"
   ]
  },
  {
   "cell_type": "markdown",
   "id": "5788482f",
   "metadata": {},
   "source": [
    "#### (3) 람다 함수(무명 함수,익명 함수)"
   ]
  },
  {
   "cell_type": "code",
   "execution_count": 83,
   "id": "fa077a36",
   "metadata": {},
   "outputs": [
    {
     "name": "stdout",
     "output_type": "stream",
     "text": [
      "200\n"
     ]
    }
   ],
   "source": [
    "def hap(x, y):\n",
    "    return x * y\n",
    "\n",
    "result = hap(10, 20)\n",
    "print(result)"
   ]
  },
  {
   "cell_type": "code",
   "execution_count": 85,
   "id": "a3d22c1f",
   "metadata": {},
   "outputs": [
    {
     "data": {
      "text/plain": [
       "200"
      ]
     },
     "execution_count": 85,
     "metadata": {},
     "output_type": "execute_result"
    }
   ],
   "source": [
    "#불필요한걸 줄여준다.\n",
    "(lambda x,y : x*y )(10,20)\n"
   ]
  },
  {
   "cell_type": "code",
   "execution_count": 97,
   "id": "ddc61306",
   "metadata": {},
   "outputs": [
    {
     "name": "stdout",
     "output_type": "stream",
     "text": [
      "600\n",
      "110\n"
     ]
    }
   ],
   "source": [
    "add = (lambda x=10,y=11 : x*y )\n",
    "\n",
    "print(add(20,30))\n",
    "\n",
    "#만약 y에 디폴트값 10을 주면\n",
    "\n",
    "print(add())\n",
    "\n",
    "#add로 주소를 저장시켜놨기 때문에 계속 add 위에 함수를 사용가능하다.\n"
   ]
  },
  {
   "cell_type": "code",
   "execution_count": 21,
   "id": "2ee05ebc",
   "metadata": {},
   "outputs": [
    {
     "data": {
      "text/plain": [
       "70"
      ]
     },
     "execution_count": 21,
     "metadata": {},
     "output_type": "execute_result"
    }
   ],
   "source": [
    "add(30,40) #이런식으로 얼마나 간단한가?"
   ]
  },
  {
   "cell_type": "code",
   "execution_count": 111,
   "id": "13b924d9",
   "metadata": {},
   "outputs": [
    {
     "name": "stdout",
     "output_type": "stream",
     "text": [
      "1 (2, 3, 4) {'x': 5, 'm': 6, 'n': 7, 'o': 8}\n",
      "1 (2, 3, 4) {'x': 5, 'm': 6, 'n': 7, 'o': 8}\n"
     ]
    }
   ],
   "source": [
    "def func_test(a,*b,**c):\n",
    "    print(a,b,c)\n",
    "    \n",
    "    #별 한개는 튜플 , 별두개는 딕션\n",
    "    \n",
    "###########################\n",
    "\n",
    "\n",
    "func_test(1, 2, 3, 4, x=5, m=6, n=7, o=8)\n",
    "\n",
    "\n",
    "(lambda a,*b,**c: print(a,b,c))(1, 2, 3, 4, x=5, m=6, n=7, o=8)"
   ]
  },
  {
   "cell_type": "code",
   "execution_count": 114,
   "id": "d00c21ae",
   "metadata": {},
   "outputs": [
    {
     "name": "stdout",
     "output_type": "stream",
     "text": [
      "[1, 4, 3, 16, 5]\n"
     ]
    },
    {
     "ename": "TypeError",
     "evalue": "'list' object is not callable",
     "output_type": "error",
     "traceback": [
      "\u001b[1;31m---------------------------------------------------------------------------\u001b[0m",
      "\u001b[1;31mTypeError\u001b[0m                                 Traceback (most recent call last)",
      "\u001b[1;32m<ipython-input-114-673b3e695862>\u001b[0m in \u001b[0;36m<module>\u001b[1;34m\u001b[0m\n\u001b[0;32m     17\u001b[0m \u001b[1;31m##################################\u001b[0m\u001b[1;33m\u001b[0m\u001b[1;33m\u001b[0m\u001b[1;33m\u001b[0m\u001b[0m\n\u001b[0;32m     18\u001b[0m \u001b[1;33m\u001b[0m\u001b[0m\n\u001b[1;32m---> 19\u001b[1;33m \u001b[0mprint\u001b[0m\u001b[1;33m(\u001b[0m\u001b[0mlist\u001b[0m\u001b[1;33m(\u001b[0m\u001b[0mmap\u001b[0m\u001b[1;33m(\u001b[0m\u001b[0mfunc_test\u001b[0m\u001b[1;33m,\u001b[0m \u001b[0mex\u001b[0m\u001b[1;33m)\u001b[0m\u001b[1;33m)\u001b[0m\u001b[1;33m)\u001b[0m\u001b[1;33m\u001b[0m\u001b[1;33m\u001b[0m\u001b[0m\n\u001b[0m\u001b[0;32m     20\u001b[0m \u001b[1;33m\u001b[0m\u001b[0m\n\u001b[0;32m     21\u001b[0m \u001b[1;31m##################################\u001b[0m\u001b[1;33m\u001b[0m\u001b[1;33m\u001b[0m\u001b[1;33m\u001b[0m\u001b[0m\n",
      "\u001b[1;31mTypeError\u001b[0m: 'list' object is not callable"
     ]
    }
   ],
   "source": [
    "ex = [1,2,3,4,5]\n",
    "\n",
    "def fun_test(x):\n",
    "    if x % 2!=0:\n",
    "         return x **2\n",
    "    else :\n",
    "        return x\n",
    "    \n",
    "############################### for in 리스트반복 ex의 결과를 append 시킨다 \n",
    "\n",
    "\n",
    "result =[]\n",
    "for i in ex:\n",
    "    result.append(fun_test(i))\n",
    "    \n",
    "print(result)\n",
    "\n",
    "#################################\n",
    "\n",
    "map(fun_test,ex)\n",
    "print(list(map(fun_test,ex)))\n",
    "\n",
    "#################################\n",
    "\n",
    "print(list(map((lambda x: x**2 if x%2!= 0 else x),ex)))"
   ]
  },
  {
   "cell_type": "markdown",
   "id": "c687c897",
   "metadata": {},
   "source": [
    "#### (4)함수 장식자(decorator)\n",
    "\n",
    "+ 일종의 함수 감싸기(wrapping)를 해주는 디자인 패턴\n",
    "+ 메타 프로그래밍 기법\n",
    "+ @staticmethod, @classmethod ,@abstract, ...."
   ]
  },
  {
   "cell_type": "code",
   "execution_count": 1,
   "id": "3fce1d0e",
   "metadata": {},
   "outputs": [
    {
     "name": "stdout",
     "output_type": "stream",
     "text": [
      "안녕권유정python\n"
     ]
    }
   ],
   "source": [
    "\n",
    "def make2(fn):\n",
    "    return lambda : \"안녕\" + fn()\n",
    "\n",
    "\n",
    "\n",
    "def make1(fn):\n",
    "    return lambda : \"권유정\" + fn()\n",
    "    \n",
    "    \n",
    "\n",
    "def hello():\n",
    "    return \"python\"\n",
    "\n",
    "\n",
    "#################################\n",
    "\n",
    "#make1(hello)()\n",
    "#m1()\n",
    "\n",
    "make2(make1(hello))()\n",
    "print(make2(make1(hello))())"
   ]
  },
  {
   "cell_type": "code",
   "execution_count": 54,
   "id": "867e33f8",
   "metadata": {},
   "outputs": [
    {
     "data": {
      "text/plain": [
       "'안녕반가워홍길동'"
      ]
     },
     "execution_count": 54,
     "metadata": {},
     "output_type": "execute_result"
    }
   ],
   "source": [
    "def make2(fn):\n",
    "    return lambda : \"안녕\" + fn()\n",
    "\n",
    "\n",
    "\n",
    "def make1(fn):\n",
    "    return lambda : \"반가워\" + fn()\n",
    "    \n",
    "    \n",
    "\n",
    "def hello():\n",
    "    return \"홍길동\"\n",
    "\n",
    "\n",
    "#################################\n",
    "\n",
    "#make1(hello)()\n",
    "#m1()\n",
    "\n",
    "make2(make1(hello))()"
   ]
  },
  {
   "cell_type": "code",
   "execution_count": 123,
   "id": "f10c79a0",
   "metadata": {},
   "outputs": [
    {
     "name": "stdout",
     "output_type": "stream",
     "text": [
      "안녕반가워홍길동\n"
     ]
    }
   ],
   "source": [
    "def make2(fn):\n",
    "    return lambda : \"안녕\" + fn()\n",
    "\n",
    "\n",
    "\n",
    "def make1(fn):\n",
    "    return lambda : \"반가워\" + fn()\n",
    "    \n",
    "\n",
    "    #선언해주는 기능 데코레이트\n",
    "@make2\n",
    "@make1\n",
    "def hello():\n",
    "    return \"홍길동\"\n",
    "\n",
    "\n",
    "#################################\n",
    "\n",
    "#make1(hello)()\n",
    "#m1()\n",
    "\n",
    "print(hello())"
   ]
  },
  {
   "cell_type": "code",
   "execution_count": 128,
   "id": "9989f196",
   "metadata": {},
   "outputs": [
    {
     "name": "stdout",
     "output_type": "stream",
     "text": [
      "결과는 30 이다.\n"
     ]
    }
   ],
   "source": [
    "def outer(fn):\n",
    "    def inner(n1, n2):\n",
    "        print(\"결과는 {} 이다.\".format(fn(n1, n2)))\n",
    "        \n",
    "    return inner\n",
    "\n",
    "@outer\n",
    "def func(n1, n2):\n",
    "    return n1 + n2\n",
    "#####################################################\n",
    "\n",
    "# result = outer(func)\n",
    "# result(10, 20)\n",
    "\n",
    "func(10, 20)"
   ]
  },
  {
   "cell_type": "code",
   "execution_count": null,
   "id": "e7bdb27e",
   "metadata": {},
   "outputs": [],
   "source": []
  },
  {
   "cell_type": "code",
   "execution_count": null,
   "id": "37b13f1a",
   "metadata": {},
   "outputs": [],
   "source": []
  },
  {
   "cell_type": "code",
   "execution_count": null,
   "id": "d0d308a1",
   "metadata": {},
   "outputs": [],
   "source": []
  },
  {
   "cell_type": "code",
   "execution_count": null,
   "id": "377cf6bc",
   "metadata": {},
   "outputs": [],
   "source": []
  }
 ],
 "metadata": {
  "kernelspec": {
   "display_name": "Python 3",
   "language": "python",
   "name": "python3"
  },
  "language_info": {
   "codemirror_mode": {
    "name": "ipython",
    "version": 3
   },
   "file_extension": ".py",
   "mimetype": "text/x-python",
   "name": "python",
   "nbconvert_exporter": "python",
   "pygments_lexer": "ipython3",
   "version": "3.8.8"
  }
 },
 "nbformat": 4,
 "nbformat_minor": 5
}
