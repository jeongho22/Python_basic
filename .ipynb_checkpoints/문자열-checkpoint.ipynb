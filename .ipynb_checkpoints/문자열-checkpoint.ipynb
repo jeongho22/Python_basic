{
 "cells": [
  {
   "cell_type": "code",
   "execution_count": 15,
   "id": "64298ec0",
   "metadata": {},
   "outputs": [
    {
     "name": "stdout",
     "output_type": "stream",
     "text": [
      "23\n",
      "3\n",
      "---------------------------------------------------\n",
      "a김정호b김정호c김정호d김정호e김정호f김정호g\n",
      "---------------------------------------------------\n",
      "['홍길동', '홍경래', '홍장군', '임경업', '신돌석']\n",
      "---------------------------------------------------\n",
      "0 17 -1\n",
      "1 17\n",
      "---------------------------------------------------\n",
      "                권유정\n",
      "권유정\n",
      "권유정 이랑 하고싶다\n",
      "사랑해, 유정!\n",
      "권유정 보고싶다.\n",
      "삼억이천이백오십만원\n"
     ]
    }
   ],
   "source": [
    "#### 문자열 함수 str1 = 문자함수\n",
    "\n",
    "# count()\n",
    "\n",
    "str1 = \"홍기동, 홍경래, 홍장군, 임경업, 신돌석\"\n",
    "\n",
    "print(len(str1)) # 문자 길이를 구하시오 len\n",
    "print(str1.count(\"홍\")) # 홍의 갯수를 구하시오\n",
    "print(\"---------------------------------------------------\")\n",
    "\n",
    "# join()\n",
    "str1 = \"abcdefg\" \n",
    "print(\"김정호\".join(str1)) #문자 사이에 join하여 .를 넣으시오\n",
    "\n",
    "print(\"---------------------------------------------------\")\n",
    "\n",
    "# split() :가 사라짐 여기서\n",
    "\n",
    "str1 = \"홍길동:홍경래:홍장군:임경업:신돌석\"\n",
    "print(str1.split(\":\"))\n",
    "\n",
    "print(\"---------------------------------------------------\")\n",
    "\n",
    "# find(), index()\n",
    "print(str1.find(\"홍\") , str1.find(\"돌\"), str1.find(\"권\"))            # 여기서 find 는 글자가없다고 오류가 뜨진 않지만    \n",
    "                                                                          #index는 오류가 뜨게 된다.\n",
    "print(str1.index(\"길\"), str1.index(\"돌\")), #str1.index((\"권\"))\n",
    "\n",
    "print(\"---------------------------------------------------\")\n",
    "\n",
    "# lstrip() , rstrip() , strip()\n",
    "\n",
    "str1 = \"                권유정\"                        # lstrip 은 왼쪽을 없애준다! L\n",
    "print(str1)\n",
    "print(str1.lstrip())                                   # strip 는 둘다.\n",
    "\n",
    "str1 = \"권유정 이랑 하고싶다.,\"                        # retrip는 오른쪽을 없애준다 ! R\n",
    "print(str1.rstrip(\".,\"))\n",
    "\n",
    "# replace(), [maketrans(), translate()]\n",
    "str1 =\"사랑해, World!\"\n",
    "print(str1.replace(\"World\",\"유정\"))                   # str 문자열을 replace로 다른 단어로 대체해준다.\n",
    "\n",
    "str1 = \"3억2천2백5십만원\"\n",
    "print(str1.replace(\"3억2천2백5십만원\",\"권유정 보고싶다.\")) #  단어 전체를 바꾸는것. replace\n",
    "\n",
    "print(str1.translate(str1.maketrans(\"123456789\",\"일이삼사오육칠팔구\"))) # 문자열을 한꺼번에 치환하는방법 1-일 2-이 3-삼\n",
    "\n",
    "#트렌스레이트 메이크트랜스"
   ]
  },
  {
   "cell_type": "code",
   "execution_count": 54,
   "id": "36edc30e",
   "metadata": {},
   "outputs": [
    {
     "name": "stdout",
     "output_type": "stream",
     "text": [
      "현재 온도는 18도입니다.\n",
      "현재 온도는 69도입니다. 그리고 오늘의 날씨는 유정입니다.\n",
      "유정님의 결과 : 6 / 9 = 0.666666667 입니다.\n",
      "\n",
      "------------------------------------\n",
      "\n",
      "나눗셈의 결과 : 3/5 = 0.6입니다.\n",
      "나눗셈의 결과 : 3 / 5 =0.6 입니다. \n",
      "나눗셈의 결과 : 3 / 5 =0.6 입니다. \n",
      "나눗셈의 결과 : 3 / 5 = 0.6 입니다.\n",
      "*******나눗셈의 결과 : 3 / 5 =0.60 입니다. \n"
     ]
    }
   ],
   "source": [
    "    #### 문자열 포맷팅 : % , format()\n",
    "\n",
    "    ## %를 이용하는 방법\n",
    "    print(\"현재 온도는 18도입니다.\")\n",
    "    print(\"현재 온도는 %d도입니다. 그리고 오늘의 날씨는 %s입니다.\" %(69,\"유정\"))\n",
    "    \n",
    "    #d 숫자 , s 스펠링 \n",
    "    \n",
    "    # 나눗셈의 결과 : 3 / 5 = 0.6 입니다.\n",
    "    print(\"%s의 결과 : %d %c %d = %0.9f 입니다.\"%(\"유정님\",6,\"/\" ,9 ,(6/9)))\n",
    "    \n",
    "    # c특수문자 \n",
    "    # %0.2 소수점 몇째자리까지 알려줘야하는지?\n",
    "    \n",
    "    \n",
    "    print(\"\\n------------------------------------\\n\")\n",
    "    \n",
    "    ### format() 를 사용 하는 방법\n",
    "    print(\"나눗셈의 결과 : 3/5 = 0.6입니다.\")\n",
    "    \n",
    "    # {} 묶어주기 format\n",
    "\n",
    "    print(\"{}의 결과 : {} {} {} ={} 입니다. \".format(\"나눗셈\",3,\"/\",5,(3/5)))\n",
    "    \n",
    "    # {순서1},{순서2},{순서3},{순서4}...\n",
    "    \n",
    "    print(\"{3}의 결과 : {0} {1} {2} ={4} 입니다. \".format(3,\"/\", 5,\"나눗셈\",(3/5)))\n",
    "    \n",
    "    \n",
    "    # num 숫자 title 제목 op 특수문자 기호 result 결과\n",
    "    \n",
    "    print(\"{title}의 결과 : {num1} {op} {num2} = {result} 입니다.\"\n",
    "          .format(num1=3, op=\"/\", num2=5, title=\"나눗셈\", result=(3/5)))\n",
    "    \n",
    "    # \n",
    "    \n",
    "    \n",
    "    print(\"{3:*>10}의 결과 : {0} {1} {2} ={4:0.2f} 입니다. \".format(3,\"/\", 5,\"나눗셈\",(3/5)))"
   ]
  },
  {
   "cell_type": "code",
   "execution_count": 27,
   "id": "11f87c2e",
   "metadata": {},
   "outputs": [
    {
     "name": "stdout",
     "output_type": "stream",
     "text": [
      "True\n",
      "<class 'bool'>\n",
      "-----------------------------------------\n",
      "True True True False\n",
      "True True True False False\n",
      "False\n"
     ]
    }
   ],
   "source": [
    "a = True \n",
    "print(a)\n",
    "print(type(a))\n",
    "\n",
    "print(\"-----------------------------------------\")\n",
    "\n",
    "print(bool(10),bool(-2),bool(3.143433432),bool(0))\n",
    "print(bool(\"가\"),bool(\"가나다\"),bool(' '),bool(''),bool(None))\n",
    "a = None\n",
    "print(bool(a))"
   ]
  },
  {
   "cell_type": "markdown",
   "id": "be7599f0",
   "metadata": {},
   "source": [
    "#### (3) list\n",
    "\n",
    "+ [ ] 사용\n",
    "+ 임의의 객체를 순차적으로 저장하는 집합적 자료형(Sequence Data)\n",
    "+ 인덱스 사용\n",
    "+ mutable\n",
    "\n",
    "순차적으로 사용했다는 말은 인덱스를 사용했다는 말과 같다."
   ]
  },
  {
   "cell_type": "code",
   "execution_count": 59,
   "id": "015962dc",
   "metadata": {},
   "outputs": [
    {
     "name": "stdout",
     "output_type": "stream",
     "text": [
      "<class 'int'> <class 'list'>\n",
      "10\n",
      "11\n",
      "12\n",
      "[10, 11, 12]\n",
      "10\n",
      "11\n",
      "12\n",
      "<class 'int'>\n",
      "178 james\n",
      "<class 'str'>\n",
      "<class 'int'>\n",
      "<class 'float'>\n",
      "<class 'bool'>\n"
     ]
    }
   ],
   "source": [
    "#a = 10\n",
    "#b = 11\n",
    "#c = 12 \n",
    "\n",
    "a, b, c = 10, 11, 12 # 이건 정수이다. 타입체크 해봤을때 tpye\n",
    "\n",
    "d = [10, 11, 12] # 이건 list고 타입체크해봤을때 type\n",
    "\n",
    "print(type(a) , type(d))\n",
    "print(a)\n",
    "print(b)\n",
    "print(c)\n",
    "print(d)\n",
    "\n",
    "print(d[0]) #정수\n",
    "print(d[1]) #정수\n",
    "print(d[2]) #정수\n",
    "\n",
    "\n",
    "print(type(d[0]))\n",
    "\n",
    "e = [\"james\", 178, 3.14, True]\n",
    "\n",
    "print(e[1],e[0])\n",
    "\n",
    "print(type(e[0])) #문자\n",
    "print(type(e[1])) #숫자\n",
    "print(type(e[2])) #실수\n",
    "print(type(e[3])) #논리"
   ]
  },
  {
   "cell_type": "code",
   "execution_count": 65,
   "id": "fae7693c",
   "metadata": {},
   "outputs": [
    {
     "name": "stdout",
     "output_type": "stream",
     "text": [
      "[1, 2, 3, '가', 3.14, ['a', 'b', 'c']]\n",
      "<class 'list'>\n",
      "2\n",
      "<class 'int'>\n",
      "['a', 'b', 'c']\n",
      "<class 'list'>\n",
      "b\n",
      "<class 'str'>\n",
      "['a', 'b', 'c']\n",
      "<class 'list'>\n",
      "b\n"
     ]
    }
   ],
   "source": [
    "#### Indexing\n",
    "\n",
    "a = [1,2,3,\"가\",3.14,['a','b','c']]\n",
    "\n",
    "print(a)\n",
    "print(type(a)) #리스트\n",
    "\n",
    "print(a[1])\n",
    "print(type(a[1]))\n",
    "print(a[5])\n",
    "print(type(a[5]))\n",
    "print(a[5][1])\n",
    "print(type(a[5][1]))\n",
    "print(a[-1])\n",
    "print(type(a[-1]))\n",
    "print(a[-1][-2])\n"
   ]
  },
  {
   "cell_type": "code",
   "execution_count": 70,
   "id": "1c10c125",
   "metadata": {},
   "outputs": [
    {
     "name": "stdout",
     "output_type": "stream",
     "text": [
      "[10, 2, 3, 4, 5]\n",
      "[10, 2, 3, 4, 5]\n",
      "---------------------------------\n",
      "[10, 2, 3, 4, 5]\n",
      "[1, 2, 3, 4, 5]\n"
     ]
    }
   ],
   "source": [
    "#### 복사 (얕은 복사, 깊은 복사)\n",
    "\n",
    "a = [1,2,3,4,5]\n",
    "\n",
    "b = a\n",
    "\n",
    "b[0] = 10\n",
    "\n",
    "print(b)\n",
    "print(a)\n",
    "\n",
    "print(\"---------------------------------\")\n",
    "\n",
    "a= [1, 2, 3, 4, 5]\n",
    "\n",
    "# b = a[0:5] 부분 바꿈 이게 깊은복사.\n",
    "\n",
    "b = a[0:5] # -1 해줘야함.\n",
    "\n",
    "b[0] = 10\n",
    "\n",
    "print(b)\n",
    "print(a)"
   ]
  },
  {
   "cell_type": "code",
   "execution_count": 116,
   "id": "2c7ac21f",
   "metadata": {},
   "outputs": [
    {
     "name": "stdout",
     "output_type": "stream",
     "text": [
      "<class 'list'>\n"
     ]
    }
   ],
   "source": [
    "##### list의 생성\n",
    "\n",
    "a = []\n",
    "\n",
    "a = list()\n",
    "\n",
    "print(type(a))\n",
    "\n"
   ]
  },
  {
   "cell_type": "code",
   "execution_count": 72,
   "id": "0fe9702c",
   "metadata": {},
   "outputs": [
    {
     "name": "stdout",
     "output_type": "stream",
     "text": [
      "10 <class 'int'>\n",
      "10 <class 'str'>\n",
      "10.0 <class 'float'>\n",
      "True <class 'bool'>\n",
      "['a', 'b', 'c', '0', '1', '0'] <class 'list'>\n",
      "['abc010'] <class 'list'>\n"
     ]
    }
   ],
   "source": [
    "##### 각 자료형 함수 (참고)\n",
    "\n",
    "## bool 참거짓\n",
    "\n",
    "a = '10'\n",
    "print(int(a),type(int(a)))\n",
    "print(str(a),type(str(a)))\n",
    "print(float(a),type(float(a)))\n",
    "print(bool(a), type(bool(a)))\n",
    "\n",
    "b = 'abc010'\n",
    "\n",
    "print(list(b), type(list(b))) ## 하나하나 나눌려면 단지 괄호하나\n",
    "print(list([b]), type(list([b]))) ## 묶을려면 가로 2개"
   ]
  },
  {
   "cell_type": "code",
   "execution_count": 89,
   "id": "5a9abccf",
   "metadata": {
    "scrolled": true
   },
   "outputs": [
    {
     "name": "stdout",
     "output_type": "stream",
     "text": [
      "[1, 2, 3]\n",
      "<class 'list'>\n",
      "[1, 2, 3]\n",
      "<class 'list'>\n",
      "[0, 1, 2, 3, 4, 5, 6, 7, 8, 9]\n",
      "[-4, -3, -2, -1, 0, 1, 2, 3, 4, 5, 6, 7, 8, 9, 10, 11]\n",
      "[10, 9, 8, 7, 6, 5, 4, 3, 2, 1]\n"
     ]
    }
   ],
   "source": [
    "#### list 초기화 계산은 되지않는다.\n",
    "\n",
    "a = [1,2,3]\n",
    "print(a)\n",
    "print(type(a))\n",
    "\n",
    "b = list([1,2,3])\n",
    "print(b)\n",
    "print(type(b))\n",
    "\n",
    "c = list(range(0, 10, 1))\n",
    "print(c)\n",
    "\n",
    "d = list(range(-4,12,1))\n",
    "print(d)\n",
    "\n",
    "e = list(range(10,0, -1))\n",
    "print(e)"
   ]
  },
  {
   "cell_type": "code",
   "execution_count": 90,
   "id": "eb9f02f2",
   "metadata": {},
   "outputs": [
    {
     "name": "stdout",
     "output_type": "stream",
     "text": [
      "<class 'int'>\n",
      "[1, 2, 3, 5, 6, 7, 8]\n",
      "[1, 2, 3, 1, 2, 3, 1, 2, 3]\n",
      "6\n",
      "2hi~~\n",
      "2 hi~~\n"
     ]
    }
   ],
   "source": [
    "#### 연산가능  \n",
    "\n",
    "##[()] 하면 문자로 전화되어짐\n",
    "\n",
    "a = [1,2,3]\n",
    "b = [5,6,7,8]\n",
    "\n",
    "print(type(a[0])) #숫자\n",
    "\n",
    "print(a+b)\n",
    "print(a*3)\n",
    "print (a[0]+b[0])\n",
    "print(str(a[1])+\"hi~~\")\n",
    "print(a[1],\"hi~~\")\n",
    "\n",
    "#### 숫자와+문자 결합 4번째꺼"
   ]
  },
  {
   "cell_type": "code",
   "execution_count": 96,
   "id": "12706043",
   "metadata": {},
   "outputs": [
    {
     "name": "stdout",
     "output_type": "stream",
     "text": [
      "[1, 2, 3]\n",
      "[100, 1, 2, 3]\n",
      "[100, 1, 2, 3, 4]\n",
      "[100, 1, 2, 3, 4, 5]\n",
      "[100, 1, 2, 3, 4, 5, [6, 7, 8]]\n",
      "[100, 1, 2, 3, 4, 5, [6, 7, 8], 9, 10, 11, 12]\n"
     ]
    }
   ],
   "source": [
    "#### 추가하기 : insert(), append() , extend()\n",
    "\n",
    "a = [1,2,3]\n",
    "print(a)\n",
    "\n",
    "#원하는 위치에 지정함수\n",
    "a.insert(0,100)\n",
    "print(a)\n",
    "\n",
    "#무조건 맨 끝에 추가하는 함수\n",
    "a.append(4)\n",
    "print(a)\n",
    "\n",
    "#기존에 있는 append 를 확장한 느낌의 함수 , 반드시 list로 추가해야한다\n",
    "a.extend([5])\n",
    "print(a)\n",
    "\n",
    "a.append([6,7,8]) # append 는 괄호 있이 리스트에 들어감\n",
    "print(a)\n",
    "\n",
    "a.extend([9,10,11,12]) # extend 는 괄호 없이 리스트에 들어감.\n",
    "print(a)"
   ]
  },
  {
   "cell_type": "code",
   "execution_count": 193,
   "id": "c1a3584e",
   "metadata": {},
   "outputs": [
    {
     "name": "stdout",
     "output_type": "stream",
     "text": [
      "[1, 2, 3, 4]\n",
      "[1, 2, 3, 4]\n",
      "[1, 4, 3, 2]\n",
      "[1, 2, 3, 4]\n",
      "[4, 3, 2, 1]\n"
     ]
    }
   ],
   "source": [
    "#### 정렬 \n",
    "\n",
    "\n",
    "#원본 자체가 바뀜\n",
    "\n",
    "a = [1, 3, 4, 2]\n",
    "\n",
    "a.sort()\n",
    "print(a) #원본자체가 바뀐다.\n",
    "\n",
    "\n",
    "##원본은 그대로 있고 복사값이 바뀜\n",
    "\n",
    "\n",
    "a = [1, 4, 3, 2]\n",
    "print(sorted(a)) #복사값\n",
    "print(a) #원본값\n",
    "\n",
    "\n",
    "a = sorted(a) # 이걸 해주면 복사본이 원본이된다.\n",
    "print(a)\n",
    "\n",
    "a.reverse()\n",
    "print(a)\n"
   ]
  },
  {
   "cell_type": "code",
   "execution_count": 112,
   "id": "998287a0",
   "metadata": {},
   "outputs": [
    {
     "name": "stdout",
     "output_type": "stream",
     "text": [
      "[1, 2, 3]\n",
      "[1, 2, 1, 2, 3]\n",
      "[1, 2, 3, 4]\n",
      "[]\n",
      "\n",
      "-------------------------------\n",
      "\n",
      "3\n",
      "[1, 2]\n",
      "2\n",
      "[1]\n"
     ]
    }
   ],
   "source": [
    "##### 제거\n",
    "\n",
    "# 범위를 지정해서 제거 a[0:3] = \n",
    "\n",
    "a = [1, 2, 3, 1, 2, 3]\n",
    "\n",
    "a[0:3] = []\n",
    "print(a)\n",
    "\n",
    "# 값을 찾아서 삭제하는 방법\n",
    "\n",
    "a = [1, 2, 3, 1, 2, 3]\n",
    "\n",
    "\n",
    "#순서대로 검색하다가 첫번째 지정된 값을 삭제함\n",
    "\n",
    "a.remove(3)\n",
    "print(a)\n",
    "\n",
    "\n",
    "# 위치를 찾아서 삭제\n",
    "\n",
    "b= [1,2,3,4,5]\n",
    "\n",
    "del b[4]\n",
    "print(b)\n",
    "\n",
    "#전체 데이터 삭제\n",
    "\n",
    "a= [1,2,3,1,2,3]\n",
    "a[:]=[]\n",
    "print(a)\n",
    "\n",
    "\n",
    "print(\"\\n-------------------------------\\n\")\n",
    "\n",
    "# stack\n",
    "\n",
    "\n",
    "a= [1,2,3]        #3 - 2 - 1 순서대로 빼옴\n",
    "b= a.pop()\n",
    "print(b)\n",
    "print(a)          # a입장에서는 b에서 3을 빼가서 1,2 남음\n",
    "\n",
    "b=a.pop()\n",
    "print(b)            # b는 [1,2] 가 있음으로 b에서 또하나가 빠지면 [1]이남음\n",
    "print(a)"
   ]
  },
  {
   "cell_type": "code",
   "execution_count": 116,
   "id": "ff7f092a",
   "metadata": {},
   "outputs": [
    {
     "name": "stdout",
     "output_type": "stream",
     "text": [
      "3\n",
      "True\n",
      "False\n",
      "<class 'int'>\n"
     ]
    }
   ],
   "source": [
    "\n",
    "####### 검색\n",
    "\n",
    "a= [1,2,3,4,5]\n",
    "print(a.index(4)) #3번째 위치\n",
    "print(2 in a) # 2는 있으니 참\n",
    "print(6 in a) # 6은 없으니 펄스\n",
    "\n",
    "\n",
    "print(type(a.index(4)))\n",
    "\n",
    "#4가 3번째 위치에 있다는 소리이다!"
   ]
  },
  {
   "cell_type": "markdown",
   "id": "dd2db890",
   "metadata": {},
   "source": [
    "---\n",
    "\n",
    "### 4. tuple\n",
    "리스트와의 차이점\n",
    "+ () 사용 한다 []는 리스트\n",
    "+ immutable\n",
    "+ 패킹이 가능하다\n",
    "\n"
   ]
  },
  {
   "cell_type": "code",
   "execution_count": 125,
   "id": "1997c50d",
   "metadata": {},
   "outputs": [
    {
     "name": "stdout",
     "output_type": "stream",
     "text": [
      "('a', 'b', 'c', 'd')\n",
      "<class 'tuple'>\n",
      "4\n",
      "1\n",
      "0\n"
     ]
    }
   ],
   "source": [
    "a = ('a','b','c','d')\n",
    "\n",
    "\n",
    "\n",
    "print(a)\n",
    "\n",
    "\n",
    "print(type(a))\n",
    "\n",
    "print(len(a))\n",
    "\n",
    "print(a.count(\"d\")) # 하나 있다는뜻\n",
    "print(a.index(\"a\")) # 0번째 위치하고있다는뜻 a가"
   ]
  },
  {
   "cell_type": "code",
   "execution_count": 124,
   "id": "978cc808",
   "metadata": {},
   "outputs": [
    {
     "name": "stdout",
     "output_type": "stream",
     "text": [
      "<class 'list'>\n",
      "[1, 10, 3, 4, 5]\n",
      "<class 'tuple'>\n",
      "(1, 10, 3, 4, 5)\n"
     ]
    }
   ],
   "source": [
    "# a[1] =10\n",
    "\n",
    "b= list(a)\n",
    "\n",
    "b[1] =10\n",
    "\n",
    "\n",
    "print(type(b))\n",
    "print(b)\n",
    "\n",
    "c = tuple(b)\n",
    "print(type(c))\n",
    "print(c)\n",
    "\n",
    "\n",
    "### tuple이랑 list랑 왔다갔다 가능 ! "
   ]
  },
  {
   "cell_type": "code",
   "execution_count": 133,
   "id": "13f8398c",
   "metadata": {},
   "outputs": [
    {
     "name": "stdout",
     "output_type": "stream",
     "text": [
      "(10, 20, 30)\n",
      "<class 'tuple'>\n",
      "10 20 30\n"
     ]
    }
   ],
   "source": [
    "\n",
    "#### packing 과 unpacking \n",
    "\n",
    "a= 10,20,30\n",
    "\n",
    "print(a)\n",
    "\n",
    "print(type(a))\n",
    "\n",
    "#a1=a[0]\n",
    "#a2=a[1]\n",
    "#a3=a[2]\n",
    "\n",
    "b1,b2,b3=a\n",
    "print(b1,b2,b3)"
   ]
  },
  {
   "cell_type": "markdown",
   "id": "7f7316cd",
   "metadata": {},
   "source": [
    "---\n",
    "\n",
    "## (5) dict(dictionary)\n",
    "\n",
    "+ 순서가 없다 . 즉, 다시 말해서 index가 없다\n",
    "인덱스란 순서를 설명해주는것이니. 딕셔널리에 순서가 없으면\n",
    "당연히 인덱스는 없는것.\n",
    "\n",
    "+ {키:값,키:값,....}\n",
    "+ 키를 이용해서 값을 조회"
   ]
  },
  {
   "cell_type": "code",
   "execution_count": 134,
   "id": "1cd3ac99",
   "metadata": {},
   "outputs": [
    {
     "name": "stdout",
     "output_type": "stream",
     "text": [
      "{'name': '김정호', 'tell': '5630-9493', 'age': '28', 'home': '인천'}\n",
      "<class 'dict'>\n"
     ]
    }
   ],
   "source": [
    "a = {\"name\":\"김정호\",\"tell\":\"5630-9493\",\"age\":\"28\",\"home\":\"인천\"}\n",
    "\n",
    "print(a)\n",
    "print(type(a))"
   ]
  },
  {
   "cell_type": "code",
   "execution_count": 135,
   "id": "72ad0adf",
   "metadata": {},
   "outputs": [
    {
     "name": "stdout",
     "output_type": "stream",
     "text": [
      "김정호\n",
      "28\n",
      "5630-9493\n",
      "인천\n"
     ]
    }
   ],
   "source": [
    "print(a[\"name\"])\n",
    "print(a[\"age\"])\n",
    "print(a[\"tell\"])\n",
    "print(a[\"home\"])"
   ]
  },
  {
   "cell_type": "code",
   "execution_count": 136,
   "id": "c9ea1e53",
   "metadata": {},
   "outputs": [
    {
     "name": "stdout",
     "output_type": "stream",
     "text": [
      "dict_keys(['name', 'tell', 'age', 'home'])\n",
      "dict_values(['김정호', '5630-9493', '28', '인천'])\n",
      "dict_items([('name', '김정호'), ('tell', '5630-9493'), ('age', '28'), ('home', '인천')])\n"
     ]
    }
   ],
   "source": [
    "# 핵심키 \n",
    "# 핵심키에 들어있는 가치\n",
    "# 전부다 보여주기\n",
    "\n",
    "\n",
    "\n",
    "print(a.keys())\n",
    "print(a.values())\n",
    "print(a.items())"
   ]
  },
  {
   "cell_type": "code",
   "execution_count": 140,
   "id": "a1b24bc5",
   "metadata": {},
   "outputs": [
    {
     "name": "stdout",
     "output_type": "stream",
     "text": [
      "<class 'dict_items'>\n",
      "['name', 'tell', 'age', 'home']\n",
      "<class 'list'>\n",
      "[('name', '김정호'), ('tell', '5630-9493'), ('age', '28'), ('home', '인천')]\n",
      "<class 'list'>\n",
      "('tell', '5630-9493') 5630-9493\n"
     ]
    }
   ],
   "source": [
    "\n",
    "\n",
    "#8가지 자료형 \n",
    "#int\n",
    "#str\n",
    "#float\n",
    "#bool\n",
    "\n",
    "#list\n",
    "#tuple\n",
    "#dict\n",
    "#set\n",
    "\n",
    "\n",
    "# dict는 자동화를 위해 list 형식으로 바꿔야할 경우가 존재한다\n",
    "\n",
    "b= a.items()\n",
    "print(type(b))\n",
    "\n",
    "c = list(a)\n",
    "print(c)\n",
    "print(type(c))\n",
    "\n",
    "c = list(a.items())\n",
    "print(c)\n",
    "print(type(c))\n",
    "print(c[1],c[1][1])\n",
    "\n",
    "# 여기서  c[1] , c[1][1] 의 의미는 딕에서 첫번째 위치에 첫번째 주소 !"
   ]
  },
  {
   "cell_type": "code",
   "execution_count": 145,
   "id": "8fc75732",
   "metadata": {},
   "outputs": [
    {
     "name": "stdout",
     "output_type": "stream",
     "text": [
      "{'name': '권유정', 'tell': '9635-2364', 'age': '21', 'home': '안산', 'hobby': ['여행', '드라이브']}\n"
     ]
    }
   ],
   "source": [
    "#### 수정\n",
    "\n",
    "a[\"name\"] = \"권유정\"\n",
    "a[\"tell\"] = \"9635-2364\"\n",
    "a[\"age\"] = \"21\"\n",
    "a[\"home\"] = \"안산\"\n",
    "print(a)"
   ]
  },
  {
   "cell_type": "code",
   "execution_count": 144,
   "id": "d0309707",
   "metadata": {},
   "outputs": [
    {
     "name": "stdout",
     "output_type": "stream",
     "text": [
      "{'name': '권유정', 'tell': '9635-2364', 'age': '28', 'home': '인천', 'hobby': ['여행', '드라이브']}\n"
     ]
    }
   ],
   "source": [
    "#### 추가 [] 해야함 \n",
    "\n",
    "a[\"hobby\"] = [\"여행\",\"드라이브\"]\n",
    "print(a)"
   ]
  },
  {
   "cell_type": "code",
   "execution_count": 146,
   "id": "3a52f085",
   "metadata": {},
   "outputs": [
    {
     "name": "stdout",
     "output_type": "stream",
     "text": [
      "{'name': '권유정', 'age': '21', 'home': '안산', 'hobby': ['여행', '드라이브']}\n"
     ]
    }
   ],
   "source": [
    "#### 삭제 - 삭제는 한번만 실행해야함\n",
    "\n",
    "del a[\"tell\"]\n",
    "print(a)"
   ]
  },
  {
   "cell_type": "code",
   "execution_count": 147,
   "id": "4737fc38",
   "metadata": {},
   "outputs": [
    {
     "name": "stdout",
     "output_type": "stream",
     "text": [
      "{}\n"
     ]
    }
   ],
   "source": [
    "####전체삭제\n",
    "\n",
    "a.clear()\n",
    "print(a)"
   ]
  },
  {
   "cell_type": "code",
   "execution_count": 155,
   "id": "27d41c84",
   "metadata": {},
   "outputs": [
    {
     "name": "stdout",
     "output_type": "stream",
     "text": [
      "김정호\n",
      "5630-9493\n",
      "28\n",
      "인천\n",
      "김정호\n",
      "여행\n",
      "인천\n",
      "{'name': '김정호', 'tell': '5630-9493', 'age': '28', 'home': '인천'}\n"
     ]
    }
   ],
   "source": [
    "#### 데이터 가져오기\n",
    "\n",
    "a = {\"name\":\"김정호\",\"tell\":\"5630-9493\",\"age\":\"28\",\"home\":\"인천\"}\n",
    "\n",
    "print(a[\"name\"])\n",
    "print(a[\"tell\"])\n",
    "print(a[\"age\"])\n",
    "print(a[\"home\"])\n",
    "\n",
    "print(a.get(\"name\"))\n",
    "print(a.get(\"hobby\",\"여행\"))\n",
    "print(a.get(\"home\",\"인천\"))\n",
    "print(a)"
   ]
  },
  {
   "cell_type": "markdown",
   "id": "8f6b2aaf",
   "metadata": {},
   "source": [
    "---\n",
    "\n",
    "### (6) set\n",
    "\n",
    "+ {} 사용\n",
    "\n",
    "+ 순서가 없다.(인덱스 사용불가)\n",
    "\n",
    "+ 중복 불가\n"
   ]
  },
  {
   "cell_type": "code",
   "execution_count": 159,
   "id": "6dd298b9",
   "metadata": {},
   "outputs": [
    {
     "name": "stdout",
     "output_type": "stream",
     "text": [
      "{1, 2, 3, 4}\n",
      "<class 'set'>\n",
      "{'권유정', '김정호'}\n",
      "<class 'set'>\n"
     ]
    }
   ],
   "source": [
    "a={1,2,3,4,2,4}\n",
    "\n",
    "print(a)\n",
    "print(type(a))\n",
    "\n",
    "\n",
    "e = {\"권유정\",\"김정호\",\"권유정\"}\n",
    "\n",
    "print(e)\n",
    "print(type(e))"
   ]
  },
  {
   "cell_type": "code",
   "execution_count": 162,
   "id": "f0b9b9e4",
   "metadata": {},
   "outputs": [
    {
     "name": "stdout",
     "output_type": "stream",
     "text": [
      "3\n"
     ]
    }
   ],
   "source": [
    "#print(a[0])  할려면 변환 작업을 list로 거쳐야함\n",
    "\n",
    "b=list(a)\n",
    "print(b[2])"
   ]
  },
  {
   "cell_type": "code",
   "execution_count": 160,
   "id": "98d91e07",
   "metadata": {},
   "outputs": [
    {
     "name": "stdout",
     "output_type": "stream",
     "text": [
      "{1, 2, 3, 4, 5, 6, 7, 8, 9}\n",
      "{4, 5, 6}\n",
      "{1, 2, 3}\n",
      "{8, 9, 7}\n"
     ]
    }
   ],
   "source": [
    "##### 연산\n",
    "\n",
    "s1 = {1,2,3,4,5,6}\n",
    "s2 = {4,5,6,7,8,9}\n",
    "\n",
    "#합집합\n",
    "print(s1.union(s2))\n",
    "\n",
    "#교집합\n",
    "print(s1.intersection(s2))\n",
    "\n",
    "#차집합\n",
    "print(s1.difference(s2))\n",
    "print(s2.difference(s1))"
   ]
  },
  {
   "cell_type": "code",
   "execution_count": 163,
   "id": "56ad26cd",
   "metadata": {},
   "outputs": [
    {
     "name": "stdout",
     "output_type": "stream",
     "text": [
      "{1, 2, 3, 4, 5, 6, 7, 8}\n",
      "{1, 2, 3, 4, 5, 6, 7, 8, 11}\n",
      "{1, 3, 4, 5, 6, 7, 8, 11}\n",
      "{1, 3, 4, 5, 6, 7, 11}\n"
     ]
    }
   ],
   "source": [
    "#### GRUD\n",
    "\n",
    "#여러 개 추가\n",
    "\n",
    "s1.update({7,8})\n",
    "print(s1)\n",
    "\n",
    "# 한개 추가\n",
    "s1.add(11)\n",
    "print(s1)\n",
    "\n",
    "##삭제\n",
    "\n",
    "s1.remove(2)\n",
    "print(s1)\n",
    "\n",
    "s1.discard(8)\n",
    "print(s1)\n",
    "\n",
    "# 두개의 차이점\n",
    "\n",
    "# remove는 없는걸 삭제할려고 할때 에러가 뜬다.\n",
    "# discard는 없는걸 삭제하려고 할때 스킵 에러가 뜨진 않는다."
   ]
  },
  {
   "cell_type": "code",
   "execution_count": 170,
   "id": "5fab73a8",
   "metadata": {},
   "outputs": [
    {
     "name": "stdout",
     "output_type": "stream",
     "text": [
      "{1, 2, 3, 4, 5, 6}\n",
      "{1, 2, 3, 4, 5, 6}\n",
      "[1, 2, 3, 4, 5, 6]\n",
      "<class 'list'>\n"
     ]
    }
   ],
   "source": [
    "######## 중복된 데이터를 제거 하고 재구성\n",
    "\n",
    "#set {} 은 중복이 불가능하다\n",
    "\n",
    "a = {1,1,2,2,3,3,4,4,5,5,6}\n",
    "\n",
    "print(a)\n",
    "\n",
    "b= list(a)\n",
    "\n",
    "print(a)\n",
    "print(b)\n",
    "print(type(b))"
   ]
  },
  {
   "cell_type": "code",
   "execution_count": 175,
   "id": "5bcfd49a",
   "metadata": {},
   "outputs": [
    {
     "name": "stdout",
     "output_type": "stream",
     "text": [
      "{1, 2, 3, 4, 5}\n",
      "[1, 2, 3, 4, 5]\n"
     ]
    }
   ],
   "source": [
    "##중복을 제거하고 list 로 뽑아내기 2단계 절차를 거쳐야함.\n",
    "\n",
    "a = [1,2,3,4,4,5,2]\n",
    "\n",
    "b= set(a)\n",
    "print(b)\n",
    "\n",
    "c= list(b)\n",
    "print(c)\n",
    "\n",
    "\n"
   ]
  },
  {
   "cell_type": "markdown",
   "id": "ac8fa0fb",
   "metadata": {},
   "source": [
    "## 1. 변수(Variable) 의 정의\n",
    "\n",
    "## 2. 변수의 특징\n",
    "- 묵시적 선언\n",
    "- 동적 바인딩\n",
    "- immutable\n",
    "- 수정 가능한 분류\n",
    "   - list,dict,set\n",
    "   - 나머지 5개는 다 불가능"
   ]
  },
  {
   "cell_type": "markdown",
   "id": "ba209122",
   "metadata": {},
   "source": [
    "---\n",
    "\n",
    "## 4. Operator [우선순위가 제일중요]\n",
    "\n",
    "1) 산술 연산자\n",
    "     * / + - %(나머지) //(몫) **(거듭제곱)\n",
    "\n",
    "2) 비교 연산자 \n",
    "      > < >= <= == !=\n",
    "\n",
    "3) 논리 연산자\n",
    "\n",
    "        and or not(단항 연산자, toggle 연산자) -> 전등 스위치 하나로 두개의 기능을 수행하는걸 말함 !\n",
    "        \n",
    "        \n",
    "        \n",
    "        x y           X AND Y          XorY    not x     x^y\n",
    "        ---------------------------------------------------------\n",
    "        T T              T              T        F        F\n",
    "        T F              F              T        F        T\n",
    "        F T              F              T        T        T\n",
    "        F F              F              F        T        F\n",
    "\n",
    "4) 대입 연산자\n",
    "\n",
    "= += -= /= *= ...\n",
    "\n",
    "5) 포함 여부 연산자\n",
    "\n",
    "    in    not in \n",
    "    \n",
    "6) 비트 연산자 \n",
    "\n",
    "   &(and)       l (or)     ^(xor) -> 암호화 하거나 복호화할때 탁월\n"
   ]
  },
  {
   "cell_type": "code",
   "execution_count": 180,
   "id": "29fbb0a7",
   "metadata": {},
   "outputs": [
    {
     "name": "stdout",
     "output_type": "stream",
     "text": [
      "5\n",
      "28\n"
     ]
    }
   ],
   "source": [
    "### 대입 연산자 마지막값만 저장됌! 나머지는 garbage\n",
    "\n",
    "a = 1\n",
    "a = 3 \n",
    "a = 5\n",
    "\n",
    "print(a)\n",
    "\n",
    "# 누적의 특성을 가지고있다.b=b+3 이런느낌. b=b+5\n",
    "\n",
    "b = 1 \n",
    "b += 5\n",
    "b += 9\n",
    "b +=13\n",
    "\n",
    "print(b)"
   ]
  },
  {
   "cell_type": "code",
   "execution_count": 187,
   "id": "e4dc9a69",
   "metadata": {},
   "outputs": [
    {
     "name": "stdout",
     "output_type": "stream",
     "text": [
      "True\n",
      "True\n",
      "3\n"
     ]
    }
   ],
   "source": [
    "#### 비트 연산자\n",
    "\n",
    "a = 7\n",
    "b = 3\n",
    "\n",
    "result = a>3 and b<5 # 하나만 거짓이여도 거짓\n",
    "\n",
    "print(result)\n",
    "\n",
    "result = a>3 & b<5 # 비트 연산자\n",
    "print(result)\n",
    "\n",
    "result = a & b    # 111\n",
    "print(result)     # 011\n",
    "                  # 011"
   ]
  },
  {
   "cell_type": "code",
   "execution_count": 191,
   "id": "3457df63",
   "metadata": {},
   "outputs": [
    {
     "name": "stdout",
     "output_type": "stream",
     "text": [
      "암호화 :  656924\n",
      "\n",
      "---------------------\n",
      "\n",
      "복호화:  293411\n"
     ]
    }
   ],
   "source": [
    "data = 293411\n",
    "key = 949311\n",
    "\n",
    "encode = data ^ key\n",
    "print(\"암호화 : \", encode)\n",
    "\n",
    "print(\"\\n---------------------\\n\")\n",
    "\n",
    "decode = encode ^ key\n",
    "print (\"복호화: \", decode)"
   ]
  },
  {
   "cell_type": "code",
   "execution_count": null,
   "id": "dbfb9191",
   "metadata": {},
   "outputs": [],
   "source": []
  }
 ],
 "metadata": {
  "kernelspec": {
   "display_name": "Python 3",
   "language": "python",
   "name": "python3"
  },
  "language_info": {
   "codemirror_mode": {
    "name": "ipython",
    "version": 3
   },
   "file_extension": ".py",
   "mimetype": "text/x-python",
   "name": "python",
   "nbconvert_exporter": "python",
   "pygments_lexer": "ipython3",
   "version": "3.8.8"
  }
 },
 "nbformat": 4,
 "nbformat_minor": 5
}
