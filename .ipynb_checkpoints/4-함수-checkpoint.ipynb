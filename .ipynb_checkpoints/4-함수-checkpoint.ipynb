{
 "cells": [
  {
   "cell_type": "markdown",
   "id": "f4403ce7",
   "metadata": {},
   "source": [
    "## 1. 함수의 정의\n",
    "\n",
    "+ 일정한 작업을 수행하는 코드 블럭\n",
    "\n",
    "## 2. 함수의 장점\n",
    "\n",
    "+ 반복적인 코드를 없애주어 전체 코드의 길이를 짧게 만들어 준다 (재사용)\n",
    "\n",
    "+ 프로그램의 유지보수를 쉽게 만들어 준다.\n",
    "\n",
    "## 3. 함수의 구현\n",
    "\n",
    "        def 함수명(....)\n",
    "            코드 정의\n",
    "            ...\n",
    "            [return ...]\n",
    "            \n",
    "## 4. 함수의 호출 방식\n",
    "\n",
    "    1) 인자(인수)가 없는 방식\n",
    "    2) 인자(인수)가 있는 방식\n",
    "    3) 반환값이 있는 경우\n",
    "        -return의 두 가지 기능\n",
    "            *. 값을 반환 : 값은 1개만 반환\n",
    "            *. 함수의 강제 종료\n",
    "            \n",
    "            \n",
    "## 함수 설계\n",
    "\n",
    "+ 단일 기능\n",
    "+ 재사용성\n",
    "\n",
    "## 함수의 종류\n",
    "\n",
    "+ 사용자 정의 함수(User Define Function)\n",
    "+ 내장 함수(Built-in Function)\n",
    "+ 외장 함수(External Function)\n",
    "\n",
    "### 수업시간에 예제때 했던거 다시해보기!"
   ]
  },
  {
   "cell_type": "code",
   "execution_count": null,
   "id": "5a2b6f26",
   "metadata": {},
   "outputs": [],
   "source": []
  },
  {
   "cell_type": "code",
   "execution_count": 246,
   "id": "c24711da",
   "metadata": {},
   "outputs": [],
   "source": [
    "\n",
    "###함수 \n",
    "\n",
    "def line():\n",
    "    for v1 in range(40):\n",
    "        for v2 in range(1):\n",
    "            print(\"*\", end=\"\")\n",
    "            \n",
    "    print()"
   ]
  },
  {
   "cell_type": "code",
   "execution_count": 245,
   "id": "14d92d69",
   "metadata": {},
   "outputs": [
    {
     "name": "stdout",
     "output_type": "stream",
     "text": [
      "****************************************\n",
      "         친구관리 프로그램      \n",
      "****************************************\n",
      "1. 리스트 추가 \n",
      "2. 친구 추가\n",
      "3. 종료\n",
      "****************************************\n"
     ]
    }
   ],
   "source": [
    "line()\n",
    "print(\"         친구관리 프로그램      \")\n",
    "line()\n",
    "print(\"1. 리스트 추가 \")\n",
    "print(\"2. 친구 추가\")\n",
    "print(\"3. 종료\")\n",
    "line()"
   ]
  },
  {
   "cell_type": "code",
   "execution_count": 253,
   "id": "ae123fd8",
   "metadata": {},
   "outputs": [],
   "source": [
    "## cnt 를 매개변수라고함 !\n",
    "\n",
    "def line(cnt):\n",
    "    for v1 in range(cnt):\n",
    "        print(\"*\", end=\"\")\n",
    "        \n",
    "    print()"
   ]
  },
  {
   "cell_type": "code",
   "execution_count": 256,
   "id": "a52d08e0",
   "metadata": {},
   "outputs": [
    {
     "name": "stdout",
     "output_type": "stream",
     "text": [
      "******************************\n",
      "         친구관리 프로그램      \n",
      "******************************\n",
      "1. 리스트 추가 \n",
      "2. 친구 추가\n",
      "3. 종료\n",
      "******************************\n"
     ]
    }
   ],
   "source": [
    "#실인자 # 실인수 30 40 50 이런거 arument\n",
    "\n",
    "line(30) \n",
    "print(\"         친구관리 프로그램      \")\n",
    "line(30)\n",
    "print(\"1. 리스트 추가 \")\n",
    "print(\"2. 친구 추가\")\n",
    "print(\"3. 종료\")\n",
    "line(30)"
   ]
  },
  {
   "cell_type": "code",
   "execution_count": 261,
   "id": "dc2ad2f6",
   "metadata": {},
   "outputs": [],
   "source": [
    "def line(cnt, shape):\n",
    "    for v in range(cnt):\n",
    "        print(shape, end=\"\")\n",
    "        \n",
    "    print()"
   ]
  },
  {
   "cell_type": "code",
   "execution_count": 284,
   "id": "5d0fd98e",
   "metadata": {},
   "outputs": [
    {
     "name": "stdout",
     "output_type": "stream",
     "text": [
      "ssssssssssssssssssssssssssssss\n",
      "         친구관리 프로그램      \n",
      "------------------------------\n",
      "1. 리스트 추가 \n",
      "2. 친구 추가\n",
      "3. 종료\n",
      "==============================\n"
     ]
    }
   ],
   "source": [
    "#실인자 # 실인수 30 40 50 이런거 arument\n",
    "\n",
    "line(30,'s') \n",
    "print(\"         친구관리 프로그램      \")\n",
    "line(30, '-')\n",
    "print(\"1. 리스트 추가 \")\n",
    "print(\"2. 친구 추가\")\n",
    "print(\"3. 종료\")\n",
    "line(30,'=')"
   ]
  },
  {
   "cell_type": "code",
   "execution_count": 285,
   "id": "a753e8d1",
   "metadata": {},
   "outputs": [],
   "source": [
    "def swap(num1, num2):\n",
    "    temp = num1\n",
    "    num1 = num2\n",
    "    num2 = temp\n",
    "\n",
    "    return num1,num2 #다시 돌아가는기능"
   ]
  },
  {
   "cell_type": "code",
   "execution_count": 286,
   "id": "80cdccac",
   "metadata": {},
   "outputs": [
    {
     "name": "stdout",
     "output_type": "stream",
     "text": [
      "두수의 교환\n",
      "결과는? 30 20\n"
     ]
    }
   ],
   "source": [
    "#이런 방법 하나\n",
    "\n",
    "\n",
    "num3, num4 = 20, 30\n",
    "\n",
    "print(\"두수의 교환\")\n",
    "\n",
    "n3,n4 = swap(num3,num4)\n",
    "\n",
    "print(\"결과는?\",n3,n4)"
   ]
  },
  {
   "cell_type": "code",
   "execution_count": 322,
   "id": "edca8014",
   "metadata": {},
   "outputs": [
    {
     "name": "stdout",
     "output_type": "stream",
     "text": [
      "두 수의 교환\n",
      "결과:  5 10\n"
     ]
    }
   ],
   "source": [
    "#이런 방법 둘\n",
    "\n",
    "num1, num2 = 10, 5\n",
    "\n",
    "print(\"두 수의 교환\")\n",
    "\n",
    "temp = num1\n",
    "num1 = num2\n",
    "num2 = temp\n",
    "\n",
    "print(\"결과: \", num1,num2)"
   ]
  },
  {
   "cell_type": "code",
   "execution_count": 28,
   "id": "16bf3c96",
   "metadata": {},
   "outputs": [],
   "source": [
    "def swap(num1, num2):\n",
    "    temp = num1\n",
    "    num1 = num2\n",
    "    num2 = temp\n",
    "    \n",
    "    return num1,num2 #다시 돌아가는기능"
   ]
  },
  {
   "cell_type": "code",
   "execution_count": 31,
   "id": "5e022dd9",
   "metadata": {},
   "outputs": [
    {
     "name": "stdout",
     "output_type": "stream",
     "text": [
      "두 수의 교환\n",
      "결과:  (5, 10)\n"
     ]
    }
   ],
   "source": [
    "num1, num2 = 10, 5\n",
    "\n",
    "print(\"두 수의 교환\")\n",
    "\n",
    "#print(swap(num1, num2))\n",
    "\n",
    "print (\"결과: \",swap(num1,num2))\n"
   ]
  },
  {
   "cell_type": "markdown",
   "id": "5c3615fe",
   "metadata": {},
   "source": [
    "---\n",
    "\n",
    "### 파이썬에서 함수를 지원하기 위한 문법"
   ]
  },
  {
   "cell_type": "code",
   "execution_count": null,
   "id": "c2535ae2",
   "metadata": {},
   "outputs": [],
   "source": []
  },
  {
   "cell_type": "code",
   "execution_count": 223,
   "id": "3a5ae2bf",
   "metadata": {},
   "outputs": [
    {
     "name": "stdout",
     "output_type": "stream",
     "text": [
      "전국 대표\n",
      "홍길동 지역 대표\n",
      "지역 대표\n"
     ]
    }
   ],
   "source": [
    "#### 변수의 유효(생존) 범위 : 지역변수, 전역변수\n",
    "\n",
    "\n",
    "player = \"전국 대표\"\n",
    "\n",
    "def funcSoccer():\n",
    "    global player\n",
    "    \n",
    "    name= \"홍길동\"                 \n",
    "    player = \"지역 대표\"\n",
    "    print(name, player)\n",
    "    \n",
    "###################################\n",
    "    \n",
    "print(player)\n",
    "\n",
    "funcSoccer()\n",
    "#print(name)\n",
    "\n",
    "print(player) \n",
    "\n",
    "#가져다 쓴 함수는 맨 위에 전역함수이다\n",
    "\n",
    "#맨 아래는 글로벌 플레이어를 써서 가져온것이다."
   ]
  },
  {
   "cell_type": "code",
   "execution_count": 231,
   "id": "bc2a8137",
   "metadata": {},
   "outputs": [
    {
     "name": "stdout",
     "output_type": "stream",
     "text": [
      "*********\n",
      "***********\n",
      "안녕하세요~~김정호님\n",
      "반드시 이름을 입력해야 합니다.\n",
      "안녕하세요! 서울에 사는 김정호님... 당신의 나이는 27입니다.\n",
      "안녕하세요! 서울에 사는 김정호님... 당신의 나이는 26입니다.\n",
      "안녕하세요! 서울에 사는 김정호님... 당신의 나이는 25입니다.\n"
     ]
    }
   ],
   "source": [
    "##### default 인수\n",
    "\n",
    "def line(cnt=11):            #=10 을 찍으면 기본값으로 찍힘.\n",
    "    for v in range(cnt):\n",
    "        print(\"*\", end=\"\")\n",
    "        \n",
    "    print()\n",
    "    \n",
    "def hello1(name=None):\n",
    "    if name == None:\n",
    "        print(\"반드시 이름을 입력해야 합니다.\")\n",
    "        return\n",
    "        \n",
    "    print(\"안녕하세요~~{}님\".format(name))\n",
    "    \n",
    "def hello2(addr, name, age):\n",
    "    print(\"안녕하세요! %s에 사는 %s님... 당신의 나이는 %d입니다.\"%(addr,name, age))\n",
    "############################################# none 값이없다.\n",
    "\n",
    "line(9)\n",
    "line()\n",
    "\n",
    "hello1(\"김정호\")\n",
    "hello1()\n",
    "\n",
    "hello2(\"서울\",\"김정호\", 27)\n",
    "\n",
    "####################################################\n",
    "\n",
    "def hello3(name, age=25, addr=\"서울\"):\n",
    "    print(\"안녕하세요! %s에 사는 %s님... 당신의 나이는 %d입니다.\"%(addr,name, age))\n",
    "\n",
    "    \n",
    "hello3(\"김정호\",26)\n",
    "\n",
    "hello3(\"김정호\")\n",
    "\n",
    "#여러개의 변수가 있을때 name age addr 항상 디폴트 값은 뒤에서부터 채워줘야한다."
   ]
  },
  {
   "cell_type": "code",
   "execution_count": 248,
   "id": "eca28239",
   "metadata": {},
   "outputs": [
    {
     "name": "stdout",
     "output_type": "stream",
     "text": [
      "('김정호',) 님 안녕하세요\n",
      "('김정호', '권유정', '나비') 님 안녕하세요\n",
      "[1, 2] [3, 4] [5, 6]\n",
      "<class 'list'>\n",
      "<class 'list'>\n",
      "<class 'list'>\n",
      "<class 'tuple'>\n",
      "([1, 2], [3, 4], [5, 6])\n",
      "[1, 2] [3, 4] [5, 6]\n",
      "43 155 권유정\n",
      "{'blood': 'A', 'age': 21, 'addr': '안산', 'lovely': 'yes', 'pretty': 'yes', 'cute': 'yes'}\n",
      "60 173 김정호\n",
      "{'blood': 'B', 'age': 28, 'addr': '인천'}\n"
     ]
    }
   ],
   "source": [
    "##### 가변 인수 = 변수의 갯수가 변해도 그걸 받아줄수있는 함수\n",
    "# - * 하나 찍으면 다 받아주기 가능\n",
    "# * : 곱셉 , 반복, 매개변수(가변인수,packing) 패킹이 풀리기도함\n",
    "# ** : 거듭제곱,매개변수(가변인수,dict)\n",
    "\n",
    "def greeting(*name):\n",
    "    print(name, \"님 안녕하세요\")\n",
    "    \n",
    "##########################\n",
    "\n",
    "greeting(\"김정호\")\n",
    "greeting(\"김정호\",\"권유정\",\"나비\")\n",
    "\n",
    "####unpacking\n",
    "\n",
    "a,b,c=([1,2],[3,4],[5,6])\n",
    "print(a,b,c)\n",
    "\n",
    "print(type(a))\n",
    "print(type(b))\n",
    "print(type(c))\n",
    "print(type(d))\n",
    "\n",
    "d=([1,2],[3,4],[5,6])\n",
    "print(d)\n",
    "print(*d)\n",
    "\n",
    "\n",
    "#######################################\n",
    "\n",
    "def info(weight, height, name, **other):\n",
    "    print(weight, height, name)\n",
    "    print(other)\n",
    "    \n",
    "\n",
    "\n",
    "info(43,155,\"권유정\",blood=\"A\",age=21, addr=\"안산\" ,lovely=\"yes\",pretty=\"yes\",cute=\"yes\")\n",
    "info(60,173,\"김정호\", blood=\"B\",age=28, addr=\"인천\")"
   ]
  },
  {
   "cell_type": "markdown",
   "id": "af8f8eda",
   "metadata": {},
   "source": [
    "Built-in Function"
   ]
  },
  {
   "cell_type": "code",
   "execution_count": 92,
   "id": "ebda1fae",
   "metadata": {},
   "outputs": [
    {
     "name": "stdout",
     "output_type": "stream",
     "text": [
      "True\n",
      "False\n",
      "False\n",
      "False\n",
      "\n",
      "-------------------------------\n",
      "\n",
      "True\n",
      "True\n",
      "True\n",
      "True\n"
     ]
    }
   ],
   "source": [
    "#-----------------------------------\n",
    "# all() , any() : and, or 연산자 \n",
    "#-----------------------------------\n",
    "print(all([1,2,3,-1,-2,3.14]))\n",
    "print(all([1,2,3,-1,-2,3.14,0]))\n",
    "print(all([1,2,3,-1,-2,3.14,\"\"]))\n",
    "print(all([1,2,3,-1,-2,3.14,None]))\n",
    "\n",
    "print(\"\\n-------------------------------\\n\")\n",
    "\n",
    "\n",
    "print(any([1,2,3,-1,-2,3.14]))\n",
    "print(any([1,2,3,-1,-2,3.14,0]))\n",
    "print(any([1,2,3,-1,-2,3.14,\"\"]))\n",
    "print(any([1,2,3,-1,-2,3.14,None]))\n",
    "\n",
    "#----------------------------------------"
   ]
  },
  {
   "cell_type": "code",
   "execution_count": 256,
   "id": "74aca6a2",
   "metadata": {},
   "outputs": [
    {
     "name": "stdout",
     "output_type": "stream",
     "text": [
      "홍길동\n",
      "임꺽정\n",
      "고길동\n",
      "Tom\n",
      "장군이\n",
      "______________________________________\n",
      "0 홍길동\n",
      "1 임꺽정\n",
      "2 고길동\n",
      "3 Tom\n",
      "4 장군이\n",
      "______________________________________\n",
      "100 홍길동\n",
      "101 임꺽정\n",
      "102 고길동\n",
      "103 Tom\n",
      "104 장군이\n"
     ]
    }
   ],
   "source": [
    "#------------------------------------------\n",
    "# enumerate(iterator) : 순서가 있는 자료형을 입력받아 인덱스 값을 포함해서 리턴\n",
    "#------------------------------------------\n",
    "\n",
    "data = [\"홍길동\",\"임꺽정\",\"고길동\",\"Tom\",\"장군이\"]\n",
    "\n",
    "for v in data :\n",
    "    \n",
    "    print(v)\n",
    "    \n",
    "print(\"______________________________________\")    \n",
    "    \n",
    "for i,v in enumerate (data) :\n",
    "    print(i,v)\n",
    "    \n",
    "print(\"______________________________________\")    \n",
    "\n",
    "\n",
    "for i,v in enumerate (data, start=100) :\n",
    "    print(i,v)"
   ]
  },
  {
   "cell_type": "code",
   "execution_count": 268,
   "id": "1404c68b",
   "metadata": {},
   "outputs": [
    {
     "name": "stdout",
     "output_type": "stream",
     "text": [
      "7\n",
      "12\n",
      "<class 'int'>\n",
      "<class 'str'>\n",
      "print('안녕하세요')\n",
      "안녕하세요\n",
      "<class 'str'>\n",
      "안녕하세요\n",
      "<class 'NoneType'>\n",
      "(2, 1)\n",
      "<class 'tuple'>\n"
     ]
    }
   ],
   "source": [
    "#------------------------------------------\n",
    "# eval(expression) : 표현식을 파이썬에서 실행 가능하게 만들어주는 역할\n",
    "#------------------------------------------\n",
    "\n",
    "\n",
    "a= \"3*4\"\n",
    "\n",
    "\n",
    "print(int(a[0])+int(a[2]))\n",
    "print(eval(a)) # 문자를 계산시켜줌\n",
    "\n",
    "print(type(eval(a))) #숫자계산\n",
    "print(type(a)) # 문자\n",
    "\n",
    "b =\"print('안녕하세요')\"\n",
    "\n",
    "print(b)\n",
    "\n",
    "eval(b)\n",
    "\n",
    "\n",
    "print(type(b))\n",
    "print(type(eval(b)))\n",
    "\n",
    "\n",
    "c = \"divmod(9,4)\"\n",
    "\n",
    "print(eval(c))\n",
    "\n",
    "print(type(eval(c)))"
   ]
  },
  {
   "cell_type": "code",
   "execution_count": 270,
   "id": "5182021c",
   "metadata": {},
   "outputs": [
    {
     "name": "stdout",
     "output_type": "stream",
     "text": [
      "14\n",
      "_________________________________\n",
      "[14, 24, 34, 44, 54]\n",
      "_____________________________\n",
      "[14, 24, 34, 44, 54, 14, 24, 34, 44, 54]\n",
      "------------------------------\n",
      "14\n",
      "24\n",
      "34\n",
      "44\n",
      "54\n"
     ]
    },
    {
     "data": {
      "text/plain": [
       "[14, 24, 34, 44, 54]"
      ]
     },
     "execution_count": 270,
     "metadata": {},
     "output_type": "execute_result"
    }
   ],
   "source": [
    "#------------------------------------------ 굉장히 중요 잘나옴\n",
    "# map(function, iterator) : 집합의 각 요소가 함수에 의해 수행된 결과를 묶어서 리턴\n",
    "#------------------------------------------\n",
    "\n",
    "def calc(x) :\n",
    "    return x +4\n",
    "\n",
    "\n",
    "#########################\n",
    "\n",
    "print(calc(10))\n",
    "\n",
    "\n",
    "print(\"_________________________________\")\n",
    "data = [10,20,30,40,50]\n",
    "\n",
    "result = []\n",
    "result.append(calc(data[0]))\n",
    "result.append(calc(data[1]))\n",
    "result.append(calc(data[2]))\n",
    "result.append(calc(data[3]))\n",
    "result.append(calc(data[4]))\n",
    "\n",
    "print(result)\n",
    "\n",
    "print(\"_____________________________\")\n",
    "\n",
    "\n",
    "for v in data:\n",
    "    temp = calc(v)\n",
    "    result.append(temp)\n",
    "    \n",
    "print(result)\n",
    "\n",
    "print(\"------------------------------\")\n",
    "\n",
    "\n",
    "#map\n",
    "map(calc, data)\n",
    "\n",
    "for v in map(calc,data) :\n",
    "    print(v)\n",
    "    \n",
    "list(map(calc, data))"
   ]
  },
  {
   "cell_type": "code",
   "execution_count": 174,
   "id": "672690e3",
   "metadata": {},
   "outputs": [
    {
     "name": "stdout",
     "output_type": "stream",
     "text": [
      "('a1', 'b1', 'c1')\n",
      "('a2', 'b2', 'c2')\n",
      "('a3', 'b3', 'c3')\n",
      "------------------------------\n",
      "a1 b1 c1\n",
      "a2 b2 c2\n",
      "a3 b3 c3\n",
      "------------------------------\n",
      "0 a1 b1 c1\n",
      "1 a2 b2 c2\n",
      "2 a3 b3 c3\n"
     ]
    }
   ],
   "source": [
    "#------------------------------------------ \n",
    "# zip(iterator) : 동일한 갯수로 이루어진 자료형을 묶어주는 역할\n",
    "#------------------------------------------\n",
    "\n",
    "\n",
    "# 열과 행을 한번에 같은위치에 묶어줄수있는 역할을 해야할때가 있다\n",
    "\n",
    "\n",
    "\n",
    "\"\"\"\n",
    "0 a1 b1 c1\n",
    "1 a2 b2 c2\n",
    "2 a3 b3 c3\n",
    "\n",
    "\"\"\"\n",
    "\n",
    "d= [\"a1\", \"a2\" ,\"a3\"]\n",
    "e= [\"b1\", \"b2\", \"b3\"]\n",
    "f= [\"c1\", \"c2\", \"c3\"]\n",
    "\n",
    "\n",
    "    \n",
    "for v in zip (d,e,f) :\n",
    "    print(v)\n",
    "print(\"------------------------------\")\n",
    "\n",
    "for v in zip (d,e,f) : #언패킹 *\n",
    "    print(*v)\n",
    "print(\"------------------------------\")\n",
    "    \n",
    "for i,v in enumerate(zip(d,e,f)):   # i, 랑 enumerate 열거할때 ,1,2,3\n",
    "    print(i,*v)"
   ]
  },
  {
   "cell_type": "markdown",
   "id": "f3906204",
   "metadata": {},
   "source": [
    "### External Function\n",
    "\n",
    "+ import 모듈명\n",
    "+ C:\\anaconda3\\Lib\\site-packages"
   ]
  },
  {
   "cell_type": "code",
   "execution_count": 178,
   "id": "cca52d33",
   "metadata": {},
   "outputs": [
    {
     "name": "stdout",
     "output_type": "stream",
     "text": [
      "['__breakpointhook__', '__displayhook__', '__doc__', '__excepthook__', '__interactivehook__', '__loader__', '__name__', '__package__', '__spec__', '__stderr__', '__stdin__', '__stdout__', '__unraisablehook__', '_base_executable', '_clear_type_cache', '_current_frames', '_debugmallocstats', '_enablelegacywindowsfsencoding', '_framework', '_getframe', '_git', '_home', '_xoptions', 'addaudithook', 'api_version', 'argv', 'audit', 'base_exec_prefix', 'base_prefix', 'breakpointhook', 'builtin_module_names', 'byteorder', 'call_tracing', 'callstats', 'copyright', 'displayhook', 'dllhandle', 'dont_write_bytecode', 'exc_info', 'excepthook', 'exec_prefix', 'executable', 'exit', 'flags', 'float_info', 'float_repr_style', 'get_asyncgen_hooks', 'get_coroutine_origin_tracking_depth', 'getallocatedblocks', 'getcheckinterval', 'getdefaultencoding', 'getfilesystemencodeerrors', 'getfilesystemencoding', 'getprofile', 'getrecursionlimit', 'getrefcount', 'getsizeof', 'getswitchinterval', 'gettrace', 'getwindowsversion', 'hash_info', 'hexversion', 'implementation', 'int_info', 'intern', 'is_finalizing', 'last_traceback', 'last_type', 'last_value', 'maxsize', 'maxunicode', 'meta_path', 'modules', 'path', 'path_hooks', 'path_importer_cache', 'platform', 'prefix', 'ps1', 'ps2', 'ps3', 'pycache_prefix', 'set_asyncgen_hooks', 'set_coroutine_origin_tracking_depth', 'setcheckinterval', 'setprofile', 'setrecursionlimit', 'setswitchinterval', 'settrace', 'stderr', 'stdin', 'stdout', 'thread_info', 'unraisablehook', 'version', 'version_info', 'warnoptions', 'winver']\n",
      "-----------------------\n",
      "['C:\\\\Users\\\\김정호\\\\Desktop\\\\netsong\\\\pythonwork\\\\basic', 'C:\\\\anaconda3\\\\python38.zip', 'C:\\\\anaconda3\\\\DLLs', 'C:\\\\anaconda3\\\\lib', 'C:\\\\anaconda3', '', 'C:\\\\anaconda3\\\\lib\\\\site-packages', 'C:\\\\anaconda3\\\\lib\\\\site-packages\\\\locket-0.2.1-py3.8.egg', 'C:\\\\anaconda3\\\\lib\\\\site-packages\\\\win32', 'C:\\\\anaconda3\\\\lib\\\\site-packages\\\\win32\\\\lib', 'C:\\\\anaconda3\\\\lib\\\\site-packages\\\\Pythonwin', 'C:\\\\anaconda3\\\\lib\\\\site-packages\\\\IPython\\\\extensions', 'C:\\\\Users\\\\김정호\\\\.ipython']\n",
      "win32\n",
      "3.8.8 (default, Apr 13 2021, 15:08:03) [MSC v.1916 64 bit (AMD64)]\n"
     ]
    }
   ],
   "source": [
    "import sys\n",
    "\n",
    "print(dir(sys))\n",
    "print(\"-----------------------\")\n",
    "print(sys.path)\n",
    "print(sys.platform)\n",
    "print(sys.version)"
   ]
  },
  {
   "cell_type": "code",
   "execution_count": 179,
   "id": "41e11f33",
   "metadata": {},
   "outputs": [
    {
     "name": "stdout",
     "output_type": "stream",
     "text": [
      "['DirEntry', 'F_OK', 'MutableMapping', 'O_APPEND', 'O_BINARY', 'O_CREAT', 'O_EXCL', 'O_NOINHERIT', 'O_RANDOM', 'O_RDONLY', 'O_RDWR', 'O_SEQUENTIAL', 'O_SHORT_LIVED', 'O_TEMPORARY', 'O_TEXT', 'O_TRUNC', 'O_WRONLY', 'P_DETACH', 'P_NOWAIT', 'P_NOWAITO', 'P_OVERLAY', 'P_WAIT', 'PathLike', 'R_OK', 'SEEK_CUR', 'SEEK_END', 'SEEK_SET', 'TMP_MAX', 'W_OK', 'X_OK', '_AddedDllDirectory', '_Environ', '__all__', '__builtins__', '__cached__', '__doc__', '__file__', '__loader__', '__name__', '__package__', '__spec__', '_check_methods', '_execvpe', '_exists', '_exit', '_fspath', '_get_exports_list', '_putenv', '_unsetenv', '_wrap_close', 'abc', 'abort', 'access', 'add_dll_directory', 'altsep', 'chdir', 'chmod', 'close', 'closerange', 'cpu_count', 'curdir', 'defpath', 'device_encoding', 'devnull', 'dup', 'dup2', 'environ', 'error', 'execl', 'execle', 'execlp', 'execlpe', 'execv', 'execve', 'execvp', 'execvpe', 'extsep', 'fdopen', 'fsdecode', 'fsencode', 'fspath', 'fstat', 'fsync', 'ftruncate', 'get_exec_path', 'get_handle_inheritable', 'get_inheritable', 'get_terminal_size', 'getcwd', 'getcwdb', 'getenv', 'getlogin', 'getpid', 'getppid', 'isatty', 'kill', 'linesep', 'link', 'listdir', 'lseek', 'lstat', 'makedirs', 'mkdir', 'name', 'open', 'pardir', 'path', 'pathsep', 'pipe', 'popen', 'putenv', 'read', 'readlink', 'remove', 'removedirs', 'rename', 'renames', 'replace', 'rmdir', 'scandir', 'sep', 'set_handle_inheritable', 'set_inheritable', 'spawnl', 'spawnle', 'spawnv', 'spawnve', 'st', 'startfile', 'stat', 'stat_result', 'statvfs_result', 'strerror', 'supports_bytes_environ', 'supports_dir_fd', 'supports_effective_ids', 'supports_fd', 'supports_follow_symlinks', 'symlink', 'sys', 'system', 'terminal_size', 'times', 'times_result', 'truncate', 'umask', 'uname_result', 'unlink', 'urandom', 'utime', 'waitpid', 'walk', 'write']\n",
      "-----------------------\n",
      "C:\\Users\\김정호\\Desktop\\netsong\\pythonwork\\basic\n"
     ]
    }
   ],
   "source": [
    "import os \n",
    "\n",
    "print(dir(os))\n",
    "print(\"-----------------------\")\n",
    "print(os.getcwd())"
   ]
  },
  {
   "cell_type": "code",
   "execution_count": 186,
   "id": "b76eab8b",
   "metadata": {},
   "outputs": [
    {
     "name": "stdout",
     "output_type": "stream",
     "text": [
      "['__builtins__', '__cached__', '__doc__', '__file__', '__loader__', '__name__', '__package__', '__spec__', 'company', 'info', 'sum']\n",
      "---------------------\n",
      "30\n",
      "키: 175\n",
      "몸무게: 80\n",
      "기타 :  {'name': '김정호', 'age': 30, 'addr': '서울'}\n",
      "None\n",
      "회사명:  파이썬 주식회사\n"
     ]
    }
   ],
   "source": [
    "import mymodule\n",
    "\n",
    "print(dir(mymodule))\n",
    "\n",
    "print(\"---------------------\")\n",
    "\n",
    "print(mymodule.sum(10,20))\n",
    "print(mymodule.info(80,175,name=\"김정호\",age=30,addr=\"서울\"))\n",
    "print(\"회사명: \", mymodule.company)"
   ]
  },
  {
   "cell_type": "code",
   "execution_count": 1,
   "id": "b975040d",
   "metadata": {},
   "outputs": [
    {
     "name": "stdout",
     "output_type": "stream",
     "text": [
      "2021-09-17 , 2021 , 9 , 17\n",
      "---------------------------------------\n",
      "2021-09-17 09:35:39.865162\n",
      "---------------------------------------\n",
      "-1 day, 0:00:00\n",
      "---------------------------------------\n",
      "어제 : 2021-09-16\n",
      "---------------------------------------\n",
      "8시간전 2021-09-17 01:35:39.865162\n",
      "---------------------------------------\n",
      "091721\n",
      "<class 'str'>\n",
      "2021-09-09 09^35^39\n",
      "--------------------------------------------\n",
      "<class 'str'>\n",
      "<class 'datetime.datetime'>\n",
      "2021-05-05 11:56:57\n"
     ]
    }
   ],
   "source": [
    "import datetime\n",
    "\n",
    "# 현재 날짜\n",
    "today = datetime.date.today()\n",
    "print(today,',',today.year,\",\",today.month,\",\",today.day)\n",
    "\n",
    "\n",
    "print(\"---------------------------------------\")\n",
    "\n",
    "# 현재 시간\n",
    "ctime = datetime.datetime.today()\n",
    "print(ctime)\n",
    "\n",
    "print(\"---------------------------------------\")\n",
    "\n",
    "# 날짜와 시간을 계산\n",
    "mydays= datetime.timedelta(days = -1)\n",
    "\n",
    "print(mydays)\n",
    "\n",
    "print(\"---------------------------------------\")\n",
    "\n",
    "print(\"어제 : {}\". format(today+mydays))\n",
    "\n",
    "print(\"---------------------------------------\")\n",
    "\n",
    "myhours = datetime.timedelta(hours= -8)\n",
    "print(\"8시간전 {}\".format(ctime+myhours))\n",
    "\n",
    "print(\"---------------------------------------\")\n",
    "\n",
    "# 날짜와 시간의 형식\n",
    "print(today.strftime(\"%m%d%y\"))\n",
    "\n",
    "print(type(today.strftime(\"%m%d%y\")))\n",
    "\n",
    "print(ctime.strftime(\"%Y-%m-%m %H^%M^%S\"))\n",
    "\n",
    "print(\"--------------------------------------------\")\n",
    "\n",
    "# 날짜의 형식 변환\n",
    "# 날짜를 문자열로 : strfitme(), 문자열을 날짜로 : strptime()\n",
    "\n",
    "str1 = \"2021-5-5 11:56:57\"\n",
    "print(type(str1))\n",
    "\n",
    "d1= datetime.datetime.strptime(str1,\"%Y-%m-%d %H:%M:%S\")\n",
    "print(type(d1))\n",
    "print(d1)"
   ]
  },
  {
   "cell_type": "markdown",
   "id": "3f55dcc0",
   "metadata": {},
   "source": [
    "# 파일 처리\n",
    "\n",
    "출력 모니터(콘솔) output 표준 출력 장치\n",
    "\n",
    "입력 키보드 input 표준 입력 장치\n",
    "\n",
    "입력-> p/g ㅁ -> 출력\n",
    "\n",
    "파일             파일\n",
    "불러오기         저장\n",
    "\n",
    "1. I.O 관점\n",
    "\n",
    "2. DATA Persistence\n",
    "\n",
    "3. 사용함수\n",
    "    - open (파일명)(같은위치면 경로x, 다른위치면 경로포함,모드)\n",
    "    \n",
    "    * 모드 : r, w ,a ,rb ,wb ,ab\n",
    "    \n",
    "    - close()\n",
    "    \n",
    "    - 읽어올 때 : readline(), readlines(), read() [뒤에 두개는  전체]\n",
    "    \n",
    "    - 저장할 때 : write()\n",
    "    \n",
    "\n"
   ]
  },
  {
   "cell_type": "code",
   "execution_count": 32,
   "id": "52403f3d",
   "metadata": {},
   "outputs": [
    {
     "name": "stdout",
     "output_type": "stream",
     "text": [
      "<_io.TextIOWrapper name='mymodule.py' mode='r' encoding='cp949'>\n",
      "# mymodule.py (현재 작업위치에 저장)\n",
      "\n",
      "\n",
      "\n",
      "\n",
      "\n",
      "def sum(num1, num2):\n",
      "\n",
      "\thap = num1 + num2\n",
      "\n",
      "\treturn hap\n",
      "\n",
      "\n",
      "\n",
      "def info(weight, height,**other):\n",
      "\n",
      "\tprint(\"키:\", height)\n",
      "\n",
      "\tprint(\"몸무게:\" ,weight)\n",
      "\n",
      "\tprint(\"기타 : \", other)\n",
      "\n",
      "\n",
      "\n",
      "company = \"파이썬 주식회사\"\n"
     ]
    }
   ],
   "source": [
    "f = open(\"mymodule.py\", \"r\")\n",
    "print(f)\n",
    "\n",
    "\n",
    "#print(f.readline())\n",
    "#print(f.readline())\n",
    "#print(f.readline())\n",
    "#print(f.readline())\n",
    "#print(f.readline())\n",
    "#print(f.readline())\n",
    "\n",
    "\n",
    "while True:\n",
    "    line = f.readline()\n",
    "    \n",
    "    if line=='':                #if not line :\n",
    "        break                \n",
    "        \n",
    "        \n",
    "    print(line)\n",
    "    \n",
    "f.close()\n",
    "\n",
    "\n",
    "## ASCII 1Byte만 저장 + 1Byte = Unicode (2^16) \n",
    "\n"
   ]
  },
  {
   "cell_type": "code",
   "execution_count": 86,
   "id": "ac8caf96",
   "metadata": {},
   "outputs": [
    {
     "name": "stdout",
     "output_type": "stream",
     "text": [
      "abcd\n",
      "\n",
      "efgh\n",
      "\n",
      "1234\n",
      "\n",
      "가나다라\n"
     ]
    }
   ],
   "source": [
    "#f = open(\"C:\\\\Users\\\\김정호\\\\Desktop\\\\netsong\\\\pythonwork\\\\basic\\\\할것들.txt\", \"r\")\n",
    "\n",
    "f = open(\"할것들/filetest1.txt\", \"r\")\n",
    "\n",
    "\n",
    "while True:\n",
    "    line = f.readline()\n",
    "    \n",
    "    if line=='':                #if not line :\n",
    "         break              \n",
    "        \n",
    "        \n",
    "    print(line) #, end=\"\")\n",
    "    \n",
    "f.close()"
   ]
  },
  {
   "cell_type": "code",
   "execution_count": 38,
   "id": "91c0860f",
   "metadata": {},
   "outputs": [
    {
     "name": "stdout",
     "output_type": "stream",
     "text": [
      "['abcd\\n', 'efgh\\n', '1234\\n', '가나다라']\n"
     ]
    }
   ],
   "source": [
    "f = open(\"할것들/filetest1.txt\", \"r\")\n",
    "\n",
    "lines = f.readlines()\n",
    "print(lines)\n",
    "\n",
    "f.close()"
   ]
  },
  {
   "cell_type": "code",
   "execution_count": 43,
   "id": "a2351760",
   "metadata": {},
   "outputs": [
    {
     "name": "stdout",
     "output_type": "stream",
     "text": [
      "abcd\n",
      "efgh\n",
      "1234\n",
      "가나다라\n",
      "<class 'str'>\n",
      "0 a\n",
      "1 b\n",
      "2 c\n",
      "3 d\n",
      "4 \n",
      "\n",
      "5 e\n",
      "6 f\n",
      "7 g\n",
      "8 h\n",
      "9 \n",
      "\n",
      "10 1\n",
      "11 2\n",
      "12 3\n",
      "13 4\n",
      "14 \n",
      "\n",
      "15 가\n",
      "16 나\n",
      "17 다\n",
      "18 라\n"
     ]
    }
   ],
   "source": [
    "f = open(\"할것들/filetest1.txt\", \"r\")\n",
    "\n",
    "data = f.read()\n",
    "print(data)\n",
    "print(type(data))\n",
    "\n",
    "    \n",
    "\n",
    "f.close()"
   ]
  },
  {
   "cell_type": "code",
   "execution_count": 56,
   "id": "33903a5f",
   "metadata": {},
   "outputs": [
    {
     "name": "stdout",
     "output_type": "stream",
     "text": [
      "1 a\n",
      "2 b\n",
      "3 c\n",
      "4 d\n",
      "5 \n",
      "\n",
      "6 e\n",
      "7 f\n",
      "8 g\n",
      "9 h\n",
      "10 \n",
      "\n",
      "11 1\n",
      "12 2\n",
      "13 3\n",
      "14 4\n",
      "15 \n",
      "\n",
      "16 가\n",
      "17 나\n",
      "18 다\n",
      "19 라\n"
     ]
    }
   ],
   "source": [
    "f = open(\"할것들/filetest1.txt\", \"r\")\n",
    "\n",
    "data = f.read()\n",
    "\n",
    "for i,v in enumerate (data, start=1) :\n",
    "    print(i,v)\n",
    "\n",
    "f.close()"
   ]
  },
  {
   "cell_type": "code",
   "execution_count": 92,
   "id": "d379e975",
   "metadata": {},
   "outputs": [
    {
     "name": "stdout",
     "output_type": "stream",
     "text": [
      "1 : abcd\n",
      "2 : efgh\n",
      "3 : 1234\n",
      "4 : 가나다라\n",
      "-----------------------------\n",
      "1 : abcd\n",
      "2 : efgh\n",
      "3 : 1234\n",
      "4 : 가나다라\n"
     ]
    }
   ],
   "source": [
    "f = open(\"할것들/filetest1.txt\", \"r\")\n",
    "\n",
    "data = f.read()\n",
    "\n",
    "sdata = data.split(\"\\n\")\n",
    "#print(sdata)\n",
    "cnt = 1 \n",
    "\n",
    "for line in sdata:\n",
    "    print(cnt,\":\",line)\n",
    "    cnt+= 1\n",
    "    \n",
    "    \n",
    "print(\"-----------------------------\")\n",
    "\n",
    "for idx, line in enumerate(sdata):\n",
    "    print(idx+1,\":\",line)\n",
    "    \n",
    "f.close()"
   ]
  },
  {
   "cell_type": "code",
   "execution_count": 93,
   "id": "c82ec596",
   "metadata": {},
   "outputs": [],
   "source": [
    "f = open(\"할것들/filetest2.txt\",\"w\")\n",
    "\n",
    "f.write(\"이름 : 김정호,\")\n",
    "f.write(\"전화 : 010-5630-9493, \")\n",
    "f.write(\"주소 : 인천시 남동구\\n\")\n",
    "\n",
    "\n",
    "f.write(\"이름 : 권유정,\")\n",
    "f.write(\"전화 : 010-9655-2364, \")\n",
    "f.write(\"주소 : 안산시 단원구\\n\")\n",
    "\n",
    "f.close()\n",
    "\n"
   ]
  },
  {
   "cell_type": "code",
   "execution_count": 64,
   "id": "b527dffd",
   "metadata": {},
   "outputs": [],
   "source": [
    "\n",
    "\n",
    "f = open(\"할것들/filetest2.txt\",\"a\")\n",
    "\n",
    "f.write(\"이름 : 나비,\")\n",
    "f.write(\"전화 : 010-1111-1111, \")\n",
    "f.write(\"주소 : 인천시 단원구\\n\")\n",
    "\n",
    "f.close()\n",
    "\n",
    "#a는 추가기능!\n"
   ]
  },
  {
   "cell_type": "code",
   "execution_count": 67,
   "id": "5c8e048f",
   "metadata": {},
   "outputs": [],
   "source": [
    "nums = [11, 21,31,41, 51,61, 71,81,91]\n",
    "\n",
    "f = open (\"할것들/filetest3.txt\",\"w\")\n",
    "\n",
    "f.write(str(nums))\n",
    "\n",
    "f.close()"
   ]
  },
  {
   "cell_type": "code",
   "execution_count": 73,
   "id": "c80c53c9",
   "metadata": {},
   "outputs": [],
   "source": [
    "#### CSV 형식으로 저장\n",
    "\n",
    "f = open (\"할것들/filetest3.txt\",\"w\")\n",
    "\n",
    "for i in range(len(nums)):\n",
    "    f.write(str(nums[i])+ \",\")\n",
    "\n",
    "f.close()"
   ]
  },
  {
   "cell_type": "code",
   "execution_count": 80,
   "id": "3d3378ac",
   "metadata": {},
   "outputs": [],
   "source": [
    "#cnt 카운터\n",
    "\n",
    "f = open (\"할것들/filetest3.txt\",\"w\")\n",
    "\n",
    "cnt = len(nums)\n",
    "for i in range(cnt):\n",
    "    if i < cnt - 1:\n",
    "        f.write(str(nums[i])+ \" ,\")\n",
    "    else:\n",
    "        f.write(str(nums[i]))\n",
    "\n",
    "f.close()"
   ]
  },
  {
   "cell_type": "code",
   "execution_count": 79,
   "id": "0a441363",
   "metadata": {},
   "outputs": [],
   "source": [
    "f = open (\"할것들/filetest3.txt\",\"w\")\n",
    "\n",
    "f.write(\",\".join([str(i) for i in nums]))\n",
    "\n",
    "f.close()"
   ]
  },
  {
   "cell_type": "code",
   "execution_count": 95,
   "id": "571f59ca",
   "metadata": {},
   "outputs": [
    {
     "name": "stdout",
     "output_type": "stream",
     "text": [
      "['3-제어문.ipynb', '5-클래스.ipynb', 'images', 'mymodule.py', 'Untitled.ipynb', 'Untitled2.ipynb', 'Untitled3.ipynb', 'Untitled4.ipynb', '__pycache__', '문자열.ipynb', '제어문 변경.ipynb', '할것들', '함수.ipynb']\n"
     ]
    }
   ],
   "source": [
    "##### 동시에 여러 개의 파일을 읽어오는 방법\n",
    "\n",
    "import glob\n",
    "\n",
    "files = glob.glob(\"*\")\n",
    "#files = glob.glob(\"*.*\")\n",
    "#files = glob.glob(\"*.ipynb\")\n",
    "\n",
    "print(files)"
   ]
  },
  {
   "cell_type": "code",
   "execution_count": null,
   "id": "093142dc",
   "metadata": {},
   "outputs": [],
   "source": []
  }
 ],
 "metadata": {
  "kernelspec": {
   "display_name": "Python 3",
   "language": "python",
   "name": "python3"
  },
  "language_info": {
   "codemirror_mode": {
    "name": "ipython",
    "version": 3
   },
   "file_extension": ".py",
   "mimetype": "text/x-python",
   "name": "python",
   "nbconvert_exporter": "python",
   "pygments_lexer": "ipython3",
   "version": "3.8.8"
  }
 },
 "nbformat": 4,
 "nbformat_minor": 5
}
