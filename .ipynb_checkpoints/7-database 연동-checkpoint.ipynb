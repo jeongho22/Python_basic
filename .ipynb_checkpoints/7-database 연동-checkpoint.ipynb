{
 "cells": [
  {
   "cell_type": "markdown",
   "id": "19de9d51",
   "metadata": {},
   "source": [
    "## 1.파이썬과 MySQL 활용\n",
    "\n",
    "+ 파이썬과 MySql을 연결해주는 모듈 : mysqlclient, PymySQL\n",
    "        - pip install mysqlclient\n",
    "        - pip install PyMySQL"
   ]
  },
  {
   "cell_type": "code",
   "execution_count": 101,
   "id": "d13a6be7",
   "metadata": {},
   "outputs": [
    {
     "name": "stdout",
     "output_type": "stream",
     "text": [
      "<_mysql.connection open to '127.0.0.1' at 000002B7D6F15BF0>\n"
     ]
    }
   ],
   "source": [
    "##### mysqlclient 모듈을 이용한 연결 테스트 \n",
    "\n",
    "import MySQLdb\n",
    "\n",
    "conn = MySQLdb.connect(host=\"127.0.0.1\", user=\"root\", passwd=\"1111\", database=\"testdb\")\n",
    "#conn = MySQLdb.connect(host=\"netsong7.synology.me\", user=\"user2\", \n",
    "#                       password=\"Mysqldb12345!\", database=\"user2db\", port=3307)\n",
    "print(conn)\n",
    "conn.close()"
   ]
  },
  {
   "cell_type": "code",
   "execution_count": 102,
   "id": "b74c8949",
   "metadata": {},
   "outputs": [
    {
     "name": "stdout",
     "output_type": "stream",
     "text": [
      "<pymysql.connections.Connection object at 0x000002B7D8CAEE20>\n"
     ]
    }
   ],
   "source": [
    "##### PyMySQL 모듈을 이용한 연결 테스트 \n",
    "\n",
    "import pymysql\n",
    "\n",
    "conn = pymysql.connect(host=\"127.0.0.1\", user=\"root\", passwd=\"1111\", database=\"testdb\")\n",
    "print(conn)\n",
    "conn.close()"
   ]
  },
  {
   "cell_type": "code",
   "execution_count": 103,
   "id": "93af3f2f",
   "metadata": {},
   "outputs": [],
   "source": [
    "# 바꿀일 있으면 여기서 바꾸면 된다.\n",
    "config = {\"host\":\"127.0.0.1\", \"user\":\"root\", \"passwd\":\"1111\", \"database\":\"testdb\"}"
   ]
  },
  {
   "cell_type": "code",
   "execution_count": 104,
   "id": "ed301e37",
   "metadata": {},
   "outputs": [
    {
     "name": "stdout",
     "output_type": "stream",
     "text": [
      "<pymysql.connections.Connection object at 0x000002B7D8C102E0>\n"
     ]
    }
   ],
   "source": [
    "conn = pymysql.connect(**config)\n",
    "print(conn)\n",
    "conn.close()"
   ]
  },
  {
   "cell_type": "markdown",
   "id": "3045ae57",
   "metadata": {},
   "source": [
    "# (1) select"
   ]
  },
  {
   "cell_type": "code",
   "execution_count": 107,
   "id": "e0ae8dba",
   "metadata": {},
   "outputs": [
    {
     "name": "stdout",
     "output_type": "stream",
     "text": [
      "7369 SMITH CLERK 7902 1980-12-17 00:00:00 800.0 None 20\n",
      "7499 ALLEN SALESMAN 7698 1981-02-20 00:00:00 1600.0 300.0 30\n",
      "7521 WARD SALESMAN 7698 1981-02-22 00:00:00 1250.0 500.0 30\n",
      "7566 JONES MANAGER 7839 1981-04-02 00:00:00 2975.0 None 20\n",
      "7654 MARTIN SALESMAN 7698 1981-09-28 00:00:00 1250.0 1400.0 30\n",
      "[(7369, 'SMITH', 'CLERK', 7902, datetime.datetime(1980, 12, 17, 0, 0), 800.0, None, 20), (7499, 'ALLEN', 'SALESMAN', 7698, datetime.datetime(1981, 2, 20, 0, 0), 1600.0, 300.0, 30), (7521, 'WARD', 'SALESMAN', 7698, datetime.datetime(1981, 2, 22, 0, 0), 1250.0, 500.0, 30), (7566, 'JONES', 'MANAGER', 7839, datetime.datetime(1981, 4, 2, 0, 0), 2975.0, None, 20), (7654, 'MARTIN', 'SALESMAN', 7698, datetime.datetime(1981, 9, 28, 0, 0), 1250.0, 1400.0, 30)]\n"
     ]
    }
   ],
   "source": [
    "conn= MySQLdb.connect(**config)\n",
    "\n",
    "sql = \"select* from emp limit 5\"\n",
    "\n",
    "cur = conn.cursor()\n",
    "cur.execute(sql)\n",
    "\n",
    "#print(cur)\n",
    "#for data in cur:\n",
    "#    print(data)\n",
    "\n",
    "for a,b,c,d,e,f,g,h in cur:\n",
    "    print(a,b,c,d,e,f,g,h)\n",
    "    \n",
    "conn.close()\n",
    "\n",
    "\n",
    "#result = []\n",
    "#for data in cur:\n",
    " #   result.append(data)\n",
    "    \n",
    "#conn.close()\n",
    "\n",
    "print(result)\n"
   ]
  },
  {
   "cell_type": "markdown",
   "id": "9ae00ae2",
   "metadata": {},
   "source": [
    "# (2)INSERT"
   ]
  },
  {
   "cell_type": "code",
   "execution_count": 120,
   "id": "8549619f",
   "metadata": {},
   "outputs": [
    {
     "name": "stdout",
     "output_type": "stream",
     "text": [
      "------------------------------------------\n"
     ]
    }
   ],
   "source": [
    "# 에러 안나는 이유 if not exists\n",
    "\n",
    "sql = \"\"\"create table if not exists tbltest(\n",
    "    empno    int,\n",
    "    ename    varchar(10),\n",
    "    sal      int,\n",
    "    job      varchar(10)\n",
    ")\"\"\"\n",
    "\n",
    "\n",
    "print(\"------------------------------------------\")\n",
    "\n",
    "conn = MySQLdb.connect(**config)\n",
    "\n",
    "cur = conn.cursor()\n",
    "cur.execute(sql)\n",
    "\n",
    "sql = \"insert into tbltest(empno, ename, sal) values(1, 'scott', 5000)\"\n",
    "\n",
    "\n",
    "cur.execute(sql)\n",
    "conn.commit()\n",
    "\n",
    "conn.close()\n",
    "\n",
    "\n",
    "#select * from suppliers;\n",
    "#select * from tbltest;"
   ]
  },
  {
   "cell_type": "code",
   "execution_count": 119,
   "id": "4f84723f",
   "metadata": {},
   "outputs": [],
   "source": []
  },
  {
   "cell_type": "code",
   "execution_count": null,
   "id": "b511473a",
   "metadata": {},
   "outputs": [],
   "source": []
  },
  {
   "cell_type": "code",
   "execution_count": 116,
   "id": "90f26a6a",
   "metadata": {},
   "outputs": [],
   "source": [
    "\n",
    "\n",
    "conn = MySQLdb.connect(**config)\n",
    "cur = conn.cursor()\n",
    "\n",
    "sql = \"insert into tbltest(empno, ename, sal) values(\" \\\n",
    "    + str(empno) + \", '\" + ename + \"', \" + str(sal)+ \")\"\n",
    "    \n",
    "empno = 2\n",
    "ename = \"miller\"\n",
    "sal = 1400\n",
    "\n",
    "\n",
    "    \n",
    "#print(sql)\n",
    "cur.execute(sql)\n",
    "conn.commit()\n",
    "\n",
    "conn.close()"
   ]
  },
  {
   "cell_type": "code",
   "execution_count": 117,
   "id": "7163804c",
   "metadata": {},
   "outputs": [],
   "source": [
    "\n",
    "\n",
    "conn = MySQLdb.connect(**config)\n",
    "cur = conn.cursor()\n",
    "\n",
    "sql = \"insert into tbltest(empno, ename, sal) values(%s, %s, %s)\"\n",
    "sql_data = (str(empno), ename, str(sal))\n",
    "\n",
    "\n",
    "empno = 3\n",
    "ename = \"tom\"\n",
    "sal = 2000\n",
    "\n",
    "\n",
    "cur.execute(sql, sql_data)\n",
    "conn.commit()\n",
    "\n",
    "conn.close()"
   ]
  },
  {
   "cell_type": "code",
   "execution_count": 127,
   "id": "019204ad",
   "metadata": {},
   "outputs": [],
   "source": [
    "\n",
    "\n",
    "try:\n",
    "    conn = MySQLdb.connect(**config)\n",
    "    cur = conn.cursor()\n",
    "    \n",
    "    sql = \"insert into tbltest(empno, ename, sal) values(%s, %s, %s)\"\n",
    "    sql_data = (str(empno), ename, str(sal))\n",
    "\n",
    "    \n",
    "    empno = 4\n",
    "    ename = \"jerry\"\n",
    "    sal = 2000\n",
    "    \n",
    "    \n",
    "    cur.execute(sql, sql_data)\n",
    "    conn.commit()\n",
    "except Exception as e:\n",
    "    print(\"error : \", e)\n",
    "finally:\n",
    "    conn.close()"
   ]
  },
  {
   "cell_type": "code",
   "execution_count": 122,
   "id": "a8e04dfe",
   "metadata": {},
   "outputs": [],
   "source": [
    "##### 데이터 여러 개 입력하기\n",
    "\n",
    "conn = MySQLdb.connect(**config)\n",
    "cur = conn.cursor()\n",
    "\n",
    "for i in range(10):\n",
    "    sql = \"insert into tbltest(empno, ename, sal) values(5, 'jane', 10000)\"\n",
    "    cur.execute(sql)\n",
    "    conn.commit()\n",
    "    \n",
    "conn.close()"
   ]
  },
  {
   "cell_type": "markdown",
   "id": "74d2c306",
   "metadata": {},
   "source": [
    "# (3) cursor\n",
    "\n",
    "1) fetchall(),fetchmany(),fetchon()\n",
    "\n",
    "+ default는 fetchall"
   ]
  },
  {
   "cell_type": "code",
   "execution_count": 123,
   "id": "0d4ec2ed",
   "metadata": {},
   "outputs": [
    {
     "name": "stdout",
     "output_type": "stream",
     "text": [
      "(1, 'scott', 5000, None)\n"
     ]
    }
   ],
   "source": [
    "\n",
    "try:\n",
    "    conn = MySQLdb.connect(**config)\n",
    "    cur = conn.cursor()\n",
    "    \n",
    "    cur.execute(\"select * from tbltest\")\n",
    "    \n",
    "    #for i in cur.fetchall():\n",
    "    #    print(i)\n",
    "    \n",
    "    #for i in cur.fetchmany(5):\n",
    "    #    print(i)\n",
    "    \n",
    "    print(cur.fetchone())\n",
    "        \n",
    "finally:\n",
    "    conn.close()"
   ]
  },
  {
   "cell_type": "markdown",
   "id": "ef9f7b30",
   "metadata": {},
   "source": [
    "### 2) Dictcursor\n",
    "    +필드명을 인덱스 대신 키로 사용"
   ]
  },
  {
   "cell_type": "code",
   "execution_count": 124,
   "id": "43708b6e",
   "metadata": {},
   "outputs": [
    {
     "name": "stdout",
     "output_type": "stream",
     "text": [
      "1 scott 5000\n",
      "3 tom 2000\n",
      "4 jerry 2000\n",
      "5 jane 10000\n",
      "5 jane 10000\n",
      "5 jane 10000\n",
      "5 jane 10000\n",
      "5 jane 10000\n",
      "5 jane 10000\n",
      "5 jane 10000\n",
      "5 jane 10000\n",
      "5 jane 10000\n",
      "5 jane 10000\n",
      "3 tom 2000\n",
      "4 jerry 2000\n",
      "5 jane 10000\n",
      "5 jane 10000\n",
      "5 jane 10000\n",
      "5 jane 10000\n",
      "5 jane 10000\n",
      "5 jane 10000\n",
      "5 jane 10000\n",
      "5 jane 10000\n",
      "5 jane 10000\n",
      "5 jane 10000\n",
      "3 tom 2000\n",
      "4 jerry 2000\n",
      "5 jane 10000\n",
      "5 jane 10000\n",
      "5 jane 10000\n",
      "5 jane 10000\n",
      "5 jane 10000\n",
      "5 jane 10000\n",
      "5 jane 10000\n",
      "5 jane 10000\n",
      "5 jane 10000\n",
      "5 jane 10000\n",
      "1 scott 5000\n",
      "3 tom 2000\n",
      "4 jerry 2000\n",
      "2 miller 1300\n",
      "2 miller 1300\n",
      "2 miller 1300\n",
      "3 tom 2000\n",
      "3 tom 2000\n",
      "1 scott 5000\n",
      "2 miller 1400\n",
      "2 miller 1400\n",
      "1 scott 5000\n",
      "2 miller 1400\n",
      "2 miller 1400\n",
      "4 jerry 2000\n",
      "1 scott 5000\n",
      "4 jerry 2000\n",
      "5 jane 10000\n",
      "5 jane 10000\n",
      "5 jane 10000\n",
      "5 jane 10000\n",
      "5 jane 10000\n",
      "5 jane 10000\n",
      "5 jane 10000\n",
      "5 jane 10000\n",
      "5 jane 10000\n",
      "5 jane 10000\n"
     ]
    }
   ],
   "source": [
    "\n",
    "try:\n",
    "    conn = MySQLdb.connect(**config)\n",
    "    cur = conn.cursor(MySQLdb.cursors.DictCursor)\n",
    "    \n",
    "    cur.execute(\"select * from tbltest\")\n",
    "    \n",
    "    for i in cur.fetchall():\n",
    "        # print(i[0], i[1], i[2])\n",
    "        print(i[\"empno\"], i[\"ename\"], i[\"sal\"])\n",
    "    \n",
    "finally:\n",
    "    conn.close()"
   ]
  },
  {
   "cell_type": "markdown",
   "id": "0b0ce7e4",
   "metadata": {},
   "source": [
    "# 2. 응용 예제\n",
    "\n",
    "### (1) CSV파일을 DB에 저장"
   ]
  },
  {
   "cell_type": "code",
   "execution_count": 82,
   "id": "640aa81b",
   "metadata": {},
   "outputs": [
    {
     "data": {
      "text/plain": [
       "'\\nCREATE TABLE IF NOT EXISTS suppliers(\\n    Supplier_Name    varchar(20),\\n    Invoice_Number   varchar(20),\\n    Part_Number      varchar(20),\\n    Cost             float,\\n    Purchase_Date    date\\n);\\n\\n'"
      ]
     },
     "execution_count": 82,
     "metadata": {},
     "output_type": "execute_result"
    }
   ],
   "source": [
    "\"\"\"\n",
    "CREATE TABLE IF NOT EXISTS suppliers(\n",
    "    Supplier_Name    varchar(20),\n",
    "    Invoice_Number   varchar(20),\n",
    "    Part_Number      varchar(20),\n",
    "    Cost             float,\n",
    "    Purchase_Date    date\n",
    ");\n",
    "\n",
    "\"\"\"\n",
    "    "
   ]
  },
  {
   "cell_type": "code",
   "execution_count": 84,
   "id": "5b149eeb",
   "metadata": {},
   "outputs": [],
   "source": [
    "import csv\n",
    "\n",
    "file= csv.reader (open(\"data/input.csv\"))\n",
    "#print(file)\n",
    "\n",
    "#print(next(file))\n",
    "#print(next(file))\n",
    "#print(next(file))\n",
    "#print(next(file))\n",
    "#print(next(file))\n",
    "\n",
    "next(file)\n",
    "\n",
    "try : \n",
    "    conn = MySQLdb.connect(**config)\n",
    "    cur = conn.cursor()\n",
    " \n",
    "    cur.execute(\"delete from suppliers\")\n",
    "    conn.commit()\n",
    "\n",
    "\n",
    "    for row in file:\n",
    "        #print(row)\n",
    "        cur.execute(\"insert into suppliers values(%s, %s, %s, %s, %s)\",row)\n",
    "        \n",
    "    conn.commit()\n",
    "\n",
    "finally:\n",
    "    conn.close()\n",
    "    \n",
    "    \n",
    "    \n",
    "    \n",
    "#select * from suppliers;\n",
    "    "
   ]
  },
  {
   "cell_type": "markdown",
   "id": "93b4c6ac",
   "metadata": {},
   "source": [
    "## (2) DB에서 가져온 데이터를 파일로 저장"
   ]
  },
  {
   "cell_type": "code",
   "execution_count": 92,
   "id": "e23d9c25",
   "metadata": {},
   "outputs": [],
   "source": [
    "try : \n",
    "    conn = MySQLdb.connect(**config)\n",
    "    cur = conn.cursor()\n",
    "    \n",
    "    cur.execute(\"select * from suppliers where cost > 500000\")\n",
    "\n",
    "    #for i in cur:\n",
    "    #    print(i)\n",
    "    \n",
    "    file = csv.writer(open(\"data/output.csv\",\"w\"), delimiter=\",\")\n",
    "    #구분해서 저장하겠다.\n",
    "    \n",
    "    header = [\"Supplier name\",\"Invoice number\",\"part number\",\"cost\",\"purchase date\"]\n",
    "    file.writerow(header)\n",
    "    \n",
    "    for row in cur:\n",
    "        file.writerow(row)\n",
    "    \n",
    "finally:\n",
    "    conn.close()"
   ]
  },
  {
   "cell_type": "code",
   "execution_count": null,
   "id": "eff93e2c",
   "metadata": {},
   "outputs": [],
   "source": []
  }
 ],
 "metadata": {
  "kernelspec": {
   "display_name": "Python 3",
   "language": "python",
   "name": "python3"
  },
  "language_info": {
   "codemirror_mode": {
    "name": "ipython",
    "version": 3
   },
   "file_extension": ".py",
   "mimetype": "text/x-python",
   "name": "python",
   "nbconvert_exporter": "python",
   "pygments_lexer": "ipython3",
   "version": "3.8.8"
  }
 },
 "nbformat": 4,
 "nbformat_minor": 5
}
