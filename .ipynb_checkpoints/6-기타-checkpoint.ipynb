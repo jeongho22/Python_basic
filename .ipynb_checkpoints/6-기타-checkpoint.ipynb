{
 "cells": [
  {
   "cell_type": "markdown",
   "id": "b3c6deec",
   "metadata": {},
   "source": [
    "### (1) 정의\n",
    "\n",
    "\n",
    "+ 비슷하거나 관련된 일을 하는 함수, 클래스, 상수값들을 모아서 하나의 파일에 저장하고 추후에 재사용하기 위한 목적\n",
    "\n",
    "+ 상수,함수, 클래스들을 모아놓은 파일 : .py\n",
    "\n",
    "\n",
    "### (2) 종류\n",
    "\n",
    "+ 표준 모듈\n",
    "+ 사용자 정의 모듈\n",
    "+ 서드 파티 모듈\n",
    "\n",
    "\n",
    "### (3) 참조\n",
    "\n",
    "+ 같은 경로\n",
    "+ 기존 모듈경로에 추가 : 주로 아나콘다의 경우에는 Lib/site-packages\n",
    "+ sys 모듈을 이용해서 path경로에 추가\n",
    " - sys.path.append(\"경로\")\n",
    " \n",
    "### (4)선언 방법\n",
    "\n",
    "+ import 모듈명\n",
    "+ import 모듈명 as 별칭\n",
    "+ from 모듈명 import 상수, 함수, 클래스\n",
    "+ from 모듈명 import *\n",
    "+ from 모듈명 import 이름 as 별칭\n",
    "\n",
    "\n",
    "### (5)패키지\n",
    "\n",
    "+ 여러 모듀를을 모아놓은 폴더"
   ]
  },
  {
   "cell_type": "code",
   "execution_count": 104,
   "id": "76d2b957",
   "metadata": {},
   "outputs": [],
   "source": [
    "import sys\n",
    "sys.path.append(\"C:\\\\mylib\")"
   ]
  },
  {
   "cell_type": "code",
   "execution_count": 105,
   "id": "7ba00fe2",
   "metadata": {},
   "outputs": [
    {
     "name": "stdout",
     "output_type": "stream",
     "text": [
      "40\n",
      "키 :  180\n",
      "몸무게 :  80\n",
      "기타 :  {'name': '홍길동', 'blood': 'B'}\n",
      "파이썬 주식회사\n",
      "3.141592\n",
      "28.274328\n"
     ]
    }
   ],
   "source": [
    "import mymodule2\n",
    "\n",
    "\"\"\"\n",
    "print(mymodule2.sum(20,20))\n",
    "mymodule2.info(80, 180, name=\"홍길동\", blood=\"B\")\n",
    "print(mymodule2.company)\n",
    "print(mymodule2.Math().PI)\n",
    "print(mymodule2.Math().solve(3))\n",
    "\"\"\"\n",
    "\n",
    "\n",
    "\"\"\"\n",
    "import mymodule2 as my\n",
    "\n",
    "\n",
    "#긴 이름을 쓰기편한 이름으로 바꿔준다!\n",
    "\n",
    "print(my.sum(20,20))\n",
    "my.info(80, 180, name=\"홍길동\", blood=\"B\")\n",
    "print(my.company)\n",
    "print(my.Math().PI)\n",
    "print(my.Math().solve(3))\n",
    "\n",
    "\"\"\"\n",
    "\n",
    "\n",
    "\n",
    "\n",
    "\n",
    "# from mymodule2 import sum, info, company, Math\n",
    "from mymodule2 import *\n",
    "\n",
    "print(sum(20,20))\n",
    "info(80, 180, name=\"홍길동\", blood=\"B\")\n",
    "print(company)\n",
    "print(Math().PI)\n",
    "print(Math().solve(3))\n",
    "\n",
    "\n",
    "# *를 붙이면 mymodule2 안써도됌."
   ]
  },
  {
   "cell_type": "code",
   "execution_count": 107,
   "id": "33b1a425",
   "metadata": {},
   "outputs": [
    {
     "ename": "AttributeError",
     "evalue": "module 'game.play' has no attribute 'play_test'",
     "output_type": "error",
     "traceback": [
      "\u001b[1;31m---------------------------------------------------------------------------\u001b[0m",
      "\u001b[1;31mAttributeError\u001b[0m                            Traceback (most recent call last)",
      "\u001b[1;32m<ipython-input-107-1e8989f98d4b>\u001b[0m in \u001b[0;36m<module>\u001b[1;34m\u001b[0m\n\u001b[0;32m      3\u001b[0m \u001b[1;32mimport\u001b[0m \u001b[0mgame\u001b[0m\u001b[1;33m.\u001b[0m\u001b[0msound\u001b[0m\u001b[1;33m.\u001b[0m\u001b[0mecho\u001b[0m\u001b[1;33m\u001b[0m\u001b[1;33m\u001b[0m\u001b[0m\n\u001b[0;32m      4\u001b[0m \u001b[1;33m\u001b[0m\u001b[0m\n\u001b[1;32m----> 5\u001b[1;33m \u001b[0mgame\u001b[0m\u001b[1;33m.\u001b[0m\u001b[0mplay\u001b[0m\u001b[1;33m.\u001b[0m\u001b[0mplay_test\u001b[0m\u001b[1;33m(\u001b[0m\u001b[1;33m)\u001b[0m\u001b[1;33m\u001b[0m\u001b[1;33m\u001b[0m\u001b[0m\n\u001b[0m\u001b[0;32m      6\u001b[0m \u001b[0mgame\u001b[0m\u001b[1;33m.\u001b[0m\u001b[0mgraphic\u001b[0m\u001b[1;33m.\u001b[0m\u001b[0mrender\u001b[0m\u001b[1;33m.\u001b[0m\u001b[0mrender_test\u001b[0m\u001b[1;33m(\u001b[0m\u001b[1;33m)\u001b[0m\u001b[1;33m\u001b[0m\u001b[1;33m\u001b[0m\u001b[0m\n\u001b[0;32m      7\u001b[0m \u001b[0mgame\u001b[0m\u001b[1;33m.\u001b[0m\u001b[0msound\u001b[0m\u001b[1;33m.\u001b[0m\u001b[0mecho\u001b[0m\u001b[1;33m.\u001b[0m\u001b[0mecho_test\u001b[0m\u001b[1;33m(\u001b[0m\u001b[1;33m)\u001b[0m\u001b[1;33m\u001b[0m\u001b[1;33m\u001b[0m\u001b[0m\n",
      "\u001b[1;31mAttributeError\u001b[0m: module 'game.play' has no attribute 'play_test'"
     ]
    }
   ],
   "source": [
    "import game.play\n",
    "import game.graphic.render\n",
    "import game.sound.echo\n",
    "\n",
    "game.play.play_test()\n",
    "game.graphic.render.render_test()\n",
    "game.sound.echo.echo_test()\n",
    "\n",
    "\n",
    "\n",
    "#play\n",
    "#render\n",
    "#echo\n",
    "\n",
    "#위에를 하면 3개가 떠야함 아마..경로설정 오류때문에 그런거같음."
   ]
  },
  {
   "cell_type": "markdown",
   "id": "b7b982c6",
   "metadata": {},
   "source": [
    "### 2. 예외처리"
   ]
  },
  {
   "cell_type": "markdown",
   "id": "f04c29f4",
   "metadata": {},
   "source": [
    "### (1) 예외처리를 하는 이유\n",
    "\n",
    "+ 자연스러운 예외 메세지를 출력\n",
    "+ 프로그램의 비정상적인 종료를 방지\n",
    "\n",
    "### (2) 문법\n",
    "    \n",
    "    \n",
    "   예외가 발생할때 감시를함 . try 모니터링역할\n",
    "   \n",
    "        try:\n",
    "            코드\n",
    "            ...\n",
    "     \n",
    "            \n",
    "        except:\n",
    "            코드\n",
    "            ..."
   ]
  },
  {
   "cell_type": "code",
   "execution_count": 1,
   "id": "d57f2b1b",
   "metadata": {},
   "outputs": [
    {
     "name": "stdout",
     "output_type": "stream",
     "text": [
      "3.3333333333333335\n",
      "나머지 코드 실행\n",
      "5.0\n",
      "나머지 코드 실행\n",
      "1.0\n",
      "나머지 코드 실행\n",
      " 0은 쓰면 안돼지\n",
      "나머지 코드 실행\n"
     ]
    }
   ],
   "source": [
    "def test(num):\n",
    "    try : \n",
    "        result= 10 / num\n",
    "        print(result)\n",
    "    except:\n",
    "        print(\" 0은 쓰면 안돼지\")\n",
    "    \n",
    "    print(\"나머지 코드 실행\")\n",
    "    \n",
    "##################################################\n",
    "\n",
    "test(3)\n",
    "test(2)\n",
    "test(10)\n",
    "test(0)"
   ]
  },
  {
   "cell_type": "code",
   "execution_count": 2,
   "id": "5ed78b3f",
   "metadata": {},
   "outputs": [
    {
     "name": "stdout",
     "output_type": "stream",
     "text": [
      "3.3333333333333335\n",
      "나머지 코드 실행\n",
      "5.0\n",
      "나머지 코드 실행\n",
      "1.0\n",
      "나머지 코드 실행\n",
      "0으로 나누면 안됩니다.\n",
      "나머지 코드 실행\n",
      "불가능\n",
      "나머지 코드 실행\n"
     ]
    }
   ],
   "source": [
    "def test(num):\n",
    "    try : \n",
    "        result= 10 / num\n",
    "        print(result)\n",
    "    except ZeroDivisionError :\n",
    "        print(\"0으로 나누면 안됩니다.\")\n",
    "    except : \n",
    "        print(\"불가능\")\n",
    "    \n",
    "    print(\"나머지 코드 실행\")\n",
    "    \n",
    "################################################## 익셉트 여러개 사용가능. 오류를적어주는거임. \n",
    "\n",
    "test(3)\n",
    "test(2)\n",
    "test(10)\n",
    "test(0)\n",
    "test(\"가\")"
   ]
  },
  {
   "cell_type": "code",
   "execution_count": 112,
   "id": "32b3e777",
   "metadata": {},
   "outputs": [
    {
     "name": "stdout",
     "output_type": "stream",
     "text": [
      "5.0\n",
      "2\n",
      "나머지 코드 실행\n",
      "3.3333333333333335\n",
      "3\n",
      "나머지 코드 실행\n",
      "2.5\n",
      "0으로 나누었거나 인덱스 접근이 잘못되었습니다.\n",
      "나머지 코드 실행\n",
      "0으로 나누었거나 인덱스 접근이 잘못되었습니다.\n",
      "나머지 코드 실행\n",
      "알수가 없는 오류가 발생하였네~문자는 쓰면 안돼지~\n",
      "나머지 코드 실행\n"
     ]
    }
   ],
   "source": [
    "def test(num):\n",
    "    try:\n",
    "        result = 10 / num\n",
    "        print(result)\n",
    "        \n",
    "        arr= [0,1,2,3]\n",
    "        print(arr[num])\n",
    "    except (ZeroDivisionError,IndexError) :\n",
    "        print(\"0으로 나누었거나 인덱스 접근이 잘못되었습니다.\")\n",
    "    except :\n",
    "        print(\"알수가 없는 오류가 발생하였네~문자는 쓰면 안돼지~\")\n",
    "        \n",
    "    print(\"나머지 코드 실행\")\n",
    "\n",
    "    \n",
    "#######################################\n",
    "\n",
    "test(2)\n",
    "test(3)\n",
    "test(4) # 인덱스 4까지는 없으니 0,1,2,3 3까지 있어\n",
    "test(0) # 0은 안돼요 안돼~\n",
    "test(\"가\") # 나도 무슨 오류인지는 모르겠는데 문자써서 그럴거야~ 이런느낌"
   ]
  },
  {
   "cell_type": "code",
   "execution_count": 113,
   "id": "5600e650",
   "metadata": {},
   "outputs": [
    {
     "name": "stdout",
     "output_type": "stream",
     "text": [
      "5.0\n",
      "2\n",
      "나머지 코드 실행\n",
      "3.3333333333333335\n",
      "3\n",
      "나머지 코드 실행\n",
      "2.5\n",
      "오류 : 인덱스 접근이 잘못되었습니다.: list index out of range\n",
      "나머지 코드 실행\n",
      "0으로 나누었습니다. division by zero\n",
      "나머지 코드 실행\n",
      "알수가 없는 오류가 발생하였네~ unsupported operand type(s) for /: 'int' and 'str'\n",
      "나머지 코드 실행\n"
     ]
    }
   ],
   "source": [
    "def test(num):\n",
    "    try:\n",
    "        result = 10 / num\n",
    "        print(result)\n",
    "        \n",
    "        arr= [0,1,2,3]\n",
    "        print(arr[num])\n",
    "    except ZeroDivisionError as e :\n",
    "        print(\"0으로 나누었습니다.\",e)\n",
    "    except IndexError as e:\n",
    "        print(\"오류 : 인덱스 접근이 잘못되었습니다.:\",e)        \n",
    "    except Exception as e:\n",
    "        print(\"알수가 없는 오류가 발생하였네~\",e)\n",
    "    \n",
    "    \n",
    "    \n",
    "    \n",
    "    \n",
    "    print(\"나머지 코드 실행\")\n",
    "    \n",
    "    \n",
    "\n",
    "    \n",
    "#######################################\n",
    "\n",
    "test(2)\n",
    "test(3)\n",
    "test(4)\n",
    "test(0)\n",
    "test(\"가\")"
   ]
  },
  {
   "cell_type": "code",
   "execution_count": 119,
   "id": "1db80147",
   "metadata": {},
   "outputs": [
    {
     "name": "stdout",
     "output_type": "stream",
     "text": [
      "10.0\n",
      "1\n",
      "알수가 없는 오류가 발생하였네~ [Errno 2] No such file or directory: 'nothing.txt'\n",
      "이곳의 코드는 반드시 실행됨\n",
      "5.0\n",
      "2\n",
      "알수가 없는 오류가 발생하였네~ [Errno 2] No such file or directory: 'nothing.txt'\n",
      "이곳의 코드는 반드시 실행됨\n",
      "0으로 나누었습니다. division by zero\n",
      "이곳의 코드는 반드시 실행됨\n",
      "알수가 없는 오류가 발생하였네~ unsupported operand type(s) for /: 'int' and 'str'\n",
      "이곳의 코드는 반드시 실행됨\n",
      "2.5\n",
      "오류 : 인덱스 접근이 잘못되었습니다.: list index out of range\n",
      "이곳의 코드는 반드시 실행됨\n"
     ]
    }
   ],
   "source": [
    "def test(num):\n",
    "    try:\n",
    "        result = 10 / num\n",
    "        print(result)\n",
    "        \n",
    "        arr= [0,1,2,3]\n",
    "        print(arr[num])\n",
    "        \n",
    "        \n",
    "        f = open(\"nothing.txt\",\"r\")\n",
    "        \n",
    "    except ZeroDivisionError as e :\n",
    "        print(\"0으로 나누었습니다.\",e)\n",
    "        return #중간에 리턴을 달아도 fianlly는 실행된다. 원래 막히면 다안돼는데\n",
    "    except IndexError as e:\n",
    "        print(\"오류 : 인덱스 접근이 잘못되었습니다.:\",e)\n",
    "        return\n",
    "    except Exception as e:\n",
    "        print(\"알수가 없는 오류가 발생하였네~\",e)\n",
    "        return\n",
    "    \n",
    "    finally : \n",
    "        print(\"이곳의 코드는 반드시 실행됨\")\n",
    "        #if f != None:\n",
    "            #f.close()\n",
    "    \n",
    "    print(\"나머지 코드 실행~~\")\n",
    "\n",
    "    \n",
    "#######################################\n",
    "\n",
    "test(1)\n",
    "test(2)\n",
    "test(0)\n",
    "test(\"가\")\n",
    "test(4)"
   ]
  },
  {
   "cell_type": "code",
   "execution_count": null,
   "id": "98395a6e",
   "metadata": {},
   "outputs": [],
   "source": []
  },
  {
   "cell_type": "code",
   "execution_count": null,
   "id": "c8da053e",
   "metadata": {},
   "outputs": [],
   "source": []
  },
  {
   "cell_type": "code",
   "execution_count": null,
   "id": "a6cad57d",
   "metadata": {},
   "outputs": [],
   "source": []
  }
 ],
 "metadata": {
  "kernelspec": {
   "display_name": "Python 3",
   "language": "python",
   "name": "python3"
  },
  "language_info": {
   "codemirror_mode": {
    "name": "ipython",
    "version": 3
   },
   "file_extension": ".py",
   "mimetype": "text/x-python",
   "name": "python",
   "nbconvert_exporter": "python",
   "pygments_lexer": "ipython3",
   "version": "3.8.8"
  }
 },
 "nbformat": 4,
 "nbformat_minor": 5
}
