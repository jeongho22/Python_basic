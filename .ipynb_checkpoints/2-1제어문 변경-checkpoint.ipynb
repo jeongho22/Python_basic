{
 "cells": [
  {
   "cell_type": "code",
   "execution_count": 1,
   "id": "bf5206d2",
   "metadata": {},
   "outputs": [
    {
     "name": "stdout",
     "output_type": "stream",
     "text": [
      "당신의 이름은?\n"
     ]
    }
   ],
   "source": [
    "질문 = input(\"당신의 이름은?\") ###옆에 별표는 실행중인것."
   ]
  },
  {
   "cell_type": "code",
   "execution_count": 2,
   "id": "21f9c9a3",
   "metadata": {},
   "outputs": [
    {
     "name": "stdout",
     "output_type": "stream",
     "text": [
      "정답입니다! 님 어서 오세요!\n"
     ]
    }
   ],
   "source": [
    "print(\"정답입니다! {}님 어서 오세요!\" .format(질문))"
   ]
  },
  {
   "cell_type": "markdown",
   "id": "ba061a9f",
   "metadata": {},
   "source": [
    "### num1 = input(\"첫번째 숫자 : \")\n",
    "num2 = input(\"두번째 숫자 : \")\n",
    "\n",
    "print(\"결과 :\", int(num1)+int(num2))\n",
    "\n",
    "num1 = int(input(\"첫번째 숫자 : \"))\n",
    "num2 = int(input(\"두번째 숫자 : \"))\n",
    "\n",
    "print(\"결과 :\", num1+num2)\n",
    "\n"
   ]
  },
  {
   "cell_type": "code",
   "execution_count": 3,
   "id": "57784bf1",
   "metadata": {},
   "outputs": [
    {
     "name": "stdout",
     "output_type": "stream",
     "text": [
      "김정호 이십니까?\n"
     ]
    }
   ],
   "source": [
    "질문 = input(\"김정호 이십니까?\")\n"
   ]
  },
  {
   "cell_type": "markdown",
   "id": "832419d8",
   "metadata": {},
   "source": [
    "\n",
    "## 2. 제어문 (Control statement)\n",
    "\n",
    "    1) 조건문 ( 만약 조건이 참이라면 ~)\n",
    "       -if\n",
    "       -switch\n",
    "\n",
    "    2) 반복문\n",
    "        -while\n",
    "        -for\n",
    "        -주의할 점\n",
    "            +무한 반복\n",
    "            +반복 횟수"
   ]
  },
  {
   "cell_type": "markdown",
   "id": "0df5d089",
   "metadata": {},
   "source": [
    "#### (1) if\n",
    "\n",
    "\n",
    "       1) 첫번째 유형\n",
    "          if 조건식 : \n",
    "               문장\n",
    "               ....\n",
    "               \n",
    "               \n",
    "               if 조건식 : 문장 \n",
    "               \n",
    "               \n",
    "        2) 두번째 유형 \n",
    "            if 조건식 : \n",
    "               문장\n",
    "               ....\n",
    "               else\n",
    "               \n",
    "               \n",
    "         3) 세번째 유형 (다중 if문)          \n",
    "              \n",
    "            if 조건식 : \n",
    "               문장\n",
    "               ....\n",
    "            elif조건식 :\n",
    "                문장\n",
    "                ...\n",
    "            elif조건식 :\n",
    "                문장\n",
    "                ...\n",
    "            [else : \n",
    "                문장\n",
    "                   ...]\n",
    "                   \n",
    "           4) 조건문의 중첩(nested)\n",
    "                if 조건식 :\n",
    "                   문장\n",
    "                   ....\n",
    "                   \n",
    "                   if 조건식 :\n",
    "                        문장\n",
    "                        ..."
   ]
  },
  {
   "cell_type": "code",
   "execution_count": 23,
   "id": "b57110d3",
   "metadata": {},
   "outputs": [
    {
     "name": "stdout",
     "output_type": "stream",
     "text": [
      "숫자 : 3\n",
      "홀수 입니다.\n"
     ]
    }
   ],
   "source": [
    "##### 입력받은 숫자가 짝수/홀수 인지 판별하는 프로그램\n",
    "\n",
    "#1번유형\n",
    "\n",
    "num1= int(input(\"숫자 : \"))\n",
    "\n",
    "if num1 % 2 == 0 :\n",
    "    \n",
    "    print (num1,\"짝수 입니다\")\n",
    "\n",
    "if num1 % 2 != 0 : \n",
    "    \n",
    "    print(\"홀수 입니다.\")"
   ]
  },
  {
   "cell_type": "code",
   "execution_count": 31,
   "id": "0aaa0f04",
   "metadata": {},
   "outputs": [
    {
     "name": "stdout",
     "output_type": "stream",
     "text": [
      "숫자 :1\n",
      "1 은 홀수 입니다\n"
     ]
    }
   ],
   "source": [
    "\n",
    "#2번유형\n",
    "\n",
    "num1= int(input(\"숫자 :\"))\n",
    "\n",
    "if num1 % 2 != 0 :\n",
    "    print(num1, \"은 홀수 입니다\")\n",
    "    \n",
    "    # if num1 % 2 != 0 : print(\"홀수 입니다.\") 안해도 else 쓰면 나머지는 바뀜\n",
    "    \n",
    "else:\n",
    "    print(num1, \"은 짝수 입니다\")"
   ]
  },
  {
   "cell_type": "code",
   "execution_count": 4,
   "id": "69ca9048",
   "metadata": {},
   "outputs": [
    {
     "ename": "KeyboardInterrupt",
     "evalue": "Interrupted by user",
     "output_type": "error",
     "traceback": [
      "\u001b[1;31m---------------------------------------------------------------------------\u001b[0m",
      "\u001b[1;31mKeyboardInterrupt\u001b[0m                         Traceback (most recent call last)",
      "\u001b[1;32m<ipython-input-4-e3f5d58017d9>\u001b[0m in \u001b[0;36m<module>\u001b[1;34m\u001b[0m\n\u001b[0;32m      4\u001b[0m \u001b[1;31m#2번 유형의 진화버전\u001b[0m\u001b[1;33m\u001b[0m\u001b[1;33m\u001b[0m\u001b[1;33m\u001b[0m\u001b[0m\n\u001b[0;32m      5\u001b[0m \u001b[1;33m\u001b[0m\u001b[0m\n\u001b[1;32m----> 6\u001b[1;33m \u001b[0mresult\u001b[0m \u001b[1;33m=\u001b[0m \u001b[0minput\u001b[0m\u001b[1;33m(\u001b[0m\u001b[1;34m\"집은 어디십니까?: \"\u001b[0m\u001b[1;33m)\u001b[0m\u001b[1;33m\u001b[0m\u001b[1;33m\u001b[0m\u001b[0m\n\u001b[0m\u001b[0;32m      7\u001b[0m \u001b[1;33m\u001b[0m\u001b[0m\n\u001b[0;32m      8\u001b[0m \u001b[1;32mif\u001b[0m \u001b[0mresult\u001b[0m \u001b[1;33m==\u001b[0m \u001b[1;34m\"서울\"\u001b[0m \u001b[1;32mor\u001b[0m \u001b[0mresult\u001b[0m \u001b[1;33m==\u001b[0m \u001b[1;34m\"광주\"\u001b[0m \u001b[1;32mor\u001b[0m \u001b[0mresult\u001b[0m \u001b[1;33m==\u001b[0m\u001b[1;34m\"안산\"\u001b[0m \u001b[1;32mor\u001b[0m \u001b[0mresult\u001b[0m\u001b[1;33m==\u001b[0m\u001b[1;34m\"인천\"\u001b[0m \u001b[1;33m:\u001b[0m\u001b[1;33m\u001b[0m\u001b[1;33m\u001b[0m\u001b[0m\n",
      "\u001b[1;32mC:\\anaconda3\\lib\\site-packages\\ipykernel\\kernelbase.py\u001b[0m in \u001b[0;36mraw_input\u001b[1;34m(self, prompt)\u001b[0m\n\u001b[0;32m    858\u001b[0m                 \u001b[1;34m\"raw_input was called, but this frontend does not support input requests.\"\u001b[0m\u001b[1;33m\u001b[0m\u001b[1;33m\u001b[0m\u001b[0m\n\u001b[0;32m    859\u001b[0m             )\n\u001b[1;32m--> 860\u001b[1;33m         return self._input_request(str(prompt),\n\u001b[0m\u001b[0;32m    861\u001b[0m             \u001b[0mself\u001b[0m\u001b[1;33m.\u001b[0m\u001b[0m_parent_ident\u001b[0m\u001b[1;33m,\u001b[0m\u001b[1;33m\u001b[0m\u001b[1;33m\u001b[0m\u001b[0m\n\u001b[0;32m    862\u001b[0m             \u001b[0mself\u001b[0m\u001b[1;33m.\u001b[0m\u001b[0m_parent_header\u001b[0m\u001b[1;33m,\u001b[0m\u001b[1;33m\u001b[0m\u001b[1;33m\u001b[0m\u001b[0m\n",
      "\u001b[1;32mC:\\anaconda3\\lib\\site-packages\\ipykernel\\kernelbase.py\u001b[0m in \u001b[0;36m_input_request\u001b[1;34m(self, prompt, ident, parent, password)\u001b[0m\n\u001b[0;32m    902\u001b[0m             \u001b[1;32mexcept\u001b[0m \u001b[0mKeyboardInterrupt\u001b[0m\u001b[1;33m:\u001b[0m\u001b[1;33m\u001b[0m\u001b[1;33m\u001b[0m\u001b[0m\n\u001b[0;32m    903\u001b[0m                 \u001b[1;31m# re-raise KeyboardInterrupt, to truncate traceback\u001b[0m\u001b[1;33m\u001b[0m\u001b[1;33m\u001b[0m\u001b[1;33m\u001b[0m\u001b[0m\n\u001b[1;32m--> 904\u001b[1;33m                 \u001b[1;32mraise\u001b[0m \u001b[0mKeyboardInterrupt\u001b[0m\u001b[1;33m(\u001b[0m\u001b[1;34m\"Interrupted by user\"\u001b[0m\u001b[1;33m)\u001b[0m \u001b[1;32mfrom\u001b[0m \u001b[1;32mNone\u001b[0m\u001b[1;33m\u001b[0m\u001b[1;33m\u001b[0m\u001b[0m\n\u001b[0m\u001b[0;32m    905\u001b[0m             \u001b[1;32mexcept\u001b[0m \u001b[0mException\u001b[0m \u001b[1;32mas\u001b[0m \u001b[0me\u001b[0m\u001b[1;33m:\u001b[0m\u001b[1;33m\u001b[0m\u001b[1;33m\u001b[0m\u001b[0m\n\u001b[0;32m    906\u001b[0m                 \u001b[0mself\u001b[0m\u001b[1;33m.\u001b[0m\u001b[0mlog\u001b[0m\u001b[1;33m.\u001b[0m\u001b[0mwarning\u001b[0m\u001b[1;33m(\u001b[0m\u001b[1;34m\"Invalid Message:\"\u001b[0m\u001b[1;33m,\u001b[0m \u001b[0mexc_info\u001b[0m\u001b[1;33m=\u001b[0m\u001b[1;32mTrue\u001b[0m\u001b[1;33m)\u001b[0m\u001b[1;33m\u001b[0m\u001b[1;33m\u001b[0m\u001b[0m\n",
      "\u001b[1;31mKeyboardInterrupt\u001b[0m: Interrupted by user"
     ]
    }
   ],
   "source": [
    "#### 입력받은 값이 a,b,c,d 이면 \"정답\" 이라고 출력하고 그렇지 않으면\"오답\" 출력\n",
    "\n",
    "\n",
    "#2번 유형의 진화버전\n",
    "\n",
    "result = input(\"집은 어디십니까?: \")\n",
    "\n",
    "if result == \"서울\" or result == \"광주\" or result ==\"안산\" or result==\"인천\" :\n",
    "     print(\"정답\")\n",
    "else:\n",
    "     print(\"오답\")\n"
   ]
  },
  {
   "cell_type": "code",
   "execution_count": null,
   "id": "252a272e",
   "metadata": {},
   "outputs": [],
   "source": [
    "        \n",
    "        ans = input(\"질문 : \")\n",
    "if ans >= 'a' and ans <= 'y':\n",
    "    print(\"정답\")\n",
    "else:\n",
    "    print(\"오답\")"
   ]
  },
  {
   "cell_type": "code",
   "execution_count": 41,
   "id": "aa211488",
   "metadata": {},
   "outputs": [
    {
     "name": "stdout",
     "output_type": "stream",
     "text": [
      "97 98 65 66\n",
      "a b A B\n"
     ]
    }
   ],
   "source": [
    "print(ord('a'), ord('b'), ord('A'), ord('B'))\n",
    "print(chr(97), chr(98) , chr(65), chr(66))\n",
    "\n",
    "##ASIC 2 코드\n",
    "\n",
    "## 나중에 다시보자."
   ]
  },
  {
   "cell_type": "code",
   "execution_count": 66,
   "id": "8b3e1c1f",
   "metadata": {},
   "outputs": [
    {
     "name": "stdout",
     "output_type": "stream",
     "text": [
      "B+학점\n"
     ]
    }
   ],
   "source": [
    "##### 다중 if 문\n",
    "\n",
    "##3번 유형\n",
    "\n",
    "\n",
    "유정이평균 = 70\n",
    "\n",
    "if 유정이평균 >=90 :\n",
    "    print(\"A+학점\")\n",
    "elif 유정이평균 >=80 :\n",
    "    print(\"A0학점\")\n",
    "elif 유정이평균 >=70 :\n",
    "    print(\"B+학점\")\n",
    "elif 유정이평균 >=60 :\n",
    "    print(\"B0학점\")\n",
    "elif 유정이평균 >=50 :\n",
    "    print(\"C+학점\")\n",
    "elif 유정이평균 >=40 :\n",
    "    print(\"C0학점\")\n",
    "elif 유정이평균 >=30 :\n",
    "    print(\"D+학점\")    \n",
    "else : \n",
    "    print(\"F학점\")"
   ]
  },
  {
   "cell_type": "code",
   "execution_count": 78,
   "id": "1aae56cf",
   "metadata": {},
   "outputs": [
    {
     "name": "stdout",
     "output_type": "stream",
     "text": [
      "다\n"
     ]
    }
   ],
   "source": [
    "#### 조건문의 중첩\n",
    "\n",
    "\n",
    "\n",
    "a, b, c, d =  123, 100 , 150 ,97\n",
    "\n",
    "\n",
    "\n",
    "if b > c : \n",
    "    if a > d :\n",
    "        print(\"가\")\n",
    "    else :\n",
    "        print(\"나\")\n",
    "        \n",
    "else: \n",
    "        if b > d :\n",
    "            print(\"다\")\n",
    "        else : \n",
    "            print(\"라\")\n",
    "            \n",
    "            \n",
    "# 만약 b>c 보다 크다면 거기서 가,나 중에 하나 선택\n",
    "# 하지만 b>c가 아니라면 다,라 중에서 하나 선택\n",
    "            "
   ]
  },
  {
   "cell_type": "code",
   "execution_count": 6,
   "id": "a0126184",
   "metadata": {},
   "outputs": [
    {
     "data": {
      "text/plain": [
       "3"
      ]
     },
     "execution_count": 6,
     "metadata": {},
     "output_type": "execute_result"
    }
   ],
   "source": [
    "import random\n",
    "\n",
    "random.randint(0,5)"
   ]
  },
  {
   "cell_type": "markdown",
   "id": "8f6214fd",
   "metadata": {},
   "source": [
    "\n",
    "----\n",
    "\n",
    "### (2) while\n",
    "\n",
    "    while 조건식 : \n",
    "        문장\n",
    "        ...\n",
    "        끝나는 시점을 만들어줘야함 아니면 무한반복임\n",
    "        "
   ]
  },
  {
   "cell_type": "code",
   "execution_count": 5,
   "id": "1b006861",
   "metadata": {},
   "outputs": [
    {
     "name": "stdout",
     "output_type": "stream",
     "text": [
      "**********\n",
      "**********\n",
      "sssssssssssssss\n",
      "eeeeeeeeee\n",
      "--------------------------------------\n",
      "\n",
      "유정유정유정유정유정"
     ]
    }
   ],
   "source": [
    "print(\"**********\")\n",
    "print(\"*\"*10)\n",
    "print(\"s\"*15)\n",
    "\n",
    "cnt = 0 \n",
    "while cnt < 10:\n",
    "    print(\"e\", end=\"\") \n",
    "    cnt = cnt + 1 # 꼭 해줘야함 안그러면 무한반복.\n",
    "    \n",
    "\n",
    "print(\"\\n--------------------------------------\\n\")    \n",
    "    \n",
    "cnt = 0\n",
    "while cnt < 5:\n",
    "    print(\"유정\" ,end=\"\")\n",
    "    cnt = cnt+1"
   ]
  },
  {
   "cell_type": "code",
   "execution_count": 91,
   "id": "d5f4af1d",
   "metadata": {},
   "outputs": [
    {
     "name": "stdout",
     "output_type": "stream",
     "text": [
      "결과:  1\n",
      "결과:  3\n",
      "결과:  6\n",
      "결과:  10\n",
      "결과:  15\n",
      "결과:  21\n",
      "결과:  28\n",
      "결과:  36\n",
      "결과:  45\n"
     ]
    }
   ],
   "source": [
    "###### 1부터 10까지의 합계\n",
    "\n",
    "cnt = 1\n",
    "sum = 0\n",
    "\n",
    "while cnt < 10:\n",
    "    sum = sum+ cnt\n",
    "    \n",
    "    cnt = cnt+1\n",
    "    \n",
    "    print(\"결과: \",sum)\n"
   ]
  },
  {
   "cell_type": "code",
   "execution_count": 96,
   "id": "761aba32",
   "metadata": {},
   "outputs": [
    {
     "name": "stdout",
     "output_type": "stream",
     "text": [
      "결과: 10\n",
      "결과: 100\n",
      "결과: 1000\n",
      "결과: 10000\n",
      "결과: 100000\n",
      "결과: 1000000\n",
      "결과: 10000000\n",
      "결과: 100000000\n",
      "결과: 1000000000\n",
      "결과: 10000000000\n"
     ]
    }
   ],
   "source": [
    "###### 2의 10승 : 1024\n",
    "\n",
    "cnt = 0 \n",
    "sum = 1 #초기값\n",
    "\n",
    "\n",
    "while cnt < 10:\n",
    "    sum *=10\n",
    "    cnt= cnt+1\n",
    "    \n",
    "    print(\"결과:\" ,sum)"
   ]
  },
  {
   "cell_type": "markdown",
   "id": "4d5f71a7",
   "metadata": {},
   "source": [
    "---\n",
    "\n",
    "### (3) for\n",
    "    for 변수 in 집합자료형 : \n",
    "        문장\n",
    "        ....\n",
    "        "
   ]
  },
  {
   "cell_type": "code",
   "execution_count": 119,
   "id": "d83e13e5",
   "metadata": {},
   "outputs": [
    {
     "name": "stdout",
     "output_type": "stream",
     "text": [
      "10\n",
      "20\n",
      "홍길동\n",
      "3.14\n",
      "False\n",
      "-------------------\n",
      "10\n",
      "20\n",
      "홍길동\n",
      "3.14\n",
      "False\n",
      "-------------------\n",
      "33333333\n",
      "---------------------------\n",
      "3333333333333333333333333333333333333333333333333333333333333333333333333333333333333333333333333333333333333333333333333333333333333333333333333333333333333333333333333333333333333333333333333333333333333333333333333333333333333333333333333333333333333333333333333333333333333333333333333333333333333333333333333333333333333333333333333333333333333333333333333333333333333333333333333333333333333333333333333333333333333333333333333333333333333333333333333333333333333333333333333333333333333333333333333333333333333333333333333333333333333333333333333333333333333333333333333333333333333333333333333333333333333333333333333333333333333333333333333333333333333333333333333333333333333333333333333333333333333333333333333333333333333333333333333333333333333333333333333333333333333333333333333333333333333333333333333333333333"
     ]
    }
   ],
   "source": [
    "data = [10,20,\"홍길동\",3.14,False]\n",
    "\n",
    "cnt = 0 \n",
    "while cnt< 5: \n",
    "    print(data[cnt])\n",
    "    cnt += 1\n",
    "\n",
    "print(\"-------------------\")\n",
    "\n",
    "for v in data :\n",
    "      print(v)\n",
    "        \n",
    "print(\"-------------------\")\n",
    "\n",
    "for v in [\"유정\",\"정호\",\"섹스\",1,1,1,1,\"2\"]:\n",
    "       print(\"3\", end=\"\")\n",
    "        \n",
    "print()   \n",
    "    \n",
    "print(\"---------------------------\")\n",
    "\n",
    "for v in range(826) : \n",
    "    print(\"3\", end=\"\")"
   ]
  },
  {
   "cell_type": "markdown",
   "id": "8327ecc6",
   "metadata": {},
   "source": [
    "\n",
    "\n",
    "### (4) 반복문의 강제 종료\n",
    "\n",
    "+ break : 완전 종료\n",
    "+ continue : 일시 종료"
   ]
  },
  {
   "cell_type": "code",
   "execution_count": 118,
   "id": "5b5bc1e3",
   "metadata": {},
   "outputs": [
    {
     "name": "stdout",
     "output_type": "stream",
     "text": [
      "0\n",
      "1\n",
      "2\n",
      "3\n",
      "4\n",
      "5\n",
      "6\n",
      "7\n",
      "8\n",
      "9\n",
      "10\n",
      "11\n",
      "12\n",
      "13\n",
      "14\n",
      "15\n",
      "16\n",
      "17\n",
      "18\n",
      "19\n",
      "20\n",
      "21\n",
      "22\n",
      "23\n",
      "24\n",
      "26\n",
      "27\n",
      "28\n",
      "29\n",
      "30\n",
      "31\n",
      "32\n",
      "33\n",
      "34\n",
      "35\n",
      "36\n",
      "37\n",
      "38\n",
      "39\n",
      "40\n",
      "41\n",
      "42\n",
      "43\n",
      "44\n",
      "45\n",
      "46\n",
      "47\n",
      "48\n",
      "49\n",
      "\n",
      "-----------------------\n",
      "\n"
     ]
    }
   ],
   "source": [
    " for v in range(50) :\n",
    "    if  v == 25:\n",
    "        #break    # 5부터 다 빠짐\n",
    "        continue # 5만빠짐\n",
    "        \n",
    "    print(v)\n",
    "\n",
    "print(\"\\n-----------------------\\n\")\n",
    "\n"
   ]
  },
  {
   "cell_type": "markdown",
   "id": "39546b23",
   "metadata": {},
   "source": [
    "전자 계산기 프로그램 사칙연산\n",
    "연산자 : +\n",
    "    숫자 : 10 \n",
    "        숫자2 : 5\n",
    "            결과 10+5 =15"
   ]
  },
  {
   "cell_type": "markdown",
   "id": "9d31167d",
   "metadata": {},
   "source": [
    "---\n",
    "\n",
    "### (5)반복문의 중첩"
   ]
  },
  {
   "cell_type": "code",
   "execution_count": 120,
   "id": "d1b6d326",
   "metadata": {},
   "outputs": [
    {
     "name": "stdout",
     "output_type": "stream",
     "text": [
      "AAAAA\n",
      "AAAAA\n",
      "AAAAA\n",
      "AAAAA\n",
      "AAAAA\n"
     ]
    }
   ],
   "source": [
    "\"\"\"\n",
    "**********\n",
    "**********\n",
    "**********\n",
    "\"\"\"\n",
    "\n",
    "for v1 in range(5): # 행의 개념\n",
    "    for v2 in range(5): # 열의 개념\n",
    "        print(\"A\",end=\"\")\n",
    "    print()"
   ]
  },
  {
   "cell_type": "code",
   "execution_count": 131,
   "id": "0fcac33e",
   "metadata": {},
   "outputs": [
    {
     "name": "stdout",
     "output_type": "stream",
     "text": [
      "*\n",
      "**\n",
      "***\n",
      "****\n",
      "*****\n",
      "******\n",
      "\n",
      "*\n",
      "**\n",
      "***\n",
      "****\n",
      "*****\n"
     ]
    }
   ],
   "source": [
    "\"\"\"\n",
    "*\n",
    "**\n",
    "***\n",
    "****\n",
    "*****\n",
    "******\n",
    "\"\"\"\n",
    "\n",
    "for v1 in range(6): # 행의 개념\n",
    "    for v2 in range(v1+1): # 열의 개념\n",
    "        print(\"*\",end=\"\")\n",
    "    print()\n",
    " \n",
    "\n",
    "    ##6 줄이긴한데 0이 생략 되어있어서 그런거임. 근데 거기에 +1 해주닌깐 1,2,3,4,5,6\n",
    "    \n",
    "    \n",
    "\n",
    "\n",
    "    \n",
    "for v1 in range(6):\n",
    "    for v2 in range(v1):\n",
    "        print(\"*\", end = \"\")\n",
    "    print()\n",
    "    \n",
    "    \n",
    "    \n",
    "    \n",
    "    # 0 이 생략되었음 왜 근데 5개냐? v1+1 을 안해줘서그럼.\n"
   ]
  },
  {
   "cell_type": "code",
   "execution_count": 138,
   "id": "7f74173c",
   "metadata": {},
   "outputs": [
    {
     "name": "stdout",
     "output_type": "stream",
     "text": [
      "\n",
      "*\n",
      "***\n",
      "*****\n",
      "*******\n",
      "*********\n"
     ]
    }
   ],
   "source": [
    "\"\"\"\n",
    "     *\n",
    "    ***\n",
    "   *****\n",
    "  *******\n",
    " *********\n",
    "\"\"\"\n",
    "\n",
    "for v1 in range(6):\n",
    "    for v2 in range(v1*2-1):\n",
    "        print(\"*\", end = \"\")\n",
    "    print()\n",
    "    \n"
   ]
  },
  {
   "cell_type": "markdown",
   "id": "000fbb99",
   "metadata": {},
   "source": [
    "(6) List Comprehension \n",
    "\n",
    "[o,o,o,o,o,o,o,o]\n",
    "[반복문.........]\n"
   ]
  },
  {
   "cell_type": "code",
   "execution_count": 152,
   "id": "b1c2e040",
   "metadata": {},
   "outputs": [
    {
     "name": "stdout",
     "output_type": "stream",
     "text": [
      "[0, 1, 2, 3, 4, 5, 6, 7, 8, 9]\n",
      "[0, 1, 2, 3, 4, 5, 6, 7, 8, 9]\n",
      "\n",
      "--------------------------\n",
      "\n",
      "[1, 3, 5, 7, 9]\n",
      "[0, 2, 4, 6, 8]\n"
     ]
    }
   ],
   "source": [
    "a=[]\n",
    "\n",
    "for i in range(10):\n",
    "        a.append(i)\n",
    "    \n",
    "print(a)\n",
    "\n",
    "\n",
    "################################\n",
    "\n",
    "a = [i for i in range(10)] # 어펜드 생략한 i 를 넣어주면 차곡차곡 쌓인다. !\n",
    "print(a)\n",
    "\n",
    "print(\"\\n--------------------------\\n\")\n",
    "\n",
    "a = []\n",
    "\n",
    "for i in range(10):\n",
    "    if i % 2!= 0:\n",
    "        a.append(i)\n",
    "        \n",
    "print(a)\n",
    "\n",
    "##############################\n",
    "\n",
    "a = [ i for i in range(10) if i % 2 == 0 ]\n",
    "print(a)"
   ]
  },
  {
   "cell_type": "code",
   "execution_count": 156,
   "id": "fd8433c3",
   "metadata": {},
   "outputs": [
    {
     "name": "stdout",
     "output_type": "stream",
     "text": [
      "['AD']\n",
      "['AD', 'AE']\n",
      "['AD', 'AE', 'AA']\n",
      "['AD', 'AE', 'AA', 'BD']\n",
      "['AD', 'AE', 'AA', 'BD', 'BE']\n",
      "['AD', 'AE', 'AA', 'BD', 'BE', 'BA']\n",
      "['AD', 'AE', 'AA', 'BD', 'BE', 'BA', 'CD']\n",
      "['AD', 'AE', 'AA', 'BD', 'BE', 'BA', 'CD', 'CE']\n",
      "['AD', 'AE', 'AA', 'BD', 'BE', 'BA', 'CD', 'CE', 'CA']\n",
      "['AD', 'AE', 'AA', 'BD', 'BE', 'BA', 'CD', 'CE', 'CA']\n",
      "['AD', 'AE', 'BD', 'BE', 'BA', 'CD', 'CE', 'CA']\n",
      "['AD', 'AE', 'BD', 'BE', 'BA', 'CD', 'CE', 'CA']\n",
      "\n",
      "-----------------------------\n",
      "\n"
     ]
    }
   ],
   "source": [
    "c1 = [\"A\",\"B\",\"C\"]\n",
    "\n",
    "c2 = [\"D\",\"E\",\"A\"]\n",
    "\n",
    "# [\"AD\",\"AE\",\"AA\",\"BD\",\"BE\",\"BA\",\"CD\",\"CE\",\"CA\"]\n",
    "\n",
    "result = []\n",
    "for row in c1:\n",
    "    for col in c2:\n",
    "        result.append(row + col)\n",
    "        \n",
    "        print(result)\n",
    "\n",
    "\n",
    "# for row in c1 한번돌때 for col in c2 세번돈다\n",
    "\n",
    "result = [row+col for row in c1 for col in c2]\n",
    "print(result)\n",
    "\n",
    "\n",
    "# [\"AD\",\"AE\",\"AA\",\"BD\",\"BE\",\"BA\",\"CD\",\"CE\",\"CA\"]\n",
    "\n",
    "\n",
    "result = []\n",
    "for row in c1:\n",
    "    for col in c2:\n",
    "        if row !=col:\n",
    "            result.append(row + col)   \n",
    "    \n",
    "print(result)\n",
    "\n",
    "result = [row+col for row in c1 for col in c2 if not row == col]\n",
    "print(result)\n",
    "\n",
    "\n",
    "print(\"\\n-----------------------------\\n\")\n",
    "\n",
    "# [[\"AD\",\"AE\",\"AA\"],[]\"BD\",\"BE\",\"BA\"],[]\"CD\",\"CE\",\"CA\"]]"
   ]
  },
  {
   "cell_type": "code",
   "execution_count": null,
   "id": "c8fde514",
   "metadata": {},
   "outputs": [],
   "source": []
  },
  {
   "cell_type": "code",
   "execution_count": null,
   "id": "39e86a31",
   "metadata": {},
   "outputs": [],
   "source": []
  }
 ],
 "metadata": {
  "kernelspec": {
   "display_name": "Python 3",
   "language": "python",
   "name": "python3"
  },
  "language_info": {
   "codemirror_mode": {
    "name": "ipython",
    "version": 3
   },
   "file_extension": ".py",
   "mimetype": "text/x-python",
   "name": "python",
   "nbconvert_exporter": "python",
   "pygments_lexer": "ipython3",
   "version": "3.8.8"
  }
 },
 "nbformat": 4,
 "nbformat_minor": 5
}
