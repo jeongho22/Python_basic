{
 "cells": [
  {
   "cell_type": "code",
   "execution_count": 35,
   "id": "1d2c7bd2",
   "metadata": {},
   "outputs": [
    {
     "name": "stdout",
     "output_type": "stream",
     "text": [
      "70.0\n"
     ]
    }
   ],
   "source": [
    "\n",
    "국어 = 80\n",
    "영어 = 75\n",
    "수학 = 55\n",
    "\n",
    "print(국어/3+영어/3+수학/3)"
   ]
  },
  {
   "cell_type": "code",
   "execution_count": 22,
   "id": "97bd734f",
   "metadata": {},
   "outputs": [
    {
     "name": "stdout",
     "output_type": "stream",
     "text": [
      "19881120\n",
      "1068234\n"
     ]
    }
   ],
   "source": [
    "a=\"881120-1068234\"\n",
    "\n",
    "print(a[7]+\"9\"+a[0]+a[1]+a[2:6])\n",
    "\n",
    "print(a[7:14])\n"
   ]
  },
  {
   "cell_type": "code",
   "execution_count": 23,
   "id": "6a56a5b0",
   "metadata": {},
   "outputs": [
    {
     "name": "stdout",
     "output_type": "stream",
     "text": [
      "1\n"
     ]
    }
   ],
   "source": [
    "a = \"881120-1068234\"\n",
    "\n",
    "print(a[7])"
   ]
  },
  {
   "cell_type": "code",
   "execution_count": 24,
   "id": "6be824fd",
   "metadata": {},
   "outputs": [
    {
     "name": "stdout",
     "output_type": "stream",
     "text": [
      "a#b#c#d\n"
     ]
    }
   ],
   "source": [
    "a=\"a:b:c:d\"\n",
    "\n",
    "print(a.replace(\":\",\"#\"))\n",
    "\n"
   ]
  },
  {
   "cell_type": "code",
   "execution_count": 61,
   "id": "1d704d2b",
   "metadata": {},
   "outputs": [
    {
     "name": "stdout",
     "output_type": "stream",
     "text": [
      "[1, 3, 5, 4, 2]\n",
      "[5, 4, 3, 2, 1]\n"
     ]
    }
   ],
   "source": [
    "a = [1,3,5,4,2]\n",
    "\n",
    "b=a\n",
    "\n",
    "b= a[0:5]\n",
    "\n",
    "b[0] = 5\n",
    "\n",
    "b[1] = 4\n",
    "\n",
    "b[2] = 3\n",
    "\n",
    "b[3] = 2\n",
    "\n",
    "b[4] = 1\n",
    "\n",
    "print(a)\n",
    "print(b)"
   ]
  },
  {
   "cell_type": "code",
   "execution_count": 37,
   "id": "0cf8e3af",
   "metadata": {},
   "outputs": [
    {
     "name": "stdout",
     "output_type": "stream",
     "text": [
      "LIfe is too short\n"
     ]
    }
   ],
   "source": [
    "a = ['LIfe','is','too','short']\n",
    "\n",
    "print(\" \".join(a))"
   ]
  },
  {
   "cell_type": "code",
   "execution_count": 74,
   "id": "1a1e5053",
   "metadata": {},
   "outputs": [
    {
     "name": "stdout",
     "output_type": "stream",
     "text": [
      "[1.2, 4]\n"
     ]
    }
   ],
   "source": [
    "b = [1.2,3]\n",
    "\n",
    "b= a[0:3]\n",
    "\n",
    "\n",
    "a[1]=4\n",
    "\n",
    "print(b)\n"
   ]
  },
  {
   "cell_type": "code",
   "execution_count": null,
   "id": "d3742fc4",
   "metadata": {},
   "outputs": [],
   "source": []
  },
  {
   "cell_type": "code",
   "execution_count": null,
   "id": "ad1ce5bb",
   "metadata": {},
   "outputs": [],
   "source": []
  }
 ],
 "metadata": {
  "kernelspec": {
   "display_name": "Python 3",
   "language": "python",
   "name": "python3"
  },
  "language_info": {
   "codemirror_mode": {
    "name": "ipython",
    "version": 3
   },
   "file_extension": ".py",
   "mimetype": "text/x-python",
   "name": "python",
   "nbconvert_exporter": "python",
   "pygments_lexer": "ipython3",
   "version": "3.8.8"
  }
 },
 "nbformat": 4,
 "nbformat_minor": 5
}
