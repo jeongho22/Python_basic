{
 "cells": [
  {
   "cell_type": "markdown",
   "id": "19de9d51",
   "metadata": {},
   "source": [
    "## 1.파이썬과 MySQL 활용\n",
    "\n",
    "+ 파이썬과 MySql을 연결해주는 모듈 : mysqlclient, PymySQL\n",
    "        - pip install mysqlclient\n",
    "        - pip install PyMySQL"
   ]
  },
  {
   "cell_type": "code",
   "execution_count": 101,
   "id": "d13a6be7",
   "metadata": {},
   "outputs": [
    {
     "name": "stdout",
     "output_type": "stream",
     "text": [
      "<_mysql.connection open to '127.0.0.1' at 000002B7D6F15BF0>\n"
     ]
    }
   ],
   "source": [
    "##### mysqlclient 모듈을 이용한 연결 테스트 \n",
    "\n",
    "import MySQLdb\n",
    "\n",
    "conn = MySQLdb.connect(host=\"127.0.0.1\", user=\"root\", passwd=\"1111\", database=\"testdb\")\n",
    "#conn = MySQLdb.connect(host=\"netsong7.synology.me\", user=\"user2\", \n",
    "#                       password=\"Mysqldb12345!\", database=\"user2db\", port=3307)\n",
    "print(conn)\n",
    "conn.close()"
   ]
  },
  {
   "cell_type": "code",
   "execution_count": 102,
   "id": "b74c8949",
   "metadata": {},
   "outputs": [
    {
     "name": "stdout",
     "output_type": "stream",
     "text": [
      "<pymysql.connections.Connection object at 0x000002B7D8CAEE20>\n"
     ]
    }
   ],
   "source": [
    "##### PyMySQL 모듈을 이용한 연결 테스트 \n",
    "\n",
    "import pymysql\n",
    "\n",
    "conn = pymysql.connect(host=\"127.0.0.1\", user=\"root\", passwd=\"1111\", database=\"testdb\")\n",
    "print(conn)\n",
    "conn.close()"
   ]
  },
  {
   "cell_type": "code",
   "execution_count": 103,
   "id": "93af3f2f",
   "metadata": {},
   "outputs": [],
   "source": [
    "# 바꿀일 있으면 여기서 바꾸면 된다.\n",
    "config = {\"host\":\"127.0.0.1\", \"user\":\"root\", \"passwd\":\"1111\", \"database\":\"testdb\"}"
   ]
  },
  {
   "cell_type": "code",
   "execution_count": 104,
   "id": "ed301e37",
   "metadata": {},
   "outputs": [
    {
     "name": "stdout",
     "output_type": "stream",
     "text": [
      "<pymysql.connections.Connection object at 0x000002B7D8C102E0>\n"
     ]
    }
   ],
   "source": [
    "conn = pymysql.connect(**config)\n",
    "print(conn)\n",
    "conn.close()"
   ]
  },
  {
   "cell_type": "markdown",
   "id": "3045ae57",
   "metadata": {},
   "source": [
    "# (1) select"
   ]
  },
  {
   "cell_type": "code",
   "execution_count": 107,
   "id": "e0ae8dba",
   "metadata": {},
   "outputs": [
    {
     "name": "stdout",
     "output_type": "stream",
     "text": [
      "7369 SMITH CLERK 7902 1980-12-17 00:00:00 800.0 None 20\n",
      "7499 ALLEN SALESMAN 7698 1981-02-20 00:00:00 1600.0 300.0 30\n",
      "7521 WARD SALESMAN 7698 1981-02-22 00:00:00 1250.0 500.0 30\n",
      "7566 JONES MANAGER 7839 1981-04-02 00:00:00 2975.0 None 20\n",
      "7654 MARTIN SALESMAN 7698 1981-09-28 00:00:00 1250.0 1400.0 30\n",
      "[(7369, 'SMITH', 'CLERK', 7902, datetime.datetime(1980, 12, 17, 0, 0), 800.0, None, 20), (7499, 'ALLEN', 'SALESMAN', 7698, datetime.datetime(1981, 2, 20, 0, 0), 1600.0, 300.0, 30), (7521, 'WARD', 'SALESMAN', 7698, datetime.datetime(1981, 2, 22, 0, 0), 1250.0, 500.0, 30), (7566, 'JONES', 'MANAGER', 7839, datetime.datetime(1981, 4, 2, 0, 0), 2975.0, None, 20), (7654, 'MARTIN', 'SALESMAN', 7698, datetime.datetime(1981, 9, 28, 0, 0), 1250.0, 1400.0, 30)]\n"
     ]
    }
   ],
   "source": [
    "conn= MySQLdb.connect(**config)\n",
    "\n",
    "sql = \"select* from emp limit 5\"\n",
    "\n",
    "cur = conn.cursor()\n",
    "cur.execute(sql)\n",
    "\n",
    "#print(cur)\n",
    "#for data in cur:\n",
    "#    print(data)\n",
    "\n",
    "for a,b,c,d,e,f,g,h in cur:\n",
    "    print(a,b,c,d,e,f,g,h)\n",
    "    \n",
    "conn.close()\n",
    "\n",
    "\n",
    "#result = []\n",
    "#for data in cur:\n",
    " #   result.append(data)\n",
    "    \n",
    "#conn.close()\n",
    "\n",
    "print(result)\n"
   ]
  },
  {
   "cell_type": "markdown",
   "id": "9ae00ae2",
   "metadata": {},
   "source": [
    "# (2)INSERT"
   ]
  },
  {
   "cell_type": "code",
   "execution_count": 120,
   "id": "8549619f",
   "metadata": {},
   "outputs": [
    {
     "name": "stdout",
     "output_type": "stream",
     "text": [
      "------------------------------------------\n"
     ]
    }
   ],
   "source": [
    "# 에러 안나는 이유 if not exists\n",
    "\n",
    "sql = \"\"\"create table if not exists tbltest(\n",
    "    empno    int,\n",
    "    ename    varchar(10),\n",
    "    sal      int,\n",
    "    job      varchar(10)\n",
    ")\"\"\"\n",
    "\n",
    "\n",
    "print(\"------------------------------------------\")\n",
    "\n",
    "conn = MySQLdb.connect(**config)\n",
    "\n",
    "cur = conn.cursor()\n",
    "cur.execute(sql)\n",
    "\n",
    "sql = \"insert into tbltest(empno, ename, sal) values(1, 'scott', 5000)\"\n",
    "\n",
    "\n",
    "cur.execute(sql)\n",
    "conn.commit()\n",
    "\n",
    "conn.close()\n",
    "\n",
    "\n",
    "#select * from suppliers;\n",
    "#select * from tbltest;"
   ]
  },
  {
   "cell_type": "code",
   "execution_count": 119,
   "id": "4f84723f",
   "metadata": {},
   "outputs": [],
   "source": []
  },
  {
   "cell_type": "code",
   "execution_count": null,
   "id": "b511473a",
   "metadata": {},
   "outputs": [],
   "source": []
  },
  {
   "cell_type": "code",
   "execution_count": 116,
   "id": "90f26a6a",
   "metadata": {},
   "outputs": [],
   "source": [
    "\n",
    "\n",
    "conn = MySQLdb.connect(**config)\n",
    "cur = conn.cursor()\n",
    "\n",
    "sql = \"insert into tbltest(empno, ename, sal) values(\" \\\n",
    "    + str(empno) + \", '\" + ename + \"', \" + str(sal)+ \")\"\n",
    "    \n",
    "empno = 2\n",
    "ename = \"miller\"\n",
    "sal = 1400\n",
    "\n",
    "\n",
    "    \n",
    "#print(sql)\n",
    "cur.execute(sql)\n",
    "conn.commit()\n",
    "\n",
    "conn.close()"
   ]
  },
  {
   "cell_type": "code",
   "execution_count": 117,
   "id": "7163804c",
   "metadata": {},
   "outputs": [],
   "source": [
    "\n",
    "\n",
    "conn = MySQLdb.connect(**config)\n",
    "cur = conn.cursor()\n",
    "\n",
    "sql = \"insert into tbltest(empno, ename, sal) values(%s, %s, %s)\"\n",
    "sql_data = (str(empno), ename, str(sal))\n",
    "\n",
    "\n",
    "empno = 3\n",
    "ename = \"tom\"\n",
    "sal = 2000\n",
    "\n",
    "\n",
    "cur.execute(sql, sql_data)\n",
    "conn.commit()\n",
    "\n",
    "conn.close()"
   ]
  },
  {
   "cell_type": "code",
   "execution_count": 127,
   "id": "019204ad",
   "metadata": {},
   "outputs": [],
   "source": [
    "\n",
    "\n",
    "try:\n",
    "    conn = MySQLdb.connect(**config)\n",
    "    cur = conn.cursor()\n",
    "    \n",
    "    sql = \"insert into tbltest(empno, ename, sal) values(%s, %s, %s)\"\n",
    "    sql_data = (str(empno), ename, str(sal))\n",
    "\n",
    "    \n",
    "    empno = 4\n",
    "    ename = \"jerry\"\n",
    "    sal = 2000\n",
    "    \n",
    "    \n",
    "    cur.execute(sql, sql_data)\n",
    "    conn.commit()\n",
    "except Exception as e:\n",
    "    print(\"error : \", e)\n",
    "finally:\n",
    "    conn.close()"
   ]
  },
  {
   "cell_type": "code",
   "execution_count": 122,
   "id": "a8e04dfe",
   "metadata": {},
   "outputs": [],
   "source": [
    "##### 데이터 여러 개 입력하기\n",
    "\n",
    "conn = MySQLdb.connect(**config)\n",
    "cur = conn.cursor()\n",
    "\n",
    "for i in range(10):\n",
    "    sql = \"insert into tbltest(empno, ename, sal) values(5, 'jane', 10000)\"\n",
    "    cur.execute(sql)\n",
    "    conn.commit()\n",
    "    \n",
    "conn.close()"
   ]
  },
  {
   "cell_type": "markdown",
   "id": "74d2c306",
   "metadata": {},
   "source": [
    "# (3) cursor\n",
    "\n",
    "1) fetchall(),fetchmany(),fetchon()\n",
    "\n",
    "+ default는 fetchall"
   ]
  },
  {
   "cell_type": "code",
   "execution_count": 123,
   "id": "0d4ec2ed",
   "metadata": {},
   "outputs": [
    {
     "name": "stdout",
     "output_type": "stream",
     "text": [
      "(1, 'scott', 5000, None)\n"
     ]
    }
   ],
   "source": [
    "\n",
    "try:\n",
    "    conn = MySQLdb.connect(**config)\n",
    "    cur = conn.cursor()\n",
    "    \n",
    "    cur.execute(\"select * from tbltest\")\n",
    "    \n",
    "    #for i in cur.fetchall():\n",
    "    #    print(i)\n",
    "    \n",
    "    #for i in cur.fetchmany(5):\n",
    "    #    print(i)\n",
    "    \n",
    "    print(cur.fetchone())\n",
    "        \n",
    "finally:\n",
    "    conn.close()"
   ]
  },
  {
   "cell_type": "markdown",
   "id": "ef9f7b30",
   "metadata": {},
   "source": [
    "### 2) Dictcursor\n",
    "    +필드명을 인덱스 대신 키로 사용"
   ]
  },
  {
   "cell_type": "code",
   "execution_count": 124,
   "id": "43708b6e",
   "metadata": {},
   "outputs": [
    {
     "name": "stdout",
     "output_type": "stream",
     "text": [
      "1 scott 5000\n",
      "3 tom 2000\n",
      "4 jerry 2000\n",
      "5 jane 10000\n",
      "5 jane 10000\n",
      "5 jane 10000\n",
      "5 jane 10000\n",
      "5 jane 10000\n",
      "5 jane 10000\n",
      "5 jane 10000\n",
      "5 jane 10000\n",
      "5 jane 10000\n",
      "5 jane 10000\n",
      "3 tom 2000\n",
      "4 jerry 2000\n",
      "5 jane 10000\n",
      "5 jane 10000\n",
      "5 jane 10000\n",
      "5 jane 10000\n",
      "5 jane 10000\n",
      "5 jane 10000\n",
      "5 jane 10000\n",
      "5 jane 10000\n",
      "5 jane 10000\n",
      "5 jane 10000\n",
      "3 tom 2000\n",
      "4 jerry 2000\n",
      "5 jane 10000\n",
      "5 jane 10000\n",
      "5 jane 10000\n",
      "5 jane 10000\n",
      "5 jane 10000\n",
      "5 jane 10000\n",
      "5 jane 10000\n",
      "5 jane 10000\n",
      "5 jane 10000\n",
      "5 jane 10000\n",
      "1 scott 5000\n",
      "3 tom 2000\n",
      "4 jerry 2000\n",
      "2 miller 1300\n",
      "2 miller 1300\n",
      "2 miller 1300\n",
      "3 tom 2000\n",
      "3 tom 2000\n",
      "1 scott 5000\n",
      "2 miller 1400\n",
      "2 miller 1400\n",
      "1 scott 5000\n",
      "2 miller 1400\n",
      "2 miller 1400\n",
      "4 jerry 2000\n",
      "1 scott 5000\n",
      "4 jerry 2000\n",
      "5 jane 10000\n",
      "5 jane 10000\n",
      "5 jane 10000\n",
      "5 jane 10000\n",
      "5 jane 10000\n",
      "5 jane 10000\n",
      "5 jane 10000\n",
      "5 jane 10000\n",
      "5 jane 10000\n",
      "5 jane 10000\n"
     ]
    }
   ],
   "source": [
    "\n",
    "try:\n",
    "    conn = MySQLdb.connect(**config)\n",
    "    cur = conn.cursor(MySQLdb.cursors.DictCursor)\n",
    "    \n",
    "    cur.execute(\"select * from tbltest\")\n",
    "    \n",
    "    for i in cur.fetchall():\n",
    "        # print(i[0], i[1], i[2])\n",
    "        print(i[\"empno\"], i[\"ename\"], i[\"sal\"])\n",
    "    \n",
    "finally:\n",
    "    conn.close()"
   ]
  },
  {
   "cell_type": "markdown",
   "id": "0b0ce7e4",
   "metadata": {},
   "source": [
    "# 2. 응용 예제\n",
    "\n",
    "### (1) CSV파일을 DB에 저장"
   ]
  },
  {
   "cell_type": "code",
   "execution_count": 82,
   "id": "640aa81b",
   "metadata": {},
   "outputs": [
    {
     "data": {
      "text/plain": [
       "'\\nCREATE TABLE IF NOT EXISTS suppliers(\\n    Supplier_Name    varchar(20),\\n    Invoice_Number   varchar(20),\\n    Part_Number      varchar(20),\\n    Cost             float,\\n    Purchase_Date    date\\n);\\n\\n'"
      ]
     },
     "execution_count": 82,
     "metadata": {},
     "output_type": "execute_result"
    }
   ],
   "source": [
    "\"\"\"\n",
    "CREATE TABLE IF NOT EXISTS suppliers(\n",
    "    Supplier_Name    varchar(20),\n",
    "    Invoice_Number   varchar(20),\n",
    "    Part_Number      varchar(20),\n",
    "    Cost             float,\n",
    "    Purchase_Date    date\n",
    ");\n",
    "\n",
    "\"\"\"\n",
    "    "
   ]
  },
  {
   "cell_type": "code",
   "execution_count": 84,
   "id": "5b149eeb",
   "metadata": {},
   "outputs": [],
   "source": [
    "import csv\n",
    "\n",
    "file= csv.reader (open(\"data/input.csv\"))\n",
    "#print(file)\n",
    "\n",
    "#print(next(file))\n",
    "#print(next(file))\n",
    "#print(next(file))\n",
    "#print(next(file))\n",
    "#print(next(file))\n",
    "\n",
    "next(file)\n",
    "\n",
    "try : \n",
    "    conn = MySQLdb.connect(**config)\n",
    "    cur = conn.cursor()\n",
    " \n",
    "    cur.execute(\"delete from suppliers\")\n",
    "    conn.commit()\n",
    "\n",
    "\n",
    "    for row in file:\n",
    "        #print(row)\n",
    "        cur.execute(\"insert into suppliers values(%s, %s, %s, %s, %s)\",row)\n",
    "        \n",
    "    conn.commit()\n",
    "\n",
    "finally:\n",
    "    conn.close()\n",
    "    \n",
    "    \n",
    "    \n",
    "    \n",
    "#select * from suppliers;\n",
    "    "
   ]
  },
  {
   "cell_type": "markdown",
   "id": "93b4c6ac",
   "metadata": {},
   "source": [
    "## (2) DB에서 가져온 데이터를 파일로 저장"
   ]
  },
  {
   "cell_type": "code",
   "execution_count": 92,
   "id": "e23d9c25",
   "metadata": {},
   "outputs": [],
   "source": [
    "try : \n",
    "    conn = MySQLdb.connect(**config)\n",
    "    cur = conn.cursor()\n",
    "    \n",
    "    cur.execute(\"select * from suppliers where cost > 500000\")\n",
    "\n",
    "    #for i in cur:\n",
    "    #    print(i)\n",
    "    \n",
    "    file = csv.writer(open(\"data/output.csv\",\"w\"), delimiter=\",\")\n",
    "    #구분해서 저장하겠다.\n",
    "    \n",
    "    header = [\"Supplier name\",\"Invoice number\",\"part number\",\"cost\",\"purchase date\"]\n",
    "    file.writerow(header)\n",
    "    \n",
    "    for row in cur:\n",
    "        file.writerow(row)\n",
    "    \n",
    "finally:\n",
    "    conn.close()"
   ]
  },
  {
   "cell_type": "markdown",
   "id": "00198585",
   "metadata": {},
   "source": [
    "# 2. 파이썬과 SQLite"
   ]
  },
  {
   "cell_type": "markdown",
   "id": "78a38dfb",
   "metadata": {},
   "source": [
    "\n",
    "#### (1) 로컬로 사용할 수 있는 DBMS\n",
    "\n",
    "+ Access\n",
    "+ SQLite\n",
    "+ Microsoft SQL Server Compact Edition\n",
    "+ H2\n",
    "+ HSQL\n",
    "+ Apache Derby\n",
    "\n",
    "##### (2) 특징\n",
    "\n",
    "+ 파일기반의 DBMS, 저메모리, 빠른 처리 속도\n",
    "+ 오픈소스\n",
    "+ 별도의 DB서버없이 쉽고 편리하게 사용할 수 있는 Embeded SQL DB엔진\n",
    "\n",
    "+ 안드로이드, 아이폰 등의 스마트폰에 기본 내장된 DB\n",
    "\n",
    "+ 표준 SQL 지원\n",
    "+ Left Outer Join만지원\n",
    "+ 읽기 전용 뷰만 제공\n",
    "\n",
    "#### (3) 공식 사이트\n",
    "\n",
    "+ http://sqlite.org"
   ]
  },
  {
   "cell_type": "code",
   "execution_count": 1,
   "id": "f5af9590",
   "metadata": {},
   "outputs": [],
   "source": [
    "import sqlite3"
   ]
  },
  {
   "cell_type": "code",
   "execution_count": 3,
   "id": "9fd3965c",
   "metadata": {},
   "outputs": [
    {
     "name": "stdout",
     "output_type": "stream",
     "text": [
      "2.6.0\n",
      "3.35.4\n"
     ]
    }
   ],
   "source": [
    "print(sqlite3.version)\n",
    "print(sqlite3.sqlite_version)"
   ]
  },
  {
   "cell_type": "code",
   "execution_count": 4,
   "id": "8dadbd7b",
   "metadata": {},
   "outputs": [
    {
     "data": {
      "text/plain": [
       "<sqlite3.Connection at 0x11290e8b4e0>"
      ]
     },
     "execution_count": 4,
     "metadata": {},
     "output_type": "execute_result"
    }
   ],
   "source": [
    "sqlite3.connect(\"data/sqlitetest.db\")\n",
    "\n",
    "print(conn)\n",
    "conn.close()"
   ]
  },
  {
   "cell_type": "code",
   "execution_count": 5,
   "id": "6c2fbb32",
   "metadata": {},
   "outputs": [
    {
     "name": "stdout",
     "output_type": "stream",
     "text": [
      "('최주현', '하늘과 땅')\n",
      "('최주현', '바다')\n",
      "('유은정', '바다')\n",
      "('박성우', '문')\n",
      "('최주현', '문')\n",
      "('박성우', '천국')\n",
      "('최지은', '천국')\n",
      "('최주현', '천국')\n",
      "('박성우', '고슴도치')\n",
      "('서금동', '나')\n"
     ]
    }
   ],
   "source": [
    "#### Select\n",
    "\n",
    "conn = sqlite3.connect(\"data/sqlitetest.db\")\n",
    "cur = conn.cursor()\n",
    "cur.execute(\"select * from tblbook\")\n",
    "for row in cur:\n",
    "    print(row)\n",
    "    \n",
    "conn.close()"
   ]
  },
  {
   "cell_type": "code",
   "execution_count": 6,
   "id": "17283a95",
   "metadata": {},
   "outputs": [
    {
     "name": "stdout",
     "output_type": "stream",
     "text": [
      "(1, '홍길동', '2020-12-25')\n",
      "(2, '임꺽정', '2022-01-05')\n"
     ]
    }
   ],
   "source": [
    "#### Select\n",
    "\n",
    "conn = sqlite3.connect(\"data/sqlitetest.db\")\n",
    "cur = conn.cursor()\n",
    "cur.execute(\"select * from tblMember\")\n",
    "for row in cur:\n",
    "    print(row)\n",
    "    \n",
    "conn.close()"
   ]
  },
  {
   "cell_type": "code",
   "execution_count": 7,
   "id": "51f19451",
   "metadata": {},
   "outputs": [
    {
     "name": "stdout",
     "output_type": "stream",
     "text": [
      "(1, '홍길동')\n"
     ]
    }
   ],
   "source": [
    "##### 자동으로 DB생성하고 테이블 생성\n",
    "\n",
    "conn = sqlite3.connect(\"data/auto.db\")\n",
    "cur = conn.cursor()\n",
    "\n",
    "sql = \"\"\"\n",
    "    create table if not exists tblmember(\n",
    "        id    int,\n",
    "        name    varchar(10)  \n",
    "    )\n",
    "\"\"\"\n",
    "\n",
    "cur.execute(sql)\n",
    "conn.commit()\n",
    "\n",
    "cur.execute(\"insert into tblmember values(1,'홍길동')\")\n",
    "conn.commit()\n",
    "\n",
    "cur.execute(\"select * from tblmember\")\n",
    "for row in cur:\n",
    "    print(row)\n",
    "    \n",
    "conn.close()"
   ]
  },
  {
   "cell_type": "code",
   "execution_count": 18,
   "id": "795c7565",
   "metadata": {},
   "outputs": [
    {
     "name": "stdout",
     "output_type": "stream",
     "text": [
      "('table', 'tblmember', 'tblmember', 2, 'CREATE TABLE tblmember(\\n        id    int,\\n        name    varchar(10)  \\n    )')\n"
     ]
    },
    {
     "ename": "OperationalError",
     "evalue": "no such table: tbllnput",
     "output_type": "error",
     "traceback": [
      "\u001b[1;31m---------------------------------------------------------------------------\u001b[0m",
      "\u001b[1;31mOperationalError\u001b[0m                          Traceback (most recent call last)",
      "\u001b[1;32m<ipython-input-18-1d8e3960013c>\u001b[0m in \u001b[0;36m<module>\u001b[1;34m\u001b[0m\n\u001b[0;32m     19\u001b[0m \u001b[1;33m\u001b[0m\u001b[0m\n\u001b[0;32m     20\u001b[0m \u001b[1;32mfor\u001b[0m \u001b[0mrow\u001b[0m \u001b[1;32min\u001b[0m \u001b[0mfile\u001b[0m\u001b[1;33m:\u001b[0m\u001b[1;33m\u001b[0m\u001b[1;33m\u001b[0m\u001b[0m\n\u001b[1;32m---> 21\u001b[1;33m     \u001b[0mcur\u001b[0m\u001b[1;33m.\u001b[0m\u001b[0mexecute\u001b[0m\u001b[1;33m(\u001b[0m\u001b[1;34m\"insert into tbllnput values(?,?,?,?,?)\"\u001b[0m\u001b[1;33m,\u001b[0m\u001b[0mrow\u001b[0m\u001b[1;33m)\u001b[0m\u001b[1;33m\u001b[0m\u001b[1;33m\u001b[0m\u001b[0m\n\u001b[0m\u001b[0;32m     22\u001b[0m \u001b[1;33m\u001b[0m\u001b[0m\n\u001b[0;32m     23\u001b[0m \u001b[0mconn\u001b[0m\u001b[1;33m.\u001b[0m\u001b[0mcommit\u001b[0m\u001b[1;33m(\u001b[0m\u001b[1;33m)\u001b[0m\u001b[1;33m\u001b[0m\u001b[1;33m\u001b[0m\u001b[0m\n",
      "\u001b[1;31mOperationalError\u001b[0m: no such table: tbllnput"
     ]
    }
   ],
   "source": [
    "#### csv파일을 읽어들여서 db에 저장\n",
    "\n",
    "import csv\n",
    "\n",
    "conn = sqlite3.connect(\"data/auto.db\")\n",
    "cur = conn.cursor()\n",
    "\n",
    "# 테이블 조회\n",
    "tables = cur.execute(\"select * from sqlite_master where type='table'\")\n",
    "for i in tables:\n",
    "    print(i)\n",
    "    \n",
    "\n",
    "file = csv.reader(open(\"data/input.csv\",\"r\"), delimiter=\",\")\n",
    "#for i in file:\n",
    "#    print(i)\n",
    "    \n",
    "next(file)\n",
    "\n",
    "for row in file:\n",
    "    cur.execute(\"insert into tbllnput values(?,?,?,?,?)\",row)\n",
    "    \n",
    "conn.commit()\n",
    "conn.close()"
   ]
  },
  {
   "cell_type": "code",
   "execution_count": 3,
   "id": "e7f5d94d",
   "metadata": {},
   "outputs": [
    {
     "ename": "OperationalError",
     "evalue": "no such table: tbllnput",
     "output_type": "error",
     "traceback": [
      "\u001b[1;31m---------------------------------------------------------------------------\u001b[0m",
      "\u001b[1;31mOperationalError\u001b[0m                          Traceback (most recent call last)",
      "\u001b[1;32m<ipython-input-3-a0be040be0a4>\u001b[0m in \u001b[0;36m<module>\u001b[1;34m\u001b[0m\n\u001b[0;32m      3\u001b[0m \u001b[1;33m\u001b[0m\u001b[0m\n\u001b[0;32m      4\u001b[0m \u001b[1;33m\u001b[0m\u001b[0m\n\u001b[1;32m----> 5\u001b[1;33m \u001b[0mcur\u001b[0m\u001b[1;33m.\u001b[0m\u001b[0mexecute\u001b[0m\u001b[1;33m(\u001b[0m\u001b[1;34m\"select * from tbllnput\"\u001b[0m\u001b[1;33m)\u001b[0m\u001b[1;33m\u001b[0m\u001b[1;33m\u001b[0m\u001b[0m\n\u001b[0m\u001b[0;32m      6\u001b[0m \u001b[1;32mfor\u001b[0m \u001b[0mi\u001b[0m \u001b[1;32min\u001b[0m \u001b[0mcur\u001b[0m\u001b[1;33m:\u001b[0m\u001b[1;33m\u001b[0m\u001b[1;33m\u001b[0m\u001b[0m\n\u001b[0;32m      7\u001b[0m     \u001b[0mprint\u001b[0m\u001b[1;33m(\u001b[0m\u001b[0mi\u001b[0m\u001b[1;33m)\u001b[0m\u001b[1;33m\u001b[0m\u001b[1;33m\u001b[0m\u001b[0m\n",
      "\u001b[1;31mOperationalError\u001b[0m: no such table: tbllnput"
     ]
    }
   ],
   "source": [
    "conn = sqlite3.connect(\"data/auto.db\")\n",
    "cur = conn.cursor()\n",
    "\n",
    "\n",
    "cur.execute(\"select * from tbllnput\")\n",
    "for i in cur:\n",
    "    print(i)\n",
    "    \n",
    "conn.close()"
   ]
  },
  {
   "cell_type": "markdown",
   "id": "2d6ac8da",
   "metadata": {},
   "source": [
    "# 3. 파이썬과 MongoDB연동\n",
    "\n",
    "+ pip install pymongo"
   ]
  },
  {
   "cell_type": "code",
   "execution_count": 12,
   "id": "cfad6be1",
   "metadata": {},
   "outputs": [],
   "source": [
    "# import pymongo\n",
    "from pymongo import MongoClient"
   ]
  },
  {
   "cell_type": "code",
   "execution_count": 13,
   "id": "dbc865bb",
   "metadata": {},
   "outputs": [
    {
     "name": "stdout",
     "output_type": "stream",
     "text": [
      "MongoClient(host=['127.0.0.1:27017'], document_class=dict, tz_aware=False, connect=True)\n"
     ]
    }
   ],
   "source": [
    "##### 서버연걸\n",
    "\n",
    "conn = MongoClient(\"127.0.0.1\",27017)\n",
    "print(conn)\n",
    "conn.close()"
   ]
  },
  {
   "cell_type": "code",
   "execution_count": 14,
   "id": "ff375dd4",
   "metadata": {},
   "outputs": [
    {
     "name": "stdout",
     "output_type": "stream",
     "text": [
      "Database(MongoClient(host=['127.0.0.1:27017'], document_class=dict, tz_aware=False, connect=True), 'test2')\n"
     ]
    }
   ],
   "source": [
    "### DB연결\n",
    "\n",
    "conn = MongoClient(\"127.0.0.1\",27017)\n",
    "\n",
    "dbname = conn.test2\n",
    "\n",
    "print(dbname)\n",
    "conn.close()"
   ]
  },
  {
   "cell_type": "code",
   "execution_count": 15,
   "id": "3b4f1d0b",
   "metadata": {},
   "outputs": [
    {
     "name": "stdout",
     "output_type": "stream",
     "text": [
      "Collection(Database(MongoClient(host=['127.0.0.1:27017'], document_class=dict, tz_aware=False, connect=True), 'test'), 'articles')\n"
     ]
    }
   ],
   "source": [
    "### collection 연결\n",
    "\n",
    "conn = MongoClient(\"127.0.0.1\",27017)\n",
    "dbname = conn.test\n",
    "\n",
    "# collect = dbname.articles\n",
    "collect = dbname[\"articles\"]\n",
    "\n",
    "print(collect)\n",
    "conn.close()"
   ]
  },
  {
   "cell_type": "markdown",
   "id": "135dda31",
   "metadata": {},
   "source": [
    "# 1) 데이터 입력(1개)"
   ]
  },
  {
   "cell_type": "code",
   "execution_count": 16,
   "id": "73b9193f",
   "metadata": {},
   "outputs": [],
   "source": [
    "conn = MongoClient(\"127.0.0.1\",27017)\n",
    "dbname = conn.test\n",
    "collect = dbname.people"
   ]
  },
  {
   "cell_type": "code",
   "execution_count": 17,
   "id": "1c46f23c",
   "metadata": {},
   "outputs": [
    {
     "name": "stdout",
     "output_type": "stream",
     "text": [
      "4\n",
      "{'_id': ObjectId('61d7bcea24424d51cf7831ca'), 'age': 20.0}\n",
      "{'_id': ObjectId('61d7bcea24424d51cf7831cb'), 'name': 'Betty', 'age': 20.0}\n",
      "{'_id': ObjectId('61d7bcea24424d51cf7831cc'), 'name': 'Charlie', 'age': 23.0, 'skills': ['mongodb', 'nodejs']}\n",
      "{'_id': ObjectId('61d7bcea24424d51cf7831cd'), 'name': 'David', 'age': 23.0}\n"
     ]
    }
   ],
   "source": [
    "print(collect.count_documents({}))\n",
    "\n",
    "for i in collect.find():\n",
    "    print(i)"
   ]
  },
  {
   "cell_type": "code",
   "execution_count": 24,
   "id": "8360b71e",
   "metadata": {},
   "outputs": [
    {
     "data": {
      "text/plain": [
       "<pymongo.results.InsertOneResult at 0x13b9b5b0340>"
      ]
     },
     "execution_count": 24,
     "metadata": {},
     "output_type": "execute_result"
    }
   ],
   "source": [
    "data = {\"author\":\"Mike\",\"text\":\"my first blog post!\",\"tag\":[\"mongdb\",\"python\"]}\n",
    "\n",
    "collect.insert_one(data)"
   ]
  },
  {
   "cell_type": "code",
   "execution_count": 25,
   "id": "4cca3196",
   "metadata": {},
   "outputs": [
    {
     "name": "stdout",
     "output_type": "stream",
     "text": [
      "{'_id': ObjectId('61d7bcea24424d51cf7831ca'), 'age': 20.0}\n",
      "{'_id': ObjectId('61d7bcea24424d51cf7831cb'), 'name': 'Betty', 'age': 20.0}\n",
      "{'_id': ObjectId('61d7bcea24424d51cf7831cc'), 'name': 'Charlie', 'age': 23.0, 'skills': ['mongodb', 'nodejs']}\n",
      "{'_id': ObjectId('61d7bcea24424d51cf7831cd'), 'name': 'David', 'age': 23.0}\n",
      "{'_id': ObjectId('61db9f1f05bddf452d0da6cf'), 'author': 'Mike', 'text': 'my first blog post!', 'tag': ['mongdb', 'python']}\n"
     ]
    }
   ],
   "source": [
    "for i in collect.find():\n",
    "    print(i)"
   ]
  },
  {
   "cell_type": "code",
   "execution_count": 28,
   "id": "0c20f6f5",
   "metadata": {},
   "outputs": [],
   "source": [
    "data = {\"author\":\"Mike\",\"text\":\"my first blog post!\",\"tag\":[\"mongdb\",\"python\"]}\n",
    "post_id = collect.insert_one(data).inserted_id"
   ]
  },
  {
   "cell_type": "code",
   "execution_count": 30,
   "id": "c96bc2fa",
   "metadata": {},
   "outputs": [
    {
     "name": "stdout",
     "output_type": "stream",
     "text": [
      "61db9f2905bddf452d0da6d0\n",
      "{'_id': ObjectId('61d7bcea24424d51cf7831ca'), 'age': 20.0}\n",
      "{'_id': ObjectId('61d7bcea24424d51cf7831cb'), 'name': 'Betty', 'age': 20.0}\n",
      "{'_id': ObjectId('61d7bcea24424d51cf7831cc'), 'name': 'Charlie', 'age': 23.0, 'skills': ['mongodb', 'nodejs']}\n",
      "{'_id': ObjectId('61d7bcea24424d51cf7831cd'), 'name': 'David', 'age': 23.0}\n",
      "{'_id': ObjectId('61db9f1f05bddf452d0da6cf'), 'author': 'Mike', 'text': 'my first blog post!', 'tag': ['mongdb', 'python']}\n",
      "{'_id': ObjectId('61db9f2905bddf452d0da6d0'), 'author': 'Mike', 'text': 'my first blog post!', 'tag': ['mongdb', 'python']}\n"
     ]
    }
   ],
   "source": [
    "print(post_id)\n",
    "\n",
    "for i in collect.find():\n",
    "    print(i)\n",
    "    \n",
    "conn.close()"
   ]
  },
  {
   "cell_type": "code",
   "execution_count": 31,
   "id": "285c74b7",
   "metadata": {},
   "outputs": [],
   "source": [
    "conn = MongoClient(\"127.0.0.1\",27017)\n",
    "dbname = conn.test\n",
    "collect = dbname.people"
   ]
  },
  {
   "cell_type": "code",
   "execution_count": 32,
   "id": "3ae3de46",
   "metadata": {},
   "outputs": [
    {
     "name": "stdout",
     "output_type": "stream",
     "text": [
      "[{'number': 0}, {'number': 1}, {'number': 2}, {'number': 3}, {'number': 4}, {'number': 5}, {'number': 6}, {'number': 7}, {'number': 8}, {'number': 9}]\n"
     ]
    }
   ],
   "source": [
    "datas = []\n",
    "for i in range(10):\n",
    "    data = {\"number\":i}\n",
    "    datas.append(data)\n",
    "    \n",
    "print(datas)"
   ]
  },
  {
   "cell_type": "code",
   "execution_count": 33,
   "id": "290384af",
   "metadata": {},
   "outputs": [
    {
     "data": {
      "text/plain": [
       "<pymongo.results.InsertManyResult at 0x13b9b62d980>"
      ]
     },
     "execution_count": 33,
     "metadata": {},
     "output_type": "execute_result"
    }
   ],
   "source": [
    "# collect.insert_many(datas)\n",
    "\n",
    "collect.insert_many([{\"number\":i}for i in range(10)])"
   ]
  },
  {
   "cell_type": "code",
   "execution_count": 35,
   "id": "50bf995a",
   "metadata": {},
   "outputs": [
    {
     "name": "stdout",
     "output_type": "stream",
     "text": [
      "{'_id': ObjectId('61d7bcea24424d51cf7831ca'), 'age': 20.0}\n",
      "{'_id': ObjectId('61d7bcea24424d51cf7831cb'), 'name': 'Betty', 'age': 20.0}\n",
      "{'_id': ObjectId('61d7bcea24424d51cf7831cc'), 'name': 'Charlie', 'age': 23.0, 'skills': ['mongodb', 'nodejs']}\n",
      "{'_id': ObjectId('61d7bcea24424d51cf7831cd'), 'name': 'David', 'age': 23.0}\n",
      "{'_id': ObjectId('61db9f1f05bddf452d0da6cf'), 'author': 'Mike', 'text': 'my first blog post!', 'tag': ['mongdb', 'python']}\n",
      "{'_id': ObjectId('61db9f2905bddf452d0da6d0'), 'author': 'Mike', 'text': 'my first blog post!', 'tag': ['mongdb', 'python']}\n",
      "{'_id': ObjectId('61dba0fc05bddf452d0da6d2'), 'number': 0}\n",
      "{'_id': ObjectId('61dba0fc05bddf452d0da6d3'), 'number': 1}\n",
      "{'_id': ObjectId('61dba0fc05bddf452d0da6d4'), 'number': 2}\n",
      "{'_id': ObjectId('61dba0fc05bddf452d0da6d5'), 'number': 3}\n",
      "{'_id': ObjectId('61dba0fc05bddf452d0da6d6'), 'number': 4}\n",
      "{'_id': ObjectId('61dba0fc05bddf452d0da6d7'), 'number': 5}\n",
      "{'_id': ObjectId('61dba0fc05bddf452d0da6d8'), 'number': 6}\n",
      "{'_id': ObjectId('61dba0fc05bddf452d0da6d9'), 'number': 7}\n",
      "{'_id': ObjectId('61dba0fc05bddf452d0da6da'), 'number': 8}\n",
      "{'_id': ObjectId('61dba0fc05bddf452d0da6db'), 'number': 9}\n"
     ]
    }
   ],
   "source": [
    "for i in collect.find():\n",
    "    print(i)\n",
    "    \n",
    "conn.close()"
   ]
  },
  {
   "cell_type": "code",
   "execution_count": 36,
   "id": "da8bdbf6",
   "metadata": {},
   "outputs": [
    {
     "name": "stdout",
     "output_type": "stream",
     "text": [
      "Collection(Database(MongoClient(host=['127.0.0.1:27017'], document_class=dict, tz_aware=False, connect=True), 'test'), 'pepole')\n"
     ]
    }
   ],
   "source": [
    "conn = MongoClient(\"127.0.0.1\",27017)\n",
    "\n",
    "dbname = conn.test\n",
    "\n",
    "\n",
    "collect =dbname.pepole\n",
    "\n",
    "print(collect)"
   ]
  },
  {
   "cell_type": "code",
   "execution_count": 37,
   "id": "e7bb3327",
   "metadata": {},
   "outputs": [],
   "source": [
    "for i in collect.find():\n",
    "    print(i)"
   ]
  },
  {
   "cell_type": "code",
   "execution_count": 47,
   "id": "8009f487",
   "metadata": {},
   "outputs": [],
   "source": [
    "#### 나이가 20살인 document 조회\n",
    "\n",
    "for i in collect.find({\"age\":20}):\n",
    "    print(i)"
   ]
  },
  {
   "cell_type": "code",
   "execution_count": 45,
   "id": "99a8e45a",
   "metadata": {},
   "outputs": [],
   "source": [
    "##### 나이가 19세 이상인 document\n",
    "\n",
    "\n",
    "for i in collect.find({\"age\":{\"$gte\":19}}):\n",
    "    print(i)"
   ]
  },
  {
   "cell_type": "code",
   "execution_count": 49,
   "id": "1c01b130",
   "metadata": {},
   "outputs": [
    {
     "name": "stdout",
     "output_type": "stream",
     "text": [
      "None\n",
      "None\n"
     ]
    }
   ],
   "source": [
    "print(collect.find_one())\n",
    "print(collect.find_one({\"age\":{\"$gte\":19}}))"
   ]
  },
  {
   "cell_type": "markdown",
   "id": "43e38b1b",
   "metadata": {},
   "source": [
    "### 4)  수정"
   ]
  },
  {
   "cell_type": "code",
   "execution_count": 50,
   "id": "cf6824f9",
   "metadata": {},
   "outputs": [],
   "source": [
    "conn = MongoClient(\"127.0.0.1\",27017)\n",
    "\n",
    "dbname = conn.test\n",
    "\n",
    "collect =dbname.pepole"
   ]
  },
  {
   "cell_type": "code",
   "execution_count": 51,
   "id": "3cc0b370",
   "metadata": {},
   "outputs": [
    {
     "name": "stdout",
     "output_type": "stream",
     "text": [
      "None\n"
     ]
    }
   ],
   "source": [
    "print(collect.find_one({\"author\":\"Tom\"}))"
   ]
  },
  {
   "cell_type": "code",
   "execution_count": 52,
   "id": "955ebc1f",
   "metadata": {},
   "outputs": [
    {
     "data": {
      "text/plain": [
       "<pymongo.results.UpdateResult at 0x13b9b05eac0>"
      ]
     },
     "execution_count": 52,
     "metadata": {},
     "output_type": "execute_result"
    }
   ],
   "source": [
    "collect.update_one({\"author\":\"Tom\"},{\"$set\":{\"text\": \"my second blog post!\"}})"
   ]
  },
  {
   "cell_type": "code",
   "execution_count": 53,
   "id": "d224e899",
   "metadata": {},
   "outputs": [
    {
     "name": "stdout",
     "output_type": "stream",
     "text": [
      "None\n"
     ]
    }
   ],
   "source": [
    "print(collect.find_one({\"author\":\"Tom\"}))"
   ]
  },
  {
   "cell_type": "code",
   "execution_count": null,
   "id": "3f2ed5e8",
   "metadata": {},
   "outputs": [],
   "source": []
  }
 ],
 "metadata": {
  "kernelspec": {
   "display_name": "Python 3",
   "language": "python",
   "name": "python3"
  },
  "language_info": {
   "codemirror_mode": {
    "name": "ipython",
    "version": 3
   },
   "file_extension": ".py",
   "mimetype": "text/x-python",
   "name": "python",
   "nbconvert_exporter": "python",
   "pygments_lexer": "ipython3",
   "version": "3.8.8"
  }
 },
 "nbformat": 4,
 "nbformat_minor": 5
}
