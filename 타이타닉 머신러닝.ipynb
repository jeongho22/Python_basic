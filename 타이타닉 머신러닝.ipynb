{
 "cells": [
  {
   "cell_type": "code",
   "execution_count": 66,
   "id": "c291dac2",
   "metadata": {},
   "outputs": [],
   "source": [
    "## 머신러닝\n",
    "\n",
    "import numpy as np\n",
    "import pandas as pd\n",
    "import matplotlib.pyplot as plt\n",
    "import seaborn as sns\n",
    "\n",
    "from sklearn.model_selection import train_test_split\n",
    "from sklearn.model_selection import KFold, cross_val_score, cross_val_predict\n",
    "from sklearn import metrics\n",
    "\n",
    "from sklearn import svm\n",
    "from sklearn.linear_model import LogisticRegression\n",
    "from sklearn.ensemble import RandomForestClassifier\n",
    "from sklearn.neighbors import KNeighborsClassifier\n",
    "from sklearn.tree import DecisionTreeClassifier"
   ]
  },
  {
   "cell_type": "code",
   "execution_count": 67,
   "id": "10d7605d",
   "metadata": {},
   "outputs": [],
   "source": [
    "# 데이터 불러오기\n",
    "df = pd.read_csv(\"../pythonwork/ai/data/data1/train.csv\")\n",
    "\n",
    "df.drop(['PassengerId','Name','Sex','Ticket','Cabin','Embarked','SibSp','Parch'],axis=1 ,inplace=True)\n"
   ]
  },
  {
   "cell_type": "code",
   "execution_count": 68,
   "id": "9468541a",
   "metadata": {},
   "outputs": [
    {
     "data": {
      "text/plain": [
       "Survived    0\n",
       "Pclass      0\n",
       "Age         0\n",
       "Fare        0\n",
       "dtype: int64"
      ]
     },
     "execution_count": 68,
     "metadata": {},
     "output_type": "execute_result"
    }
   ],
   "source": [
    "# 결측치 제거\n",
    "\n",
    "\n",
    "df =df.dropna()\n",
    "\n",
    "df\n",
    "\n",
    "df.isnull().sum()"
   ]
  },
  {
   "cell_type": "code",
   "execution_count": 69,
   "id": "695fc015",
   "metadata": {},
   "outputs": [],
   "source": [
    "# df1 = df.drop(['PassengerId','Name','Sex','Ticket','Cabin','Embarked','SibSp','Parch'],axis=1)"
   ]
  },
  {
   "cell_type": "code",
   "execution_count": 70,
   "id": "890bd293",
   "metadata": {},
   "outputs": [
    {
     "name": "stderr",
     "output_type": "stream",
     "text": [
      "C:\\anaconda3\\lib\\site-packages\\seaborn\\_decorators.py:36: FutureWarning: Pass the following variable as a keyword arg: x. From version 0.12, the only valid positional argument will be `data`, and passing other arguments without an explicit keyword will result in an error or misinterpretation.\n",
      "  warnings.warn(\n"
     ]
    },
    {
     "data": {
      "text/plain": [
       "<AxesSubplot:xlabel='Survived', ylabel='count'>"
      ]
     },
     "execution_count": 70,
     "metadata": {},
     "output_type": "execute_result"
    },
    {
     "data": {
      "image/png": "[encoded data removed]",
      "text/plain": [
       "<Figure size 432x288 with 1 Axes>"
      ]
     },
     "metadata": {
      "needs_background": "light"
     },
     "output_type": "display_data"
    }
   ],
   "source": [
    "sns.countplot(df['Survived'])\n",
    "\n",
    "#0 사망\n",
    "#1 생존"
   ]
  },
  {
   "cell_type": "code",
   "execution_count": 71,
   "id": "03764319",
   "metadata": {},
   "outputs": [],
   "source": [
    "train, test = train_test_split(df, test_size=0.2, random_state=2019)\n",
    "\n",
    "# 훈련 0.8 , 테스트 0.2 를쓰겠다..."
   ]
  },
  {
   "cell_type": "code",
   "execution_count": 72,
   "id": "be7afe7b",
   "metadata": {},
   "outputs": [
    {
     "name": "stdout",
     "output_type": "stream",
     "text": [
      "571 143\n"
     ]
    }
   ],
   "source": [
    "x_train = train.drop(['Survived'], axis=1)\n",
    "y_train = train.Survived\n",
    "\n",
    "# x -> y도출하고 싶은거닌깐 x에는 y가 없어야한다. \n",
    "\n",
    "x_test = test.drop(['Survived'],axis=1)\n",
    "y_test = test.Survived\n",
    "\n",
    "print(len(train),len(test)) #712개를 훈련시켜 179개를 시험해본다"
   ]
  },
  {
   "cell_type": "markdown",
   "id": "c78928aa",
   "metadata": {},
   "source": [
    "# 1. SVM 서포트 벡터 머신"
   ]
  },
  {
   "cell_type": "code",
   "execution_count": 81,
   "id": "7d5f887a",
   "metadata": {},
   "outputs": [
    {
     "name": "stdout",
     "output_type": "stream",
     "text": [
      "SVM: 0.6433566433566433\n"
     ]
    }
   ],
   "source": [
    "\n",
    "model = svm.SVC(gamma='scale')\n",
    "model.fit(x_train,y_train)    #모델 학습(훈련)\n",
    "\n",
    "y_pred = model.predict(x_test) # x테스트를 시험하면 y 가나온다.\n",
    "\n",
    "print('SVM:', (metrics.accuracy_score(y_pred,y_test))) # 정확도 측정 \n",
    "\n",
    "# y_pred 예측한값과 y_test의 정답값을 비교해서 그것의 차이를보여줘라\n",
    "\n"
   ]
  },
  {
   "cell_type": "markdown",
   "id": "55bb003b",
   "metadata": {},
   "source": [
    "# 2.DecisionTreeClassifier"
   ]
  },
  {
   "cell_type": "code",
   "execution_count": 82,
   "id": "422f922f",
   "metadata": {},
   "outputs": [
    {
     "name": "stdout",
     "output_type": "stream",
     "text": [
      "DecisionTreeClassifier: 0.6573426573426573\n"
     ]
    }
   ],
   "source": [
    "model = DecisionTreeClassifier()\n",
    "model.fit(x_train,y_train)\n",
    "y_pred = model.predict(x_test)\n",
    "print('DecisionTreeClassifier:', (metrics.accuracy_score(y_pred,y_test)))"
   ]
  },
  {
   "cell_type": "markdown",
   "id": "7339541f",
   "metadata": {},
   "source": [
    "# 3.KNeighborsClassifier"
   ]
  },
  {
   "cell_type": "code",
   "execution_count": 83,
   "id": "ce9262ba",
   "metadata": {},
   "outputs": [
    {
     "name": "stdout",
     "output_type": "stream",
     "text": [
      "KNeighborsClassifier: 0.6293706293706294\n"
     ]
    }
   ],
   "source": [
    "model = KNeighborsClassifier()\n",
    "model.fit(x_train,y_train)\n",
    "y_pred = model.predict(x_test)\n",
    "print('KNeighborsClassifier:', (metrics.accuracy_score(y_pred,y_test)))"
   ]
  },
  {
   "cell_type": "markdown",
   "id": "4a64e437",
   "metadata": {},
   "source": [
    "# 4.LogisticRegression"
   ]
  },
  {
   "cell_type": "code",
   "execution_count": 84,
   "id": "0d30fe87",
   "metadata": {},
   "outputs": [
    {
     "name": "stdout",
     "output_type": "stream",
     "text": [
      "LogisticRegression: 0.6573426573426573\n"
     ]
    }
   ],
   "source": [
    "model = LogisticRegression()\n",
    "model.fit(x_train,y_train)\n",
    "y_pred = model.predict(x_test)\n",
    "print('LogisticRegression:', (metrics.accuracy_score(y_pred,y_test)))"
   ]
  },
  {
   "cell_type": "markdown",
   "id": "6b2df89a",
   "metadata": {},
   "source": [
    "# 5.RandomForestClassifier"
   ]
  },
  {
   "cell_type": "code",
   "execution_count": 85,
   "id": "e72ddbfe",
   "metadata": {},
   "outputs": [
    {
     "name": "stdout",
     "output_type": "stream",
     "text": [
      "RandomForestClassifier: 0.6643356643356644\n"
     ]
    }
   ],
   "source": [
    "model = RandomForestClassifier()\n",
    "model.fit(x_train,y_train)\n",
    "y_pred = model.predict(x_test)\n",
    "print('RandomForestClassifier:', (metrics.accuracy_score(y_pred,y_test)))"
   ]
  },
  {
   "cell_type": "markdown",
   "id": "94bc5cc8",
   "metadata": {},
   "source": [
    "# 매개변수 어떤게 중요한가? Features"
   ]
  },
  {
   "cell_type": "code",
   "execution_count": 88,
   "id": "a8276670",
   "metadata": {},
   "outputs": [
    {
     "name": "stdout",
     "output_type": "stream",
     "text": [
      "Fare      0.467921\n",
      "Age       0.421919\n",
      "Pclass    0.110161\n",
      "dtype: float64\n"
     ]
    }
   ],
   "source": [
    "features = pd.Series(\n",
    "    model.feature_importances_,  #매개변수의 중요도 예상\n",
    "    index=x_train.columns\n",
    ").sort_values(ascending=False)\n",
    "\n",
    "print(features)\n",
    "\n",
    "\n",
    "#모델 변수에 있어 어떤 파라미터(매개변수) 가 중요한지 계산한다. "
   ]
  },
  {
   "cell_type": "markdown",
   "id": "a29b3d6a",
   "metadata": {},
   "source": [
    "# 가장 높은 feature 2개로 다시 해보기."
   ]
  },
  {
   "cell_type": "code",
   "execution_count": 89,
   "id": "3999a139",
   "metadata": {},
   "outputs": [
    {
     "name": "stdout",
     "output_type": "stream",
     "text": [
      "Index(['Fare', 'Age'], dtype='object')\n"
     ]
    }
   ],
   "source": [
    "top2 = features.keys()[:2]\n",
    "\n",
    "print(top2)"
   ]
  },
  {
   "cell_type": "code",
   "execution_count": 90,
   "id": "879e567a",
   "metadata": {},
   "outputs": [
    {
     "name": "stdout",
     "output_type": "stream",
     "text": [
      "SVM(Top 2): 64.33566433566433\n"
     ]
    }
   ],
   "source": [
    "model = svm.SVC(gamma='scale')\n",
    "model.fit(x_train[top2], y_train)\n",
    "\n",
    "y_pred = model.predict(x_test[top2])\n",
    "\n",
    "print('SVM(Top 2):',(metrics.accuracy_score(y_pred, y_test) * 100))\n",
    "\n",
    "\n",
    "# y_pred 예측한값과 y_test의 정답값을 비교해서 그것의 차이를보여줘라"
   ]
  },
  {
   "cell_type": "markdown",
   "id": "71a62cb3",
   "metadata": {},
   "source": [
    "# Cross Validaiton (Tedious) 교차 검증\n",
    "\n",
    "### 데이터 셋이 적을때 쓴다...\n"
   ]
  },
  {
   "cell_type": "code",
   "execution_count": 91,
   "id": "b5e15606",
   "metadata": {},
   "outputs": [
    {
     "name": "stdout",
     "output_type": "stream",
     "text": [
      "[0.6433566433566433, 0.6713286713286714, 0.6503496503496503, 0.6433566433566433, 0.6971830985915493]\n"
     ]
    }
   ],
   "source": [
    "# 긴코드\n",
    "\n",
    "\n",
    "model = svm.SVC(gamma='scale')\n",
    "\n",
    "cv = KFold(n_splits=5, shuffle=True, random_state=2019) # 총 5번 literation 5번을 돈다는뜻\n",
    "\n",
    "accs = []\n",
    "\n",
    "for train_index, test_index in cv.split(df[top2]):\n",
    "    x_train = df.iloc[train_index][top2]\n",
    "    y_train = df.iloc[train_index].Survived\n",
    "    \n",
    "    x_test = df.iloc[test_index][top2]\n",
    "    y_test = df.iloc[test_index].Survived\n",
    "\n",
    "    model.fit(x_train, y_train)\n",
    "    \n",
    "    y_pred = model.predict(x_test)\n",
    "\n",
    "    accs.append(metrics.accuracy_score(y_test, y_pred))\n",
    "\n",
    "print(accs)"
   ]
  },
  {
   "cell_type": "code",
   "execution_count": 95,
   "id": "9b570568",
   "metadata": {},
   "outputs": [
    {
     "name": "stdout",
     "output_type": "stream",
     "text": [
      "[0.64335664 0.67132867 0.65034965 0.64335664 0.6971831 ]\n"
     ]
    }
   ],
   "source": [
    "# 짧은코드\n",
    "\n",
    "model = svm.SVC(gamma='scale')\n",
    "\n",
    "cv = KFold(n_splits=5,shuffle=True, random_state=2019)\n",
    "\n",
    "accs = cross_val_score(model, df[top2], df.Survived, cv=cv)\n",
    "                             # X데이터   Y데이터\n",
    "print(accs)"
   ]
  },
  {
   "cell_type": "markdown",
   "id": "63da9753",
   "metadata": {},
   "source": [
    "# Test All models"
   ]
  },
  {
   "cell_type": "code",
   "execution_count": 97,
   "id": "9b1af294",
   "metadata": {},
   "outputs": [
    {
     "name": "stdout",
     "output_type": "stream",
     "text": [
      "SVM: 66.11%\n",
      "DecisionTreeClassifier: 63.17%\n",
      "KNeighborsClassifier: 65.97%\n",
      "LogisticRegression: 65.27%\n",
      "RandomForestClassifier: 66.39%\n"
     ]
    }
   ],
   "source": [
    "models = {\n",
    "    'SVM': svm.SVC(gamma='scale'),\n",
    "    'DecisionTreeClassifier': DecisionTreeClassifier(),\n",
    "    'KNeighborsClassifier': KNeighborsClassifier(),\n",
    "    'LogisticRegression': LogisticRegression(solver='lbfgs', max_iter=2000),\n",
    "    'RandomForestClassifier': RandomForestClassifier(n_estimators=100)\n",
    "}\n",
    "\n",
    "cv = KFold(n_splits=5,shuffle=True, random_state=2019)\n",
    "\n",
    "for name, model in models.items():\n",
    "    scores = cross_val_score(model, df[top2], df.Survived, cv=cv)\n",
    "    \n",
    "    print('%s: %.2f%%' % (name, np.mean(scores) * 100))"
   ]
  },
  {
   "cell_type": "markdown",
   "id": "d0eb0945",
   "metadata": {},
   "source": [
    "# Normalize Dataset"
   ]
  },
  {
   "cell_type": "code",
   "execution_count": 99,
   "id": "58ba8c79",
   "metadata": {},
   "outputs": [
    {
     "name": "stdout",
     "output_type": "stream",
     "text": [
      "SVM: 68.35%\n",
      "DecisionTreeClassifier: 63.30%\n",
      "KNeighborsClassifier: 63.87%\n",
      "LogisticRegression: 63.59%\n",
      "RandomForestClassifier: 65.83%\n"
     ]
    }
   ],
   "source": [
    "from sklearn.preprocessing import MinMaxScaler\n",
    "\n",
    "scaler = MinMaxScaler(feature_range=(0, 1))\n",
    "scaled_data = scaler.fit_transform(df[top2])\n",
    "\n",
    "models = {\n",
    "    'SVM': svm.SVC(gamma='scale'),\n",
    "    'DecisionTreeClassifier': DecisionTreeClassifier(),\n",
    "    'KNeighborsClassifier': KNeighborsClassifier(),\n",
    "    'LogisticRegression': LogisticRegression(solver='lbfgs', max_iter=2000),\n",
    "    'RandomForestClassifier': RandomForestClassifier(n_estimators=100)\n",
    "}\n",
    "\n",
    "cv = KFold(n_splits=5,shuffle=True, random_state=2019)\n",
    "\n",
    "for name, model in models.items():\n",
    "    scores = cross_val_score(model, scaled_data, df.Survived, cv=cv)\n",
    "    \n",
    "    print('%s: %.2f%%' % (name, np.mean(scores) * 100))"
   ]
  },
  {
   "cell_type": "code",
   "execution_count": null,
   "id": "22ff35f8",
   "metadata": {},
   "outputs": [],
   "source": []
  }
 ],
 "metadata": {
  "kernelspec": {
   "display_name": "Python 3",
   "language": "python",
   "name": "python3"
  },
  "language_info": {
   "codemirror_mode": {
    "name": "ipython",
    "version": 3
   },
   "file_extension": ".py",
   "mimetype": "text/x-python",
   "name": "python",
   "nbconvert_exporter": "python",
   "pygments_lexer": "ipython3",
   "version": "3.8.8"
  }
 },
 "nbformat": 4,
 "nbformat_minor": 5
}
